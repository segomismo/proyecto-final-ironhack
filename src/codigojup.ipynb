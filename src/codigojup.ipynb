{
 "cells": [
  {
   "cell_type": "code",
   "execution_count": 1,
   "metadata": {},
   "outputs": [
    {
     "name": "stderr",
     "output_type": "stream",
     "text": [
      "[WDM] - Downloading: 100%|██████████| 8.82M/8.82M [00:00<00:00, 12.6MB/s]\n",
      "/var/folders/bw/khd8ptmn3_9fkbzj7_596v7c0000gn/T/ipykernel_4085/1871130950.py:14: DeprecationWarning: executable_path has been deprecated, please pass in a Service object\n",
      "  driver = webdriver.Chrome(PATH)\n"
     ]
    }
   ],
   "source": [
    "from selenium import webdriver\n",
    "from webdriver_manager.chrome import ChromeDriverManager\n",
    "from selenium.webdriver.common.by import By\n",
    "import time\n",
    "import warnings\n",
    "import random\n",
    "\n",
    "\n",
    "with open(\"../con.txt\", \"r\") as user:\n",
    "    usuario = user.readline().strip()\n",
    "    passw = user.readline().strip()\n",
    "\n",
    "PATH = ChromeDriverManager().install() \n",
    "driver = webdriver.Chrome(PATH)\n",
    "driver.get(\"https://www.instagram.com/natgeo/\")\n",
    "time.sleep(random.randint(4,6))\n",
    "elemento = driver.find_element(By.XPATH, '/html/body/div[2]/div/div/div[2]/div/div/div[1]/div/div[2]/div/div/div/div/div[2]/div/button[1]')\n",
    "elemento.click()\n",
    "\n",
    "time.sleep(random.randint(3,5))\n",
    "elemento = driver.find_element(By.XPATH, '/html/body/div[2]/div/div/div[1]/div/div/div/div[1]/section/nav/div[2]/div/div/div[3]/div/div[2]/div[1]/a/button')\n",
    "elemento.click()\n",
    "\n",
    "time.sleep(random.randint(3,5))\n",
    "elemento = driver.find_element(By.XPATH, '/html/body/div[2]/div/div/div[1]/div/div/div/div[1]/section/main/div/div/div[1]/div[2]/form/div/div[1]/div/label/input')\n",
    "elemento.send_keys(usuario)\n",
    "\n",
    "time.sleep(random.randint(1,3))\n",
    "elemento = driver.find_element(By.XPATH, '/html/body/div[2]/div/div/div[1]/div/div/div/div[1]/section/main/div/div/div[1]/div[2]/form/div/div[2]/div/label/input')\n",
    "elemento.send_keys(passw)\n",
    "\n",
    "time.sleep(random.randint(2,3))\n",
    "elemento = driver.find_element(By.XPATH, '/html/body/div[2]/div/div/div[1]/div/div/div/div[1]/section/main/div/div/div[1]/div[2]/form/div/div[3]/button')\n",
    "elemento.click()\n",
    "\n",
    "time.sleep(random.randint(6,8))\n",
    "elemento = driver.find_element(By.XPATH, '/html/body/div[2]/div/div/div[1]/div/div/div/div[1]/div[1]/div[2]/section/main/div/div/div/div/button')\n",
    "elemento.click()\n"
   ]
  },
  {
   "cell_type": "code",
   "execution_count": 43,
   "metadata": {},
   "outputs": [],
   "source": [
    "#Vamos a crear un dataframe con los datos que hemos obtenido\n",
    "import pandas as pd\n",
    "import numpy as np\n",
    "import matplotlib.pyplot as plt\n",
    "import seaborn as sns\n",
    "\n",
    "df = pd.DataFrame(columns=['pg_direccion', 'pg_nombre', 'pg_descripcion', 'pg_numero_de_publicaciones', 'pg_seguidores', 'pg_seguidos'])"
   ]
  },
  {
   "cell_type": "code",
   "execution_count": 46,
   "metadata": {},
   "outputs": [
    {
     "ename": "TypeError",
     "evalue": "append() missing 1 required positional argument: 'other'",
     "output_type": "error",
     "traceback": [
      "\u001b[0;31m---------------------------------------------------------------------------\u001b[0m",
      "\u001b[0;31mTypeError\u001b[0m                                 Traceback (most recent call last)",
      "\u001b[0;32m/var/folders/bw/khd8ptmn3_9fkbzj7_596v7c0000gn/T/ipykernel_4085/3012941683.py\u001b[0m in \u001b[0;36m<module>\u001b[0;34m\u001b[0m\n\u001b[0;32m----> 1\u001b[0;31m \u001b[0mdf\u001b[0m\u001b[0;34m.\u001b[0m\u001b[0mappend\u001b[0m\u001b[0;34m(\u001b[0m\u001b[0;34m)\u001b[0m\u001b[0;34m\u001b[0m\u001b[0;34m\u001b[0m\u001b[0m\n\u001b[0m",
      "\u001b[0;31mTypeError\u001b[0m: append() missing 1 required positional argument: 'other'"
     ]
    }
   ],
   "source": []
  },
  {
   "cell_type": "code",
   "execution_count": 54,
   "metadata": {},
   "outputs": [
    {
     "ename": "AttributeError",
     "evalue": "'method' object has no attribute 'pg_numero_de_publicaciones'",
     "output_type": "error",
     "traceback": [
      "\u001b[0;31m---------------------------------------------------------------------------\u001b[0m",
      "\u001b[0;31mAttributeError\u001b[0m                            Traceback (most recent call last)",
      "\u001b[0;32m/var/folders/bw/khd8ptmn3_9fkbzj7_596v7c0000gn/T/ipykernel_4085/2404081623.py\u001b[0m in \u001b[0;36m<module>\u001b[0;34m\u001b[0m\n\u001b[1;32m      1\u001b[0m \u001b[0mdatos\u001b[0m \u001b[0;34m=\u001b[0m \u001b[0mdriver\u001b[0m\u001b[0;34m.\u001b[0m\u001b[0mfind_elements\u001b[0m\u001b[0;34m(\u001b[0m\u001b[0mBy\u001b[0m\u001b[0;34m.\u001b[0m\u001b[0mCLASS_NAME\u001b[0m\u001b[0;34m,\u001b[0m \u001b[0;34m'_ac2a'\u001b[0m\u001b[0;34m)\u001b[0m\u001b[0;34m\u001b[0m\u001b[0;34m\u001b[0m\u001b[0m\n\u001b[0;32m----> 2\u001b[0;31m \u001b[0mdf\u001b[0m\u001b[0;34m.\u001b[0m\u001b[0mpg_numero_de_publicaciones\u001b[0m \u001b[0;34m=\u001b[0m \u001b[0mdatos\u001b[0m\u001b[0;34m[\u001b[0m\u001b[0;36m0\u001b[0m\u001b[0;34m]\u001b[0m\u001b[0;34m.\u001b[0m\u001b[0mtext\u001b[0m\u001b[0;34m\u001b[0m\u001b[0;34m\u001b[0m\u001b[0m\n\u001b[0m\u001b[1;32m      3\u001b[0m \u001b[0mdf\u001b[0m\u001b[0;34m.\u001b[0m\u001b[0mpg_seguidores\u001b[0m \u001b[0;34m=\u001b[0m \u001b[0mdatos\u001b[0m\u001b[0;34m[\u001b[0m\u001b[0;36m1\u001b[0m\u001b[0;34m]\u001b[0m\u001b[0;34m.\u001b[0m\u001b[0mtext\u001b[0m\u001b[0;34m\u001b[0m\u001b[0;34m\u001b[0m\u001b[0m\n\u001b[1;32m      4\u001b[0m \u001b[0mdf\u001b[0m\u001b[0;34m.\u001b[0m\u001b[0mpg_seguidos\u001b[0m \u001b[0;34m=\u001b[0m \u001b[0mdatos\u001b[0m\u001b[0;34m[\u001b[0m\u001b[0;36m2\u001b[0m\u001b[0;34m]\u001b[0m\u001b[0;34m.\u001b[0m\u001b[0mtext\u001b[0m\u001b[0;34m\u001b[0m\u001b[0;34m\u001b[0m\u001b[0m\n\u001b[1;32m      5\u001b[0m \u001b[0mdatos\u001b[0m\u001b[0;34m[\u001b[0m\u001b[0;36m0\u001b[0m\u001b[0;34m]\u001b[0m\u001b[0;34m.\u001b[0m\u001b[0mtext\u001b[0m\u001b[0;34m,\u001b[0m \u001b[0mdatos\u001b[0m\u001b[0;34m[\u001b[0m\u001b[0;36m1\u001b[0m\u001b[0;34m]\u001b[0m\u001b[0;34m.\u001b[0m\u001b[0mtext\u001b[0m\u001b[0;34m,\u001b[0m \u001b[0mdatos\u001b[0m\u001b[0;34m[\u001b[0m\u001b[0;36m2\u001b[0m\u001b[0;34m]\u001b[0m\u001b[0;34m.\u001b[0m\u001b[0mtext\u001b[0m\u001b[0;34m\u001b[0m\u001b[0;34m\u001b[0m\u001b[0m\n",
      "\u001b[0;31mAttributeError\u001b[0m: 'method' object has no attribute 'pg_numero_de_publicaciones'"
     ]
    }
   ],
   "source": [
    "datos = driver.find_elements(By.CLASS_NAME, '_ac2a')\n",
    "df.pg_numero_de_publicaciones = datos[0].text\n",
    "df.pg_seguidores = datos[1].text\n",
    "df.pg_seguidos = datos[2].text\n",
    "datos[0].text, datos[1].text, datos[2].text\n",
    "\n",
    "#el [0] es el numero de publiaciones\n",
    "#el [1] es el numero de seguidores\n",
    "#el [2] es el numero de seguidos\n",
    "\n"
   ]
  },
  {
   "cell_type": "code",
   "execution_count": 55,
   "metadata": {},
   "outputs": [
    {
     "data": {
      "text/plain": [
       "<bound method DataFrame.append of Empty DataFrame\n",
       "Columns: [pg_direccion, pg_nombre, pg_descripcion, pg_numero_de_publicaciones, pg_seguidores, pg_seguidos]\n",
       "Index: []>"
      ]
     },
     "execution_count": 55,
     "metadata": {},
     "output_type": "execute_result"
    }
   ],
   "source": [
    "df"
   ]
  },
  {
   "cell_type": "code",
   "execution_count": 3,
   "metadata": {},
   "outputs": [
    {
     "data": {
      "text/plain": [
       "'natgeo'"
      ]
     },
     "execution_count": 3,
     "metadata": {},
     "output_type": "execute_result"
    }
   ],
   "source": [
    "datos2 = driver.find_elements(By.TAG_NAME, 'h2')\n",
    "datos2[0].text\n",
    "#el numero [0] contiene el nombre de la cuenta\n"
   ]
  },
  {
   "cell_type": "code",
   "execution_count": 45,
   "metadata": {},
   "outputs": [
    {
     "data": {
      "text/html": [
       "<div>\n",
       "<style scoped>\n",
       "    .dataframe tbody tr th:only-of-type {\n",
       "        vertical-align: middle;\n",
       "    }\n",
       "\n",
       "    .dataframe tbody tr th {\n",
       "        vertical-align: top;\n",
       "    }\n",
       "\n",
       "    .dataframe thead th {\n",
       "        text-align: right;\n",
       "    }\n",
       "</style>\n",
       "<table border=\"1\" class=\"dataframe\">\n",
       "  <thead>\n",
       "    <tr style=\"text-align: right;\">\n",
       "      <th></th>\n",
       "      <th>pg_direccion</th>\n",
       "      <th>pg_nombre</th>\n",
       "      <th>pg_descripcion</th>\n",
       "      <th>pg_numero_de_publicaciones</th>\n",
       "      <th>pg_seguidores</th>\n",
       "      <th>pg_seguidos</th>\n",
       "    </tr>\n",
       "  </thead>\n",
       "  <tbody>\n",
       "  </tbody>\n",
       "</table>\n",
       "</div>"
      ],
      "text/plain": [
       "Empty DataFrame\n",
       "Columns: [pg_direccion, pg_nombre, pg_descripcion, pg_numero_de_publicaciones, pg_seguidores, pg_seguidos]\n",
       "Index: []"
      ]
     },
     "execution_count": 45,
     "metadata": {},
     "output_type": "execute_result"
    }
   ],
   "source": [
    "df"
   ]
  },
  {
   "cell_type": "code",
   "execution_count": 12,
   "metadata": {},
   "outputs": [
    {
     "data": {
      "text/plain": [
       "('National Geographic',\n",
       " 'Experience the world through the eyes of National Geographic photographers.\\non.natgeo.com/instagram')"
      ]
     },
     "execution_count": 12,
     "metadata": {},
     "output_type": "execute_result"
    }
   ],
   "source": [
    "datos3 = driver.find_elements(By.CLASS_NAME, '_aa_c')\n",
    "datos3[0].text\n",
    "datos4 = []\n",
    "#aqui esta guardado el nombre de la descripcion de la cuenta y la descripcion\n",
    "#voy a separar datos3 en dos elementos, uno con el nombre de la cuenta y otro con la descripcion\n",
    "datos4.append(datos3[0].text.split('\\n',1)[0])\n",
    "datos4.append(datos3[0].text.split('\\n',1)[1])\n",
    "datos4[0], datos4[1]\n",
    "#en datos 4[0] esta el nombre de la cuenta y en datos4[1] esta la descripcion\n",
    "\n"
   ]
  },
  {
   "cell_type": "code",
   "execution_count": null,
   "metadata": {},
   "outputs": [],
   "source": [
    "#time.sleep(random.randint(6,8))\n",
    "#elemento = driver.find_element(By.XPATH, '/html/body/div[2]/div/div/div[1]/div/div/div/div[1]/div[1]/div[2]/section/main/div/div[4]/article/div[1]/div/div[1]/div[1]/a/div/div[2]')\n",
    "#elemento.click()"
   ]
  },
  {
   "cell_type": "code",
   "execution_count": 13,
   "metadata": {},
   "outputs": [
    {
     "data": {
      "text/plain": [
       "'natgeo\\nVerificado\\nSeguir\\nEnviar mensaje\\n27.830 publicaciones\\n265 M seguidores\\n140 seguidos\\nNational Geographic\\nExperience the world through the eyes of National Geographic photographers.\\non.natgeo.com/instagram\\nStonehenge\\nKing Tut\\nBlack Joy\\nOut of Eden\\nBallesta\\nArctic Life\\nMars AR\\nDino AR\\nReimagined Dino\\nHoneybees\\nEnd of Trash\\nChild Sacrifice\\nPangolins\\nWildlifeTourism\\nPUBLICACIONES\\nREELS\\nETIQUETADAS\\n121 mil\\n632\\nMeta\\nInformación\\nBlog\\nEmpleo\\nAyuda\\nAPI\\nPrivacidad\\nCondiciones\\nCuentas destacadas\\nUbicaciones\\nInstagram Lite\\nSubir contactos y personas no usuarias\\nAviso de privacidad de los artículos coleccionables digitales\\nCuentas sugeridas\\nMeta Verified\\nEspañol (España)\\nAfrikaans\\nČeština\\nDansk\\nDeutsch\\nΕλληνικά\\nEnglish\\nEnglish (UK)\\nEspañol (España)\\nEspañol\\nSuomi\\nFrançais\\nBahasa Indonesia\\nItaliano\\n日本語\\n한국어\\nBahasa Melayu\\nNorsk\\nNederlands\\nPolski\\nPortuguês (Brasil)\\nPortuguês (Portugal)\\nРусский\\nSvenska\\nภาษาไทย\\nFilipino\\nTürkçe\\n中文(简体)\\n中文(台灣)\\nবাংলা\\nગુજરાતી\\nहिन्दी\\nHrvatski\\nMagyar\\nಕನ್ನಡ\\nമലയാളം\\nमराठी\\nनेपाली\\nਪੰਜਾਬੀ\\nසිංහල\\nSlovenčina\\nதமிழ்\\nతెలుగు\\nTiếng Việt\\n中文(香港)\\nБългарски\\nFrançais (Canada)\\nRomână\\nСрпски\\nУкраїнська\\n© 2023 Instagram from Meta'"
      ]
     },
     "execution_count": 13,
     "metadata": {},
     "output_type": "execute_result"
    }
   ],
   "source": [
    "datos5 = driver.find_elements(By.CLASS_NAME, 'x1iyjqo2')\n",
    "datos5[1].text"
   ]
  },
  {
   "cell_type": "code",
   "execution_count": 22,
   "metadata": {},
   "outputs": [],
   "source": [
    "boton = driver.find_elements(By.XPATH, '/html/body/div[2]/div/div/div[1]/div/div/div/div[1]/div[1]/div[2]/section/main/div/div[3]/article/div[1]/div/div[1]/div[1]/a/div[1]/div[2]')\n",
    "boton[0].click()\n",
    "#Este codigo es para hacer click sobre una publicacion en concreto, no creo que sirva para el propósito que busco"
   ]
  },
  {
   "cell_type": "code",
   "execution_count": 30,
   "metadata": {},
   "outputs": [],
   "source": [
    "boton2 = driver.find_elements(By.XPATH, '/html/body/div[2]/div/div/div[1]/div/div/div/div[1]/div[1]/div[2]/section/main/div/div[3]/article/div[1]/div')\n",
    "boton2[0].click()\n",
    "#Este codigo es para hacer click sobre una publicacion en concreto, no creo que sirva para el propósito que busco"
   ]
  },
  {
   "cell_type": "code",
   "execution_count": 38,
   "metadata": {},
   "outputs": [],
   "source": [
    "boton3 = driver.find_elements(By.XPATH, '/html/body/div[2]/div/div/div[1]/div/div/div/div[1]/div[1]/div[2]/section/main/div/div')\n",
    "boton3[2].click()\n",
    "#este puede servir mejor"
   ]
  },
  {
   "cell_type": "code",
   "execution_count": 41,
   "metadata": {},
   "outputs": [
    {
     "data": {
      "text/html": [
       "<div>\n",
       "<style scoped>\n",
       "    .dataframe tbody tr th:only-of-type {\n",
       "        vertical-align: middle;\n",
       "    }\n",
       "\n",
       "    .dataframe tbody tr th {\n",
       "        vertical-align: top;\n",
       "    }\n",
       "\n",
       "    .dataframe thead th {\n",
       "        text-align: right;\n",
       "    }\n",
       "</style>\n",
       "<table border=\"1\" class=\"dataframe\">\n",
       "  <thead>\n",
       "    <tr style=\"text-align: right;\">\n",
       "      <th></th>\n",
       "      <th>pg_direccion</th>\n",
       "      <th>pg_nombre</th>\n",
       "      <th>pg_descripcion</th>\n",
       "      <th>pg_numero_de_publicaciones</th>\n",
       "      <th>pg_seguidores</th>\n",
       "      <th>pg_seguidos</th>\n",
       "    </tr>\n",
       "  </thead>\n",
       "  <tbody>\n",
       "  </tbody>\n",
       "</table>\n",
       "</div>"
      ],
      "text/plain": [
       "Empty DataFrame\n",
       "Columns: [pg_direccion, pg_nombre, pg_descripcion, pg_numero_de_publicaciones, pg_seguidores, pg_seguidos]\n",
       "Index: []"
      ]
     },
     "execution_count": 41,
     "metadata": {},
     "output_type": "execute_result"
    }
   ],
   "source": []
  },
  {
   "cell_type": "code",
   "execution_count": null,
   "metadata": {},
   "outputs": [],
   "source": []
  }
 ],
 "metadata": {
  "kernelspec": {
   "display_name": "base",
   "language": "python",
   "name": "python3"
  },
  "language_info": {
   "codemirror_mode": {
    "name": "ipython",
    "version": 3
   },
   "file_extension": ".py",
   "mimetype": "text/x-python",
   "name": "python",
   "nbconvert_exporter": "python",
   "pygments_lexer": "ipython3",
   "version": "3.9.13"
  },
  "orig_nbformat": 4,
  "vscode": {
   "interpreter": {
    "hash": "a6d33b64cc62f2a6469a8726ef6950befbe59fb73bfa1f17dddc91d0226f47aa"
   }
  }
 },
 "nbformat": 4,
 "nbformat_minor": 2
}
