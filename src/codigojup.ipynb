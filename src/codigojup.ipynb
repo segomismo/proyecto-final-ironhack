{
 "cells": [
  {
   "cell_type": "code",
   "execution_count": 1,
   "metadata": {},
   "outputs": [
    {
     "name": "stderr",
     "output_type": "stream",
     "text": [
      "/var/folders/bw/khd8ptmn3_9fkbzj7_596v7c0000gn/T/ipykernel_58744/1871130950.py:14: DeprecationWarning: executable_path has been deprecated, please pass in a Service object\n",
      "  driver = webdriver.Chrome(PATH)\n"
     ]
    }
   ],
   "source": [
    "from selenium import webdriver\n",
    "from webdriver_manager.chrome import ChromeDriverManager\n",
    "from selenium.webdriver.common.by import By\n",
    "import time\n",
    "import warnings\n",
    "import random\n",
    "\n",
    "\n",
    "with open(\"../con.txt\", \"r\") as user:\n",
    "    usuario = user.readline().strip()\n",
    "    passw = user.readline().strip()\n",
    "\n",
    "PATH = ChromeDriverManager().install() \n",
    "driver = webdriver.Chrome(PATH)\n",
    "driver.get(\"https://www.instagram.com/natgeo/\")\n",
    "time.sleep(random.randint(4,6))\n",
    "elemento = driver.find_element(By.XPATH, '/html/body/div[2]/div/div/div[2]/div/div/div[1]/div/div[2]/div/div/div/div/div[2]/div/button[1]')\n",
    "elemento.click()\n",
    "\n",
    "time.sleep(random.randint(3,5))\n",
    "elemento = driver.find_element(By.XPATH, '/html/body/div[2]/div/div/div[1]/div/div/div/div[1]/section/nav/div[2]/div/div/div[3]/div/div[2]/div[1]/a/button')\n",
    "elemento.click()\n",
    "\n",
    "time.sleep(random.randint(3,5))\n",
    "elemento = driver.find_element(By.XPATH, '/html/body/div[2]/div/div/div[1]/div/div/div/div[1]/section/main/div/div/div[1]/div[2]/form/div/div[1]/div/label/input')\n",
    "elemento.send_keys(usuario)\n",
    "\n",
    "time.sleep(random.randint(1,3))\n",
    "elemento = driver.find_element(By.XPATH, '/html/body/div[2]/div/div/div[1]/div/div/div/div[1]/section/main/div/div/div[1]/div[2]/form/div/div[2]/div/label/input')\n",
    "elemento.send_keys(passw)\n",
    "\n",
    "time.sleep(random.randint(2,3))\n",
    "elemento = driver.find_element(By.XPATH, '/html/body/div[2]/div/div/div[1]/div/div/div/div[1]/section/main/div/div/div[1]/div[2]/form/div/div[3]/button')\n",
    "elemento.click()\n",
    "\n",
    "time.sleep(random.randint(6,8))\n",
    "elemento = driver.find_element(By.XPATH, '/html/body/div[2]/div/div/div[1]/div/div/div/div[1]/div[1]/div[2]/section/main/div/div/div/div/button')\n",
    "elemento.click()\n"
   ]
  },
  {
   "cell_type": "code",
   "execution_count": 85,
   "metadata": {},
   "outputs": [],
   "source": [
    "#Vamos a crear un dataframe con los datos que hemos obtenido\n",
    "import pandas as pd\n",
    "import numpy as np\n",
    "import matplotlib.pyplot as plt\n",
    "import seaborn as sns\n",
    "import os\n",
    "import requests\n",
    "\n",
    "df = pd.DataFrame(columns=['pg_direccion', 'pg_nombre', 'pg_descripcion', 'pg_numero_de_publicaciones', 'pg_seguidores', 'pg_seguidos', 'ph_descripcion'])"
   ]
  },
  {
   "cell_type": "code",
   "execution_count": null,
   "metadata": {},
   "outputs": [],
   "source": []
  },
  {
   "cell_type": "code",
   "execution_count": 3,
   "metadata": {},
   "outputs": [
    {
     "name": "stderr",
     "output_type": "stream",
     "text": [
      "/var/folders/bw/khd8ptmn3_9fkbzj7_596v7c0000gn/T/ipykernel_58744/3099912068.py:2: FutureWarning: The frame.append method is deprecated and will be removed from pandas in a future version. Use pandas.concat instead.\n",
      "  df = df.append({},ignore_index = True)\n",
      "/var/folders/bw/khd8ptmn3_9fkbzj7_596v7c0000gn/T/ipykernel_58744/3099912068.py:2: FutureWarning: The default dtype for empty Series will be 'object' instead of 'float64' in a future version. Specify a dtype explicitly to silence this warning.\n",
      "  df = df.append({},ignore_index = True)\n"
     ]
    },
    {
     "data": {
      "text/plain": [
       "('27.848', '266 M', '140')"
      ]
     },
     "execution_count": 3,
     "metadata": {},
     "output_type": "execute_result"
    }
   ],
   "source": [
    "datos = driver.find_elements(By.CLASS_NAME, '_ac2a')\n",
    "df = df.append({},ignore_index = True)\n",
    "df.pg_numero_de_publicaciones = datos[0].text\n",
    "df.pg_seguidores = datos[1].text\n",
    "df.pg_seguidos = datos[2].text\n",
    "datos[0].text, datos[1].text, datos[2].text\n",
    "\n",
    "#el [0] es el numero de publiaciones\n",
    "#el [1] es el numero de seguidores\n",
    "#el [2] es el numero de seguidos\n",
    "\n"
   ]
  },
  {
   "cell_type": "code",
   "execution_count": 4,
   "metadata": {},
   "outputs": [
    {
     "data": {
      "text/html": [
       "<div>\n",
       "<style scoped>\n",
       "    .dataframe tbody tr th:only-of-type {\n",
       "        vertical-align: middle;\n",
       "    }\n",
       "\n",
       "    .dataframe tbody tr th {\n",
       "        vertical-align: top;\n",
       "    }\n",
       "\n",
       "    .dataframe thead th {\n",
       "        text-align: right;\n",
       "    }\n",
       "</style>\n",
       "<table border=\"1\" class=\"dataframe\">\n",
       "  <thead>\n",
       "    <tr style=\"text-align: right;\">\n",
       "      <th></th>\n",
       "      <th>pg_direccion</th>\n",
       "      <th>pg_nombre</th>\n",
       "      <th>pg_descripcion</th>\n",
       "      <th>pg_numero_de_publicaciones</th>\n",
       "      <th>pg_seguidores</th>\n",
       "      <th>pg_seguidos</th>\n",
       "      <th>ph_descripcion</th>\n",
       "    </tr>\n",
       "  </thead>\n",
       "  <tbody>\n",
       "    <tr>\n",
       "      <th>0</th>\n",
       "      <td>NaN</td>\n",
       "      <td>NaN</td>\n",
       "      <td>NaN</td>\n",
       "      <td>27.848</td>\n",
       "      <td>266 M</td>\n",
       "      <td>140</td>\n",
       "      <td>NaN</td>\n",
       "    </tr>\n",
       "  </tbody>\n",
       "</table>\n",
       "</div>"
      ],
      "text/plain": [
       "  pg_direccion pg_nombre pg_descripcion pg_numero_de_publicaciones  \\\n",
       "0          NaN       NaN            NaN                     27.848   \n",
       "\n",
       "  pg_seguidores pg_seguidos ph_descripcion  \n",
       "0         266 M         140            NaN  "
      ]
     },
     "execution_count": 4,
     "metadata": {},
     "output_type": "execute_result"
    }
   ],
   "source": [
    "df"
   ]
  },
  {
   "cell_type": "code",
   "execution_count": 5,
   "metadata": {},
   "outputs": [],
   "source": [
    "datos2 = driver.find_elements(By.TAG_NAME, 'h2')\n",
    "datos2[0].text\n",
    "df.pg_direccion = datos2[0].text\n",
    "#el numero [0] contiene el nombre de la cuenta\n"
   ]
  },
  {
   "cell_type": "code",
   "execution_count": 6,
   "metadata": {},
   "outputs": [
    {
     "data": {
      "text/html": [
       "<div>\n",
       "<style scoped>\n",
       "    .dataframe tbody tr th:only-of-type {\n",
       "        vertical-align: middle;\n",
       "    }\n",
       "\n",
       "    .dataframe tbody tr th {\n",
       "        vertical-align: top;\n",
       "    }\n",
       "\n",
       "    .dataframe thead th {\n",
       "        text-align: right;\n",
       "    }\n",
       "</style>\n",
       "<table border=\"1\" class=\"dataframe\">\n",
       "  <thead>\n",
       "    <tr style=\"text-align: right;\">\n",
       "      <th></th>\n",
       "      <th>pg_direccion</th>\n",
       "      <th>pg_nombre</th>\n",
       "      <th>pg_descripcion</th>\n",
       "      <th>pg_numero_de_publicaciones</th>\n",
       "      <th>pg_seguidores</th>\n",
       "      <th>pg_seguidos</th>\n",
       "      <th>ph_descripcion</th>\n",
       "    </tr>\n",
       "  </thead>\n",
       "  <tbody>\n",
       "    <tr>\n",
       "      <th>0</th>\n",
       "      <td>natgeo</td>\n",
       "      <td>NaN</td>\n",
       "      <td>NaN</td>\n",
       "      <td>27.848</td>\n",
       "      <td>266 M</td>\n",
       "      <td>140</td>\n",
       "      <td>NaN</td>\n",
       "    </tr>\n",
       "  </tbody>\n",
       "</table>\n",
       "</div>"
      ],
      "text/plain": [
       "  pg_direccion pg_nombre pg_descripcion pg_numero_de_publicaciones  \\\n",
       "0       natgeo       NaN            NaN                     27.848   \n",
       "\n",
       "  pg_seguidores pg_seguidos ph_descripcion  \n",
       "0         266 M         140            NaN  "
      ]
     },
     "execution_count": 6,
     "metadata": {},
     "output_type": "execute_result"
    }
   ],
   "source": [
    "df"
   ]
  },
  {
   "cell_type": "code",
   "execution_count": 7,
   "metadata": {},
   "outputs": [],
   "source": [
    "datos3 = driver.find_elements(By.CLASS_NAME, '_aa_c')\n",
    "datos3[0].text\n",
    "datos4 = []\n",
    "#aqui esta guardado el nombre de la descripcion de la cuenta y la descripcion\n",
    "#voy a separar datos3 en dos elementos, uno con el nombre de la cuenta y otro con la descripcion\n",
    "datos4.append(datos3[0].text.split('\\n',1)[0])\n",
    "datos4.append(datos3[0].text.split('\\n',1)[1])\n",
    "datos4[0], datos4[1]\n",
    "\n",
    "df.pg_nombre = datos4[0]\n",
    "df.pg_descripcion = datos4[1]\n",
    "#en datos 4[0] esta el nombre de la cuenta y en datos4[1] esta la descripcion\n",
    "\n"
   ]
  },
  {
   "cell_type": "code",
   "execution_count": 8,
   "metadata": {},
   "outputs": [
    {
     "data": {
      "text/html": [
       "<div>\n",
       "<style scoped>\n",
       "    .dataframe tbody tr th:only-of-type {\n",
       "        vertical-align: middle;\n",
       "    }\n",
       "\n",
       "    .dataframe tbody tr th {\n",
       "        vertical-align: top;\n",
       "    }\n",
       "\n",
       "    .dataframe thead th {\n",
       "        text-align: right;\n",
       "    }\n",
       "</style>\n",
       "<table border=\"1\" class=\"dataframe\">\n",
       "  <thead>\n",
       "    <tr style=\"text-align: right;\">\n",
       "      <th></th>\n",
       "      <th>pg_direccion</th>\n",
       "      <th>pg_nombre</th>\n",
       "      <th>pg_descripcion</th>\n",
       "      <th>pg_numero_de_publicaciones</th>\n",
       "      <th>pg_seguidores</th>\n",
       "      <th>pg_seguidos</th>\n",
       "      <th>ph_descripcion</th>\n",
       "    </tr>\n",
       "  </thead>\n",
       "  <tbody>\n",
       "    <tr>\n",
       "      <th>0</th>\n",
       "      <td>natgeo</td>\n",
       "      <td>National Geographic</td>\n",
       "      <td>Experience the world through the eyes of Natio...</td>\n",
       "      <td>27.848</td>\n",
       "      <td>266 M</td>\n",
       "      <td>140</td>\n",
       "      <td>NaN</td>\n",
       "    </tr>\n",
       "  </tbody>\n",
       "</table>\n",
       "</div>"
      ],
      "text/plain": [
       "  pg_direccion            pg_nombre  \\\n",
       "0       natgeo  National Geographic   \n",
       "\n",
       "                                      pg_descripcion  \\\n",
       "0  Experience the world through the eyes of Natio...   \n",
       "\n",
       "  pg_numero_de_publicaciones pg_seguidores pg_seguidos ph_descripcion  \n",
       "0                     27.848         266 M         140            NaN  "
      ]
     },
     "execution_count": 8,
     "metadata": {},
     "output_type": "execute_result"
    }
   ],
   "source": [
    "#time.sleep(random.randint(6,8))\n",
    "#elemento = driver.find_element(By.XPATH, '/html/body/div[2]/div/div/div[1]/div/div/div/div[1]/div[1]/div[2]/section/main/div/div[4]/article/div[1]/div/div[1]/div[1]/a/div/div[2]')\n",
    "#elemento.click()\n",
    "df"
   ]
  },
  {
   "cell_type": "code",
   "execution_count": 9,
   "metadata": {},
   "outputs": [
    {
     "data": {
      "text/plain": [
       "'natgeo\\nVerificado\\nSiguiendo\\nEnviar mensaje\\n27.848 publicaciones\\n266 M seguidores\\n140 seguidos\\nNational Geographic\\nExperience the world through the eyes of National Geographic photographers.\\non.natgeo.com/instagram\\nanimalplanet, wildlife_photography_india, natgeowild y 17 más siguen esta cuenta\\nStonehenge\\nKing Tut\\nBlack Joy\\nOut of Eden\\nBallesta\\nArctic Life\\nMars AR\\nDino AR\\nReimagined Dino\\nHoneybees\\nEnd of Trash\\nChild Sacrifice\\nPangolins\\nWildlifeTourism\\nPUBLICACIONES\\nREELS\\nETIQUETADAS\\nMeta\\nInformación\\nBlog\\nEmpleo\\nAyuda\\nAPI\\nPrivacidad\\nCondiciones\\nCuentas destacadas\\nUbicaciones\\nInstagram Lite\\nSubir contactos y personas no usuarias\\nAviso de privacidad de los artículos coleccionables digitales\\nCuentas sugeridas\\nMeta Verified\\nEspañol (España)\\nAfrikaans\\nČeština\\nDansk\\nDeutsch\\nΕλληνικά\\nEnglish\\nEnglish (UK)\\nEspañol (España)\\nEspañol\\nSuomi\\nFrançais\\nBahasa Indonesia\\nItaliano\\n日本語\\n한국어\\nBahasa Melayu\\nNorsk\\nNederlands\\nPolski\\nPortuguês (Brasil)\\nPortuguês (Portugal)\\nРусский\\nSvenska\\nภาษาไทย\\nFilipino\\nTürkçe\\n中文(简体)\\n中文(台灣)\\nবাংলা\\nગુજરાતી\\nहिन्दी\\nHrvatski\\nMagyar\\nಕನ್ನಡ\\nമലയാളം\\nमराठी\\nनेपाली\\nਪੰਜਾਬੀ\\nසිංහල\\nSlovenčina\\nதமிழ்\\nతెలుగు\\nTiếng Việt\\n中文(香港)\\nБългарски\\nFrançais (Canada)\\nRomână\\nСрпски\\nУкраїнська\\n© 2023 Instagram from Meta'"
      ]
     },
     "execution_count": 9,
     "metadata": {},
     "output_type": "execute_result"
    }
   ],
   "source": [
    "datos5 = driver.find_elements(By.CLASS_NAME, 'x1iyjqo2')\n",
    "datos5[1].text"
   ]
  },
  {
   "cell_type": "code",
   "execution_count": 10,
   "metadata": {},
   "outputs": [],
   "source": [
    "time.sleep(random.randint(1,3))\n",
    "boton = driver.find_elements(By.XPATH, '/html/body/div[2]/div/div/div[1]/div/div/div/div[1]/div[1]/div[2]/section/main/div/div[3]/article/div[1]/div/div[1]/div[1]/a/div[1]/div[2]')\n",
    "boton[0].click()\n",
    "#Este codigo es para hacer click sobre una publicacion en concreto, no creo que sirva para el propósito que busco\n",
    "#De momento este es el codigo que mejor me sirve para el click en la primera publicacion"
   ]
  },
  {
   "cell_type": "code",
   "execution_count": 11,
   "metadata": {},
   "outputs": [
    {
     "data": {
      "text/plain": [
       "\"boton2 = driver.find_elements(By.XPATH, '/html/body/div[2]/div/div/div[1]/div/div/div/div[1]/div[1]/div[2]/section/main/div/div[3]/article/div[1]/div')\\nboton2[0].click()\\n#Este codigo es para hacer click sobre una publicacion en concreto, no creo que sirva para el propósito que busco\""
      ]
     },
     "execution_count": 11,
     "metadata": {},
     "output_type": "execute_result"
    }
   ],
   "source": [
    "\"\"\"boton2 = driver.find_elements(By.XPATH, '/html/body/div[2]/div/div/div[1]/div/div/div/div[1]/div[1]/div[2]/section/main/div/div[3]/article/div[1]/div')\n",
    "boton2[0].click()\n",
    "#Este codigo es para hacer click sobre una publicacion en concreto, no creo que sirva para el propósito que busco\"\"\""
   ]
  },
  {
   "cell_type": "code",
   "execution_count": 12,
   "metadata": {},
   "outputs": [
    {
     "data": {
      "text/plain": [
       "\"boton3 = driver.find_elements(By.XPATH, '/html/body/div[2]/div/div/div[1]/div/div/div/div[1]/div[1]/div[2]/section/main/div/div')\\nboton3[2].click()\\n#este puede servir mejor\""
      ]
     },
     "execution_count": 12,
     "metadata": {},
     "output_type": "execute_result"
    }
   ],
   "source": [
    "\"\"\"boton3 = driver.find_elements(By.XPATH, '/html/body/div[2]/div/div/div[1]/div/div/div/div[1]/div[1]/div[2]/section/main/div/div')\n",
    "boton3[2].click()\n",
    "#este puede servir mejor\"\"\""
   ]
  },
  {
   "cell_type": "code",
   "execution_count": 13,
   "metadata": {},
   "outputs": [
    {
     "data": {
      "text/html": [
       "<div>\n",
       "<style scoped>\n",
       "    .dataframe tbody tr th:only-of-type {\n",
       "        vertical-align: middle;\n",
       "    }\n",
       "\n",
       "    .dataframe tbody tr th {\n",
       "        vertical-align: top;\n",
       "    }\n",
       "\n",
       "    .dataframe thead th {\n",
       "        text-align: right;\n",
       "    }\n",
       "</style>\n",
       "<table border=\"1\" class=\"dataframe\">\n",
       "  <thead>\n",
       "    <tr style=\"text-align: right;\">\n",
       "      <th></th>\n",
       "      <th>pg_direccion</th>\n",
       "      <th>pg_nombre</th>\n",
       "      <th>pg_descripcion</th>\n",
       "      <th>pg_numero_de_publicaciones</th>\n",
       "      <th>pg_seguidores</th>\n",
       "      <th>pg_seguidos</th>\n",
       "      <th>ph_descripcion</th>\n",
       "    </tr>\n",
       "  </thead>\n",
       "  <tbody>\n",
       "    <tr>\n",
       "      <th>0</th>\n",
       "      <td>natgeo</td>\n",
       "      <td>National Geographic</td>\n",
       "      <td>Experience the world through the eyes of Natio...</td>\n",
       "      <td>27.848</td>\n",
       "      <td>266 M</td>\n",
       "      <td>140</td>\n",
       "      <td>NaN</td>\n",
       "    </tr>\n",
       "  </tbody>\n",
       "</table>\n",
       "</div>"
      ],
      "text/plain": [
       "  pg_direccion            pg_nombre  \\\n",
       "0       natgeo  National Geographic   \n",
       "\n",
       "                                      pg_descripcion  \\\n",
       "0  Experience the world through the eyes of Natio...   \n",
       "\n",
       "  pg_numero_de_publicaciones pg_seguidores pg_seguidos ph_descripcion  \n",
       "0                     27.848         266 M         140            NaN  "
      ]
     },
     "execution_count": 13,
     "metadata": {},
     "output_type": "execute_result"
    }
   ],
   "source": [
    "df"
   ]
  },
  {
   "cell_type": "code",
   "execution_count": 14,
   "metadata": {},
   "outputs": [
    {
     "data": {
      "text/html": [
       "<div>\n",
       "<style scoped>\n",
       "    .dataframe tbody tr th:only-of-type {\n",
       "        vertical-align: middle;\n",
       "    }\n",
       "\n",
       "    .dataframe tbody tr th {\n",
       "        vertical-align: top;\n",
       "    }\n",
       "\n",
       "    .dataframe thead th {\n",
       "        text-align: right;\n",
       "    }\n",
       "</style>\n",
       "<table border=\"1\" class=\"dataframe\">\n",
       "  <thead>\n",
       "    <tr style=\"text-align: right;\">\n",
       "      <th></th>\n",
       "      <th>pg_direccion</th>\n",
       "      <th>pg_nombre</th>\n",
       "      <th>pg_descripcion</th>\n",
       "      <th>pg_numero_de_publicaciones</th>\n",
       "      <th>pg_seguidores</th>\n",
       "      <th>pg_seguidos</th>\n",
       "      <th>ph_descripcion</th>\n",
       "    </tr>\n",
       "  </thead>\n",
       "  <tbody>\n",
       "    <tr>\n",
       "      <th>0</th>\n",
       "      <td>natgeo</td>\n",
       "      <td>National Geographic</td>\n",
       "      <td>Experience the world through the eyes of Natio...</td>\n",
       "      <td>27.848</td>\n",
       "      <td>266 M</td>\n",
       "      <td>140</td>\n",
       "      <td>natgeo\\nVerificado\\nNational Geographic photog...</td>\n",
       "    </tr>\n",
       "  </tbody>\n",
       "</table>\n",
       "</div>"
      ],
      "text/plain": [
       "  pg_direccion            pg_nombre  \\\n",
       "0       natgeo  National Geographic   \n",
       "\n",
       "                                      pg_descripcion  \\\n",
       "0  Experience the world through the eyes of Natio...   \n",
       "\n",
       "  pg_numero_de_publicaciones pg_seguidores pg_seguidos  \\\n",
       "0                     27.848         266 M         140   \n",
       "\n",
       "                                      ph_descripcion  \n",
       "0  natgeo\\nVerificado\\nNational Geographic photog...  "
      ]
     },
     "execution_count": 14,
     "metadata": {},
     "output_type": "execute_result"
    }
   ],
   "source": [
    "descripcion = driver.find_elements(By.CLASS_NAME, '_a9zm')\n",
    "descripcion[0].text\n",
    "#este codigo es para obtener la descripcion de la publicacion\n",
    "#voy a trocearlo para coger la descripcion y los hashtags\n",
    "df.ph_descripcion = descripcion[0].text\n",
    "df"
   ]
  },
  {
   "cell_type": "code",
   "execution_count": 15,
   "metadata": {},
   "outputs": [],
   "source": [
    "#ahora vamos a coger el numero de likes y la hora de la publicacion\n",
    "datos6 = driver.find_elements(By.CLASS_NAME, '_aacl')\n"
   ]
  },
  {
   "cell_type": "code",
   "execution_count": 16,
   "metadata": {},
   "outputs": [
    {
     "data": {
      "text/plain": [
       "'dhl_global'"
      ]
     },
     "execution_count": 16,
     "metadata": {},
     "output_type": "execute_result"
    }
   ],
   "source": [
    "datos6[47].text"
   ]
  },
  {
   "cell_type": "code",
   "execution_count": 17,
   "metadata": {},
   "outputs": [
    {
     "data": {
      "text/plain": [
       "\"import requests\\n\\nurl = 'https://scontent-mad2-1.cdninstagram.com/v/t51.2885-15/334583247_1640489326380800_1666787901082737621_n.jpg?stp=dst-jpg_e35_p1080x1080&_nc_ht=scontent-mad2-1.cdninstagram.com&_nc_cat=1&_nc_ohc=0jR8EFI7bhkAX_tTusa&edm=AGenrX8BAAAA&ccb=7-5&oh=00_AfD3HT6hG53rPnrCsi_810CIKH-qGisb5s_pQvbEOroVkQ&oe=64114673&_nc_sid=5eceaa' # URL de la imagen\\nnombre_archivo = 'prueba.jpg' # Nombre del archivo que deseas guardar\\n\\n# Descargar la imagen\\n\\n# Guardar la imagen en un archivo\\nwith open(nombre_archivo, 'wb') as archivo:\\n    archivo.write(respuesta.content)\""
      ]
     },
     "execution_count": 17,
     "metadata": {},
     "output_type": "execute_result"
    }
   ],
   "source": [
    "\"\"\"import requests\n",
    "\n",
    "url = 'https://scontent-mad2-1.cdninstagram.com/v/t51.2885-15/334583247_1640489326380800_1666787901082737621_n.jpg?stp=dst-jpg_e35_p1080x1080&_nc_ht=scontent-mad2-1.cdninstagram.com&_nc_cat=1&_nc_ohc=0jR8EFI7bhkAX_tTusa&edm=AGenrX8BAAAA&ccb=7-5&oh=00_AfD3HT6hG53rPnrCsi_810CIKH-qGisb5s_pQvbEOroVkQ&oe=64114673&_nc_sid=5eceaa' # URL de la imagen\n",
    "nombre_archivo = 'prueba.jpg' # Nombre del archivo que deseas guardar\n",
    "\n",
    "# Descargar la imagen\n",
    "\n",
    "# Guardar la imagen en un archivo\n",
    "with open(nombre_archivo, 'wb') as archivo:\n",
    "    archivo.write(respuesta.content)\"\"\""
   ]
  },
  {
   "cell_type": "code",
   "execution_count": 18,
   "metadata": {},
   "outputs": [
    {
     "name": "stdout",
     "output_type": "stream",
     "text": [
      "si\n"
     ]
    }
   ],
   "source": [
    "if driver.find_elements(By.CLASS_NAME, 'xg10s4p'):\n",
    "    print('si')\n",
    "else:\n",
    "    print('no')\n",
    "#este codigo comprueba que sea una publicacion con video o foto"
   ]
  },
  {
   "cell_type": "code",
   "execution_count": 19,
   "metadata": {},
   "outputs": [],
   "source": [
    "def sivideo():  \n",
    "    if driver.find_elements(By.CLASS_NAME, 'xg10s4p'):\n",
    "        return 1\n",
    "    else:\n",
    "        return 0\n",
    "\n",
    "def siguientefoto():\n",
    "\n",
    "    while True:\n",
    "        time.sleep(random.randint(1,3))\n",
    "        try:\n",
    "            boton1 = driver.find_elements(By.XPATH, '/html/body/div[2]/div/div/div[2]/div/div/div[1]/div/div[3]/div/div/div/div/div[2]/div/article/div/div[1]/div/div[1]/div[2]/div/button')\n",
    "            boton1[1].click()\n",
    "        except:\n",
    "            boton2 = driver.find_elements(By.XPATH, '/html/body/div[2]/div/div/div[2]/div/div/div[1]/div/div[3]/div/div/div/div/div[1]/div/div/div/button')\n",
    "            time.sleep(random.randint(1,3))\n",
    "            boton2[1].click()\n",
    "            break\n"
   ]
  },
  {
   "cell_type": "code",
   "execution_count": 20,
   "metadata": {},
   "outputs": [],
   "source": [
    "boton1 = driver.find_elements(By.XPATH, '/html/body/div[2]/div/div/div[2]/div/div/div[1]/div/div[3]/div/div/div/div/div[2]/div/article/div/div[1]/div/div[1]/div[2]/div/button')\n",
    "\n",
    "boton2 = driver.find_elements(By.XPATH, '/html/body/div[2]/div/div/div[2]/div/div/div[1]/div/div[3]/div/div/div/div/div[1]/div/div/div/button')\n",
    "\n",
    "time.sleep(random.randint(1,3))\n",
    "\n",
    "boton2[0].click()\n",
    "time.sleep(random.randint(1,3))"
   ]
  },
  {
   "cell_type": "code",
   "execution_count": 45,
   "metadata": {},
   "outputs": [],
   "source": [
    "try:\n",
    "    boton1 = driver.find_elements(By.XPATH, '/html/body/div[2]/div/div/div[2]/div/div/div[1]/div/div[3]/div/div/div/div/div[2]/div/article/div/div[1]/div/div[1]/div[2]/div/button')\n",
    "    boton1[0].click()\n",
    "    siguientefoto()\n",
    "\n",
    "except:\n",
    "    boton2 = driver.find_elements(By.XPATH, '/html/body/div[2]/div/div/div[2]/div/div/div[1]/div/div[3]/div/div/div/div/div[1]/div/div/div/button')\n",
    "    boton2[1].click()\n"
   ]
  },
  {
   "cell_type": "code",
   "execution_count": 46,
   "metadata": {},
   "outputs": [
    {
     "data": {
      "text/plain": [
       "\"boton1 = driver.find_elements(By.XPATH, '/html/body/div[2]/div/div/div[2]/div/div/div[1]/div/div[3]/div/div/div/div/div[2]/div/article/div/div[1]/div/div[1]/div[2]/div/button')\\nboton2 = driver.find_elements(By.XPATH, '/html/body/div[2]/div/div/div[2]/div/div/div[1]/div/div[3]/div/div/div/div/div[1]/div/div/div/button')\\n                                        \\n#boton1[0].click()\\nboton2[1].click()\""
      ]
     },
     "execution_count": 46,
     "metadata": {},
     "output_type": "execute_result"
    }
   ],
   "source": [
    "\"\"\"boton1 = driver.find_elements(By.XPATH, '/html/body/div[2]/div/div/div[2]/div/div/div[1]/div/div[3]/div/div/div/div/div[2]/div/article/div/div[1]/div/div[1]/div[2]/div/button')\n",
    "boton2 = driver.find_elements(By.XPATH, '/html/body/div[2]/div/div/div[2]/div/div/div[1]/div/div[3]/div/div/div/div/div[1]/div/div/div/button')\n",
    "                                        \n",
    "#boton1[0].click()\n",
    "boton2[1].click()\"\"\""
   ]
  },
  {
   "cell_type": "code",
   "execution_count": null,
   "metadata": {},
   "outputs": [],
   "source": []
  },
  {
   "cell_type": "code",
   "execution_count": 47,
   "metadata": {},
   "outputs": [
    {
     "data": {
      "text/plain": [
       "\"contador = 0\\nwhile contador < 100:\\n    if driver.find_elements(By.CLASS_NAME, 'xg10s4p'):\\n        boton = driver.find_elements(By.XPATH, '/html/body/div[2]/div/div/div[2]/div/div/div[1]/div/div[3]/div/div/div/div/div[1]/div/div/div[2]/button')\\n        boton[0].click()\\n        pass\""
      ]
     },
     "execution_count": 47,
     "metadata": {},
     "output_type": "execute_result"
    }
   ],
   "source": [
    "\"\"\"contador = 0\n",
    "while contador < 100:\n",
    "    if driver.find_elements(By.CLASS_NAME, 'xg10s4p'):\n",
    "        boton = driver.find_elements(By.XPATH, '/html/body/div[2]/div/div/div[2]/div/div/div[1]/div/div[3]/div/div/div/div/div[1]/div/div/div[2]/button')\n",
    "        boton[0].click()\n",
    "        pass\"\"\"\n",
    "    "
   ]
  },
  {
   "cell_type": "code",
   "execution_count": 48,
   "metadata": {},
   "outputs": [
    {
     "data": {
      "text/plain": [
       "''"
      ]
     },
     "execution_count": 48,
     "metadata": {},
     "output_type": "execute_result"
    }
   ],
   "source": [
    "#Vamos a intentar sacar la informacion que hay en la etiqueta \"_aagv\"\n",
    "etiqueta = driver.find_elements(By.XPATH, \"/html/body/div[2]/div/div/div[2]/div/div/div[1]/div/div[3]/div/div/div/div/div[2]/div/article/div/div[1]/div/div/div/div[1]/img\")\n",
    "etiqueta[0].text\n"
   ]
  },
  {
   "cell_type": "code",
   "execution_count": 49,
   "metadata": {},
   "outputs": [
    {
     "data": {
      "text/plain": [
       "''"
      ]
     },
     "execution_count": 49,
     "metadata": {},
     "output_type": "execute_result"
    }
   ],
   "source": [
    "etiqueta = driver.find_elements(By.CLASS_NAME, '_aagv')\n",
    "etiqueta[3].text"
   ]
  },
  {
   "cell_type": "code",
   "execution_count": 50,
   "metadata": {},
   "outputs": [
    {
     "data": {
      "text/plain": [
       "''"
      ]
     },
     "execution_count": 50,
     "metadata": {},
     "output_type": "execute_result"
    }
   ],
   "source": [
    "etiqueta[0].text"
   ]
  },
  {
   "cell_type": "code",
   "execution_count": 51,
   "metadata": {},
   "outputs": [
    {
     "data": {
      "text/html": [
       "<div>\n",
       "<style scoped>\n",
       "    .dataframe tbody tr th:only-of-type {\n",
       "        vertical-align: middle;\n",
       "    }\n",
       "\n",
       "    .dataframe tbody tr th {\n",
       "        vertical-align: top;\n",
       "    }\n",
       "\n",
       "    .dataframe thead th {\n",
       "        text-align: right;\n",
       "    }\n",
       "</style>\n",
       "<table border=\"1\" class=\"dataframe\">\n",
       "  <thead>\n",
       "    <tr style=\"text-align: right;\">\n",
       "      <th></th>\n",
       "      <th>pg_direccion</th>\n",
       "      <th>pg_nombre</th>\n",
       "      <th>pg_descripcion</th>\n",
       "      <th>pg_numero_de_publicaciones</th>\n",
       "      <th>pg_seguidores</th>\n",
       "      <th>pg_seguidos</th>\n",
       "      <th>ph_descripcion</th>\n",
       "    </tr>\n",
       "  </thead>\n",
       "  <tbody>\n",
       "    <tr>\n",
       "      <th>0</th>\n",
       "      <td>natgeo</td>\n",
       "      <td>National Geographic</td>\n",
       "      <td>Experience the world through the eyes of Natio...</td>\n",
       "      <td>27.848</td>\n",
       "      <td>266 M</td>\n",
       "      <td>140</td>\n",
       "      <td>natgeo\\nVerificado\\nNational Geographic photog...</td>\n",
       "    </tr>\n",
       "  </tbody>\n",
       "</table>\n",
       "</div>"
      ],
      "text/plain": [
       "  pg_direccion            pg_nombre  \\\n",
       "0       natgeo  National Geographic   \n",
       "\n",
       "                                      pg_descripcion  \\\n",
       "0  Experience the world through the eyes of Natio...   \n",
       "\n",
       "  pg_numero_de_publicaciones pg_seguidores pg_seguidos  \\\n",
       "0                     27.848         266 M         140   \n",
       "\n",
       "                                      ph_descripcion  \n",
       "0  natgeo\\nVerificado\\nNational Geographic photog...  "
      ]
     },
     "execution_count": 51,
     "metadata": {},
     "output_type": "execute_result"
    }
   ],
   "source": [
    "df"
   ]
  },
  {
   "cell_type": "code",
   "execution_count": 52,
   "metadata": {},
   "outputs": [
    {
     "data": {
      "text/plain": [
       "\"likes = driver.find_elements(By.CLASS_NAME, '_aacl')\\nlikes[0].text\""
      ]
     },
     "execution_count": 52,
     "metadata": {},
     "output_type": "execute_result"
    }
   ],
   "source": [
    "\"\"\"likes = driver.find_elements(By.CLASS_NAME, '_aacl')\n",
    "likes[0].text\"\"\""
   ]
  },
  {
   "cell_type": "code",
   "execution_count": 91,
   "metadata": {},
   "outputs": [
    {
     "data": {
      "text/plain": [
       "\"Photos by @andrea_frazzetta | Located in northern Ethiopia's Afar Triangle, the Danakil Depression is where three tectonic plates meet. This vast plain is the homeland of the Afar nomads, who live off extracting minerals, namely salt, in one of the most inhospitable places on Earth. Follow @andrea_frazzetta for more images and stories. #Africa #Ethiopia #Danakil\""
      ]
     },
     "execution_count": 91,
     "metadata": {},
     "output_type": "execute_result"
    }
   ],
   "source": [
    "#ahora vamos a coger el numero de likes y la hora de la publicacion\n",
    "datos6 = driver.find_elements(By.CLASS_NAME, '_aacl')\n",
    "likespub = datos6[47].text\n",
    "likespub"
   ]
  },
  {
   "cell_type": "code",
   "execution_count": 92,
   "metadata": {},
   "outputs": [
    {
     "data": {
      "text/plain": [
       "'138.998 Me gusta'"
      ]
     },
     "execution_count": 92,
     "metadata": {},
     "output_type": "execute_result"
    }
   ],
   "source": [
    "descrippub = datos6[46].text\n",
    "descrippub"
   ]
  },
  {
   "cell_type": "code",
   "execution_count": 93,
   "metadata": {},
   "outputs": [],
   "source": [
    "element = driver.find_element(By.CSS_SELECTOR, '._aacl._aacm._aacu._aacy._aad6')"
   ]
  },
  {
   "cell_type": "code",
   "execution_count": 94,
   "metadata": {},
   "outputs": [
    {
     "data": {
      "text/plain": [
       "'HACE 4 DÍAS'"
      ]
     },
     "execution_count": 94,
     "metadata": {},
     "output_type": "execute_result"
    }
   ],
   "source": [
    "element.text"
   ]
  },
  {
   "cell_type": "code",
   "execution_count": 95,
   "metadata": {},
   "outputs": [
    {
     "data": {
      "text/plain": [
       "'2023-03-10T12:00:15.000Z'"
      ]
     },
     "execution_count": 95,
     "metadata": {},
     "output_type": "execute_result"
    }
   ],
   "source": [
    "hora = driver.find_elements(By.CLASS_NAME, '_aaqe')\n",
    "hora1 = hora[0].get_attribute('datetime')\n",
    "hora1"
   ]
  },
  {
   "cell_type": "code",
   "execution_count": 96,
   "metadata": {},
   "outputs": [
    {
     "data": {
      "text/plain": [
       "'138.998 Me gusta'"
      ]
     },
     "execution_count": 96,
     "metadata": {},
     "output_type": "execute_result"
    }
   ],
   "source": [
    "likes2 = driver.find_element(By.CSS_SELECTOR, '._aacl._aaco._aacw._aacx._aada._aade')\n",
    "likes2.text"
   ]
  },
  {
   "cell_type": "code",
   "execution_count": 97,
   "metadata": {},
   "outputs": [
    {
     "data": {
      "text/plain": [
       "\"Photos by @andrea_frazzetta | Located in northern Ethiopia's Afar Triangle, the Danakil Depression is where three tectonic plates meet. This vast plain is the homeland of the Afar nomads, who live off extracting minerals, namely salt, in one of the most inhospitable places on Earth. Follow @andrea_frazzetta for more images and stories. #Africa #Ethiopia #Danakil\""
      ]
     },
     "execution_count": 97,
     "metadata": {},
     "output_type": "execute_result"
    }
   ],
   "source": [
    "descripcion1 = driver.find_element(By.CSS_SELECTOR, '._aacl._aaco._aacu._aacx._aad7._aade')\n",
    "descripcion1.text"
   ]
  },
  {
   "cell_type": "code",
   "execution_count": 100,
   "metadata": {},
   "outputs": [
    {
     "data": {
      "text/plain": [
       "'https://scontent-mad2-1.cdninstagram.com/v/t51.2885-15/333290083_1715050242226616_7309270043177614196_n.jpg?stp=dst-jpg_e35&_nc_ht=scontent-mad2-1.cdninstagram.com&_nc_cat=108&_nc_ohc=kxXaK2_zZJsAX_knAha&edm=ABmJApABAAAA&ccb=7-5&ig_cache_key=MzA1NTM3OTIxMTY2OTg5OTE5Ng%3D%3D.2-ccb7-5&oh=00_AfCsab0Jo4zPNSbqn_yucCPjkGqOYFHsNesjtpaAnjArUw&oe=6414E6F5&_nc_sid=6136e7'"
      ]
     },
     "execution_count": 100,
     "metadata": {},
     "output_type": "execute_result"
    }
   ],
   "source": [
    "contfoto = driver.find_elements(By.CSS_SELECTOR, '._aagu._aato')\n",
    "contenido = contfoto[0].get_attribute('innerHTML')\n",
    "contenido\n",
    "imagen = contfoto[0].find_elements(By.CSS_SELECTOR, 'img')\n",
    "alt = imagen[0].get_attribute('alt')\n",
    "alt\n",
    "src = imagen[0].get_attribute('src')\n",
    "src\n",
    "\n"
   ]
  },
  {
   "cell_type": "code",
   "execution_count": 99,
   "metadata": {},
   "outputs": [
    {
     "data": {
      "text/plain": [
       "'Photo by National Geographic on March 10, 2023. May be an image of 1 person and outdoors.'"
      ]
     },
     "execution_count": 99,
     "metadata": {},
     "output_type": "execute_result"
    }
   ],
   "source": [
    "alt"
   ]
  },
  {
   "cell_type": "code",
   "execution_count": 89,
   "metadata": {},
   "outputs": [
    {
     "data": {
      "text/plain": [
       "\"carpeta = '/ruta/a/mi/carpeta'\\narchivo_nombre = 'ejemplo.jpg'\\narchivo_ruta = os.path.join(carpeta, archivo_nombre)\\nwith open(archivo_ruta, 'wb') as archivo:\\n    archivo.write(imagen_respuesta.content)\""
      ]
     },
     "execution_count": 89,
     "metadata": {},
     "output_type": "execute_result"
    }
   ],
   "source": [
    "\"\"\"carpeta = '/ruta/a/mi/carpeta'\n",
    "archivo_nombre = 'ejemplo.jpg'\n",
    "archivo_ruta = os.path.join(carpeta, archivo_nombre)\n",
    "with open(archivo_ruta, 'wb') as archivo:\n",
    "    archivo.write(imagen_respuesta.content)\"\"\""
   ]
  },
  {
   "cell_type": "code",
   "execution_count": 90,
   "metadata": {},
   "outputs": [],
   "source": [
    "imagen_respuesta = requests.get(src)\n",
    "carpeta = \"../images\"\n",
    "nombre = \"imagenpreuba2.jpg\"\n",
    "archivo = os.path.join(carpeta, nombre)\n",
    "with open(archivo, \"wb\") as archivo:\n",
    "    archivo.write(imagen_respuesta.content)\n"
   ]
  },
  {
   "cell_type": "code",
   "execution_count": 107,
   "metadata": {},
   "outputs": [
    {
     "data": {
      "text/plain": [
       "'<div class=\"_aagv\" style=\"padding-bottom: 125%;\"><img alt=\"Photo by National Geographic on March 10, 2023. May be an image of 1 person, standing, fire and outdoors.\" class=\"x5yr21d xu96u03 x10l6tqk x13vifvy x87ps6o xh8yej3\" crossorigin=\"anonymous\" decoding=\"auto\" sizes=\"662.390625px\" srcset=\"https://scontent-mad1-1.cdninstagram.com/v/t51.2885-15/334330290_910997083684032_2041594664111409287_n.jpg?stp=dst-jpg_e35_p1080x1080&amp;_nc_ht=scontent-mad1-1.cdninstagram.com&amp;_nc_cat=100&amp;_nc_ohc=rx9Qd7RVgfUAX8nX9Ut&amp;edm=ABmJApABAAAA&amp;ccb=7-5&amp;ig_cache_key=MzA1NTM3OTIxMzg5Mjc0NTY0Mg%3D%3D.2-ccb7-5&amp;oh=00_AfB-55SsPw9Esr7_Tw3u8wlUrYLQGn-rPFtcZkE5KzuSmQ&amp;oe=64152086&amp;_nc_sid=6136e7 1080w,https://scontent-mad1-1.cdninstagram.com/v/t51.2885-15/334330290_910997083684032_2041594664111409287_n.jpg?stp=dst-jpg_e35_p720x720&amp;_nc_ht=scontent-mad1-1.cdninstagram.com&amp;_nc_cat=100&amp;_nc_ohc=rx9Qd7RVgfUAX8nX9Ut&amp;edm=ABmJApABAAAA&amp;ccb=7-5&amp;ig_cache_key=MzA1NTM3OTIxMzg5Mjc0NTY0Mg%3D%3D.2-ccb7-5&amp;oh=00_AfDQM0CWuhteBwbOZP_OBMyIl_j59PyV4aSb1GWEaU2pig&amp;oe=64152086&amp;_nc_sid=6136e7 720w,https://scontent-mad1-1.cdninstagram.com/v/t51.2885-15/334330290_910997083684032_2041594664111409287_n.jpg?stp=dst-jpg_e35_p640x640_sh0.08&amp;_nc_ht=scontent-mad1-1.cdninstagram.com&amp;_nc_cat=100&amp;_nc_ohc=rx9Qd7RVgfUAX8nX9Ut&amp;edm=ABmJApABAAAA&amp;ccb=7-5&amp;ig_cache_key=MzA1NTM3OTIxMzg5Mjc0NTY0Mg%3D%3D.2-ccb7-5&amp;oh=00_AfCbAxuqD9UX3iLfWZuGrQyscJsmAPWoAPkD-bI-hPUwpQ&amp;oe=64152086&amp;_nc_sid=6136e7 640w,https://scontent-mad1-1.cdninstagram.com/v/t51.2885-15/334330290_910997083684032_2041594664111409287_n.jpg?stp=dst-jpg_e35_p480x480&amp;_nc_ht=scontent-mad1-1.cdninstagram.com&amp;_nc_cat=100&amp;_nc_ohc=rx9Qd7RVgfUAX8nX9Ut&amp;edm=ABmJApABAAAA&amp;ccb=7-5&amp;ig_cache_key=MzA1NTM3OTIxMzg5Mjc0NTY0Mg%3D%3D.2-ccb7-5&amp;oh=00_AfAWB_DqPB-c-j-Ox9zyTAs4hizHnrCGKu9LJGw0b9sAjw&amp;oe=64152086&amp;_nc_sid=6136e7 480w,https://scontent-mad1-1.cdninstagram.com/v/t51.2885-15/334330290_910997083684032_2041594664111409287_n.jpg?stp=dst-jpg_e35_p320x320&amp;_nc_ht=scontent-mad1-1.cdninstagram.com&amp;_nc_cat=100&amp;_nc_ohc=rx9Qd7RVgfUAX8nX9Ut&amp;edm=ABmJApABAAAA&amp;ccb=7-5&amp;ig_cache_key=MzA1NTM3OTIxMzg5Mjc0NTY0Mg%3D%3D.2-ccb7-5&amp;oh=00_AfDxSF0ZdRgAHk4_Xi8zRlzpF3qMY-0mM7410Y4xdUAUlQ&amp;oe=64152086&amp;_nc_sid=6136e7 320w,https://scontent-mad1-1.cdninstagram.com/v/t51.2885-15/334330290_910997083684032_2041594664111409287_n.jpg?stp=dst-jpg_e35_p240x240&amp;_nc_ht=scontent-mad1-1.cdninstagram.com&amp;_nc_cat=100&amp;_nc_ohc=rx9Qd7RVgfUAX8nX9Ut&amp;edm=ABmJApABAAAA&amp;ccb=7-5&amp;ig_cache_key=MzA1NTM3OTIxMzg5Mjc0NTY0Mg%3D%3D.2-ccb7-5&amp;oh=00_AfCOKnanqly00scbjHyiputMwjieVbveogqEUwhy8AU3mQ&amp;oe=64152086&amp;_nc_sid=6136e7 240w\" src=\"https://scontent-mad1-1.cdninstagram.com/v/t51.2885-15/334330290_910997083684032_2041594664111409287_n.jpg?stp=dst-jpg_e35&amp;_nc_ht=scontent-mad1-1.cdninstagram.com&amp;_nc_cat=100&amp;_nc_ohc=rx9Qd7RVgfUAX8nX9Ut&amp;edm=ABmJApABAAAA&amp;ccb=7-5&amp;ig_cache_key=MzA1NTM3OTIxMzg5Mjc0NTY0Mg%3D%3D.2-ccb7-5&amp;oh=00_AfBG4hAkCcRzks9Jeim-mqgFBq_nmu9FIyVBm9hkXObg5g&amp;oe=64152086&amp;_nc_sid=6136e7\" style=\"object-fit: cover;\"></div><div class=\"_aagw\"></div>'"
      ]
     },
     "execution_count": 107,
     "metadata": {},
     "output_type": "execute_result"
    }
   ],
   "source": [
    "contfoto = driver.find_elements(By.CSS_SELECTOR, '._aagu._aato')\n",
    "contenido = contfoto[2].get_attribute('innerHTML')\n",
    "contenido"
   ]
  },
  {
   "cell_type": "code",
   "execution_count": 108,
   "metadata": {},
   "outputs": [
    {
     "name": "stdout",
     "output_type": "stream",
     "text": [
      "<div class=\"_aagv\" style=\"padding-bottom: 125%;\"><img alt=\"Photo by National Geographic on March 10, 2023. May be an image of 1 person and outdoors.\" class=\"x5yr21d xu96u03 x10l6tqk x13vifvy x87ps6o xh8yej3\" crossorigin=\"anonymous\" decoding=\"auto\" sizes=\"662.390625px\" srcset=\"https://scontent-mad2-1.cdninstagram.com/v/t51.2885-15/333290083_1715050242226616_7309270043177614196_n.jpg?stp=dst-jpg_e35_p1080x1080&amp;_nc_ht=scontent-mad2-1.cdninstagram.com&amp;_nc_cat=108&amp;_nc_ohc=kxXaK2_zZJsAX_knAha&amp;edm=ABmJApABAAAA&amp;ccb=7-5&amp;ig_cache_key=MzA1NTM3OTIxMTY2OTg5OTE5Ng%3D%3D.2-ccb7-5&amp;oh=00_AfAL6ZuzNmaPfV7YC21aLATJ-3bQnqYY31yvaITT3gq5TA&amp;oe=6414E6F5&amp;_nc_sid=6136e7 1080w,https://scontent-mad2-1.cdninstagram.com/v/t51.2885-15/333290083_1715050242226616_7309270043177614196_n.jpg?stp=dst-jpg_e35_p720x720&amp;_nc_ht=scontent-mad2-1.cdninstagram.com&amp;_nc_cat=108&amp;_nc_ohc=kxXaK2_zZJsAX_knAha&amp;edm=ABmJApABAAAA&amp;ccb=7-5&amp;ig_cache_key=MzA1NTM3OTIxMTY2OTg5OTE5Ng%3D%3D.2-ccb7-5&amp;oh=00_AfAixLGsYZQqJRB7WKVokTeTzoAm9_DtjORxNA1zpJvmUg&amp;oe=6414E6F5&amp;_nc_sid=6136e7 720w,https://scontent-mad2-1.cdninstagram.com/v/t51.2885-15/333290083_1715050242226616_7309270043177614196_n.jpg?stp=dst-jpg_e35_p640x640_sh0.08&amp;_nc_ht=scontent-mad2-1.cdninstagram.com&amp;_nc_cat=108&amp;_nc_ohc=kxXaK2_zZJsAX_knAha&amp;edm=ABmJApABAAAA&amp;ccb=7-5&amp;ig_cache_key=MzA1NTM3OTIxMTY2OTg5OTE5Ng%3D%3D.2-ccb7-5&amp;oh=00_AfCD7pVdyW2FoUXsws3IpG-cxCPClmEB8lbCwRf4WBgU7g&amp;oe=6414E6F5&amp;_nc_sid=6136e7 640w,https://scontent-mad2-1.cdninstagram.com/v/t51.2885-15/333290083_1715050242226616_7309270043177614196_n.jpg?stp=dst-jpg_e35_p480x480&amp;_nc_ht=scontent-mad2-1.cdninstagram.com&amp;_nc_cat=108&amp;_nc_ohc=kxXaK2_zZJsAX_knAha&amp;edm=ABmJApABAAAA&amp;ccb=7-5&amp;ig_cache_key=MzA1NTM3OTIxMTY2OTg5OTE5Ng%3D%3D.2-ccb7-5&amp;oh=00_AfCiTY0lJv1P5bkx_d793WL8Rr-AZOisTK80BOV35m5O7A&amp;oe=6414E6F5&amp;_nc_sid=6136e7 480w,https://scontent-mad2-1.cdninstagram.com/v/t51.2885-15/333290083_1715050242226616_7309270043177614196_n.jpg?stp=dst-jpg_e35_p320x320&amp;_nc_ht=scontent-mad2-1.cdninstagram.com&amp;_nc_cat=108&amp;_nc_ohc=kxXaK2_zZJsAX_knAha&amp;edm=ABmJApABAAAA&amp;ccb=7-5&amp;ig_cache_key=MzA1NTM3OTIxMTY2OTg5OTE5Ng%3D%3D.2-ccb7-5&amp;oh=00_AfAMMZLwQ5gY5zdM0gSaKPbMgyRRHUkQ6kFS_OORS3LWsw&amp;oe=6414E6F5&amp;_nc_sid=6136e7 320w,https://scontent-mad2-1.cdninstagram.com/v/t51.2885-15/333290083_1715050242226616_7309270043177614196_n.jpg?stp=dst-jpg_e35_p240x240&amp;_nc_ht=scontent-mad2-1.cdninstagram.com&amp;_nc_cat=108&amp;_nc_ohc=kxXaK2_zZJsAX_knAha&amp;edm=ABmJApABAAAA&amp;ccb=7-5&amp;ig_cache_key=MzA1NTM3OTIxMTY2OTg5OTE5Ng%3D%3D.2-ccb7-5&amp;oh=00_AfDUSPwt4Kxv8jebKm59VrnI1RjV_a51AKB7ZLAzTHvZRA&amp;oe=6414E6F5&amp;_nc_sid=6136e7 240w\" src=\"https://scontent-mad2-1.cdninstagram.com/v/t51.2885-15/333290083_1715050242226616_7309270043177614196_n.jpg?stp=dst-jpg_e35&amp;_nc_ht=scontent-mad2-1.cdninstagram.com&amp;_nc_cat=108&amp;_nc_ohc=kxXaK2_zZJsAX_knAha&amp;edm=ABmJApABAAAA&amp;ccb=7-5&amp;ig_cache_key=MzA1NTM3OTIxMTY2OTg5OTE5Ng%3D%3D.2-ccb7-5&amp;oh=00_AfCsab0Jo4zPNSbqn_yucCPjkGqOYFHsNesjtpaAnjArUw&amp;oe=6414E6F5&amp;_nc_sid=6136e7\" style=\"object-fit: cover;\"></div><div class=\"_aagw\"></div>\n",
      "<div class=\"_aagv\" style=\"padding-bottom: 125%;\"><img alt=\"Photo by National Geographic on March 10, 2023.\" class=\"x5yr21d xu96u03 x10l6tqk x13vifvy x87ps6o xh8yej3\" crossorigin=\"anonymous\" decoding=\"auto\" sizes=\"662.390625px\" srcset=\"https://scontent-mad2-1.cdninstagram.com/v/t51.2885-15/334750789_3515838121982013_8496797278462643373_n.jpg?stp=dst-jpg_e35_p1080x1080&amp;_nc_ht=scontent-mad2-1.cdninstagram.com&amp;_nc_cat=109&amp;_nc_ohc=_mNT_1QUnnoAX8gEnnr&amp;edm=ABmJApABAAAA&amp;ccb=7-5&amp;ig_cache_key=MzA1NTM3OTIzMDEwNzk0MTEzMQ%3D%3D.2-ccb7-5&amp;oh=00_AfAHxX8tzSkeOJ1c-rguxgVGmFjHhKaH9Vk7K8K_nowyZQ&amp;oe=6416130D&amp;_nc_sid=6136e7 1080w,https://scontent-mad2-1.cdninstagram.com/v/t51.2885-15/334750789_3515838121982013_8496797278462643373_n.jpg?stp=dst-jpg_e35_p720x720&amp;_nc_ht=scontent-mad2-1.cdninstagram.com&amp;_nc_cat=109&amp;_nc_ohc=_mNT_1QUnnoAX8gEnnr&amp;edm=ABmJApABAAAA&amp;ccb=7-5&amp;ig_cache_key=MzA1NTM3OTIzMDEwNzk0MTEzMQ%3D%3D.2-ccb7-5&amp;oh=00_AfA56VYy7VR_hruzOxtqyH_qYRMibohing2cxZaWAGuoLg&amp;oe=6416130D&amp;_nc_sid=6136e7 720w,https://scontent-mad2-1.cdninstagram.com/v/t51.2885-15/334750789_3515838121982013_8496797278462643373_n.jpg?stp=dst-jpg_e35_p640x640_sh0.08&amp;_nc_ht=scontent-mad2-1.cdninstagram.com&amp;_nc_cat=109&amp;_nc_ohc=_mNT_1QUnnoAX8gEnnr&amp;edm=ABmJApABAAAA&amp;ccb=7-5&amp;ig_cache_key=MzA1NTM3OTIzMDEwNzk0MTEzMQ%3D%3D.2-ccb7-5&amp;oh=00_AfD30kW8NJ5OV856ztptsNAUbG-IdFvav4G8ZY1JIbOxXw&amp;oe=6416130D&amp;_nc_sid=6136e7 640w,https://scontent-mad2-1.cdninstagram.com/v/t51.2885-15/334750789_3515838121982013_8496797278462643373_n.jpg?stp=dst-jpg_e35_p480x480&amp;_nc_ht=scontent-mad2-1.cdninstagram.com&amp;_nc_cat=109&amp;_nc_ohc=_mNT_1QUnnoAX8gEnnr&amp;edm=ABmJApABAAAA&amp;ccb=7-5&amp;ig_cache_key=MzA1NTM3OTIzMDEwNzk0MTEzMQ%3D%3D.2-ccb7-5&amp;oh=00_AfCMsNOzLcNGRNNP8FT4DxurJtLbsFwQSs3W8XHxQLtFsQ&amp;oe=6416130D&amp;_nc_sid=6136e7 480w,https://scontent-mad2-1.cdninstagram.com/v/t51.2885-15/334750789_3515838121982013_8496797278462643373_n.jpg?stp=dst-jpg_e35_p320x320&amp;_nc_ht=scontent-mad2-1.cdninstagram.com&amp;_nc_cat=109&amp;_nc_ohc=_mNT_1QUnnoAX8gEnnr&amp;edm=ABmJApABAAAA&amp;ccb=7-5&amp;ig_cache_key=MzA1NTM3OTIzMDEwNzk0MTEzMQ%3D%3D.2-ccb7-5&amp;oh=00_AfBb9DR9mN9UpHwarUljQ__nd7uHenMpeZ9iv9lQ70sAtw&amp;oe=6416130D&amp;_nc_sid=6136e7 320w,https://scontent-mad2-1.cdninstagram.com/v/t51.2885-15/334750789_3515838121982013_8496797278462643373_n.jpg?stp=dst-jpg_e35_p240x240&amp;_nc_ht=scontent-mad2-1.cdninstagram.com&amp;_nc_cat=109&amp;_nc_ohc=_mNT_1QUnnoAX8gEnnr&amp;edm=ABmJApABAAAA&amp;ccb=7-5&amp;ig_cache_key=MzA1NTM3OTIzMDEwNzk0MTEzMQ%3D%3D.2-ccb7-5&amp;oh=00_AfBVVy8S660hlS8cW7Whit3lIxq_PCAycoYWEaGhLPPTFg&amp;oe=6416130D&amp;_nc_sid=6136e7 240w\" src=\"https://scontent-mad2-1.cdninstagram.com/v/t51.2885-15/334750789_3515838121982013_8496797278462643373_n.jpg?stp=dst-jpg_e35&amp;_nc_ht=scontent-mad2-1.cdninstagram.com&amp;_nc_cat=109&amp;_nc_ohc=_mNT_1QUnnoAX8gEnnr&amp;edm=ABmJApABAAAA&amp;ccb=7-5&amp;ig_cache_key=MzA1NTM3OTIzMDEwNzk0MTEzMQ%3D%3D.2-ccb7-5&amp;oh=00_AfCoSdxCl58_4OgNsAPNiiIwkgKsBWQywMSiN6vRcDhjVQ&amp;oe=6416130D&amp;_nc_sid=6136e7\" style=\"object-fit: cover;\"></div><div class=\"_aagw\"></div>\n",
      "<div class=\"_aagv\" style=\"padding-bottom: 125%;\"><img alt=\"Photo by National Geographic on March 10, 2023. May be an image of 1 person, standing, fire and outdoors.\" class=\"x5yr21d xu96u03 x10l6tqk x13vifvy x87ps6o xh8yej3\" crossorigin=\"anonymous\" decoding=\"auto\" sizes=\"662.390625px\" srcset=\"https://scontent-mad1-1.cdninstagram.com/v/t51.2885-15/334330290_910997083684032_2041594664111409287_n.jpg?stp=dst-jpg_e35_p1080x1080&amp;_nc_ht=scontent-mad1-1.cdninstagram.com&amp;_nc_cat=100&amp;_nc_ohc=rx9Qd7RVgfUAX8nX9Ut&amp;edm=ABmJApABAAAA&amp;ccb=7-5&amp;ig_cache_key=MzA1NTM3OTIxMzg5Mjc0NTY0Mg%3D%3D.2-ccb7-5&amp;oh=00_AfB-55SsPw9Esr7_Tw3u8wlUrYLQGn-rPFtcZkE5KzuSmQ&amp;oe=64152086&amp;_nc_sid=6136e7 1080w,https://scontent-mad1-1.cdninstagram.com/v/t51.2885-15/334330290_910997083684032_2041594664111409287_n.jpg?stp=dst-jpg_e35_p720x720&amp;_nc_ht=scontent-mad1-1.cdninstagram.com&amp;_nc_cat=100&amp;_nc_ohc=rx9Qd7RVgfUAX8nX9Ut&amp;edm=ABmJApABAAAA&amp;ccb=7-5&amp;ig_cache_key=MzA1NTM3OTIxMzg5Mjc0NTY0Mg%3D%3D.2-ccb7-5&amp;oh=00_AfDQM0CWuhteBwbOZP_OBMyIl_j59PyV4aSb1GWEaU2pig&amp;oe=64152086&amp;_nc_sid=6136e7 720w,https://scontent-mad1-1.cdninstagram.com/v/t51.2885-15/334330290_910997083684032_2041594664111409287_n.jpg?stp=dst-jpg_e35_p640x640_sh0.08&amp;_nc_ht=scontent-mad1-1.cdninstagram.com&amp;_nc_cat=100&amp;_nc_ohc=rx9Qd7RVgfUAX8nX9Ut&amp;edm=ABmJApABAAAA&amp;ccb=7-5&amp;ig_cache_key=MzA1NTM3OTIxMzg5Mjc0NTY0Mg%3D%3D.2-ccb7-5&amp;oh=00_AfCbAxuqD9UX3iLfWZuGrQyscJsmAPWoAPkD-bI-hPUwpQ&amp;oe=64152086&amp;_nc_sid=6136e7 640w,https://scontent-mad1-1.cdninstagram.com/v/t51.2885-15/334330290_910997083684032_2041594664111409287_n.jpg?stp=dst-jpg_e35_p480x480&amp;_nc_ht=scontent-mad1-1.cdninstagram.com&amp;_nc_cat=100&amp;_nc_ohc=rx9Qd7RVgfUAX8nX9Ut&amp;edm=ABmJApABAAAA&amp;ccb=7-5&amp;ig_cache_key=MzA1NTM3OTIxMzg5Mjc0NTY0Mg%3D%3D.2-ccb7-5&amp;oh=00_AfAWB_DqPB-c-j-Ox9zyTAs4hizHnrCGKu9LJGw0b9sAjw&amp;oe=64152086&amp;_nc_sid=6136e7 480w,https://scontent-mad1-1.cdninstagram.com/v/t51.2885-15/334330290_910997083684032_2041594664111409287_n.jpg?stp=dst-jpg_e35_p320x320&amp;_nc_ht=scontent-mad1-1.cdninstagram.com&amp;_nc_cat=100&amp;_nc_ohc=rx9Qd7RVgfUAX8nX9Ut&amp;edm=ABmJApABAAAA&amp;ccb=7-5&amp;ig_cache_key=MzA1NTM3OTIxMzg5Mjc0NTY0Mg%3D%3D.2-ccb7-5&amp;oh=00_AfDxSF0ZdRgAHk4_Xi8zRlzpF3qMY-0mM7410Y4xdUAUlQ&amp;oe=64152086&amp;_nc_sid=6136e7 320w,https://scontent-mad1-1.cdninstagram.com/v/t51.2885-15/334330290_910997083684032_2041594664111409287_n.jpg?stp=dst-jpg_e35_p240x240&amp;_nc_ht=scontent-mad1-1.cdninstagram.com&amp;_nc_cat=100&amp;_nc_ohc=rx9Qd7RVgfUAX8nX9Ut&amp;edm=ABmJApABAAAA&amp;ccb=7-5&amp;ig_cache_key=MzA1NTM3OTIxMzg5Mjc0NTY0Mg%3D%3D.2-ccb7-5&amp;oh=00_AfCOKnanqly00scbjHyiputMwjieVbveogqEUwhy8AU3mQ&amp;oe=64152086&amp;_nc_sid=6136e7 240w\" src=\"https://scontent-mad1-1.cdninstagram.com/v/t51.2885-15/334330290_910997083684032_2041594664111409287_n.jpg?stp=dst-jpg_e35&amp;_nc_ht=scontent-mad1-1.cdninstagram.com&amp;_nc_cat=100&amp;_nc_ohc=rx9Qd7RVgfUAX8nX9Ut&amp;edm=ABmJApABAAAA&amp;ccb=7-5&amp;ig_cache_key=MzA1NTM3OTIxMzg5Mjc0NTY0Mg%3D%3D.2-ccb7-5&amp;oh=00_AfBG4hAkCcRzks9Jeim-mqgFBq_nmu9FIyVBm9hkXObg5g&amp;oe=64152086&amp;_nc_sid=6136e7\" style=\"object-fit: cover;\"></div><div class=\"_aagw\"></div>\n"
     ]
    }
   ],
   "source": [
    "for i in contfoto:\n",
    "    print(i.get_attribute('innerHTML'))"
   ]
  },
  {
   "cell_type": "code",
   "execution_count": null,
   "metadata": {},
   "outputs": [],
   "source": [
    "def damefoto(cont1):\n",
    "\n",
    "    contfoto = driver.find_elements(By.CSS_SELECTOR, '._aagu._aato')\n",
    "    contenido = contfoto[0].get_attribute('innerHTML')\n",
    "    imagen = contfoto[0].find_elements(By.CSS_SELECTOR, 'img')\n",
    "    alt = imagen[0].get_attribute('alt')\n",
    "    src = imagen[0].get_attribute('src')\n",
    "    imagen_respuesta = requests.get(src)\n",
    "    carpeta = \"../images\"\n",
    "    nombre = \"imagenpreuba2.jpg\"\n",
    "    archivo = os.path.join(carpeta, nombre)\n",
    "    with open(archivo, \"wb\") as archivo:\n",
    "        archivo.write(imagen_respuesta.content)\n",
    "    return()"
   ]
  },
  {
   "cell_type": "code",
   "execution_count": 143,
   "metadata": {},
   "outputs": [],
   "source": [
    "df11 = pd.DataFrame(columns=['likes', 'descripcion', 'hora', 'contenido'])\n",
    "def pruebas(hola, df11):\n",
    "    hola = \"adios\"\n",
    "    df11 = df11.append({},ignore_index = True)\n",
    "    df11[\"likes\"] = 11\n",
    "    return(df11)"
   ]
  },
  {
   "cell_type": "code",
   "execution_count": 144,
   "metadata": {},
   "outputs": [
    {
     "name": "stderr",
     "output_type": "stream",
     "text": [
      "/var/folders/bw/khd8ptmn3_9fkbzj7_596v7c0000gn/T/ipykernel_58744/4273789005.py:1: FutureWarning: The frame.append method is deprecated and will be removed from pandas in a future version. Use pandas.concat instead.\n",
      "  df11 = df11.append({},ignore_index = True)\n",
      "/var/folders/bw/khd8ptmn3_9fkbzj7_596v7c0000gn/T/ipykernel_58744/4273789005.py:1: FutureWarning: The default dtype for empty Series will be 'object' instead of 'float64' in a future version. Specify a dtype explicitly to silence this warning.\n",
      "  df11 = df11.append({},ignore_index = True)\n"
     ]
    }
   ],
   "source": [
    "df11 = df11.append({},ignore_index = True)\n",
    "df11[\"likes\"] = 11"
   ]
  },
  {
   "cell_type": "code",
   "execution_count": 145,
   "metadata": {},
   "outputs": [
    {
     "data": {
      "text/html": [
       "<div>\n",
       "<style scoped>\n",
       "    .dataframe tbody tr th:only-of-type {\n",
       "        vertical-align: middle;\n",
       "    }\n",
       "\n",
       "    .dataframe tbody tr th {\n",
       "        vertical-align: top;\n",
       "    }\n",
       "\n",
       "    .dataframe thead th {\n",
       "        text-align: right;\n",
       "    }\n",
       "</style>\n",
       "<table border=\"1\" class=\"dataframe\">\n",
       "  <thead>\n",
       "    <tr style=\"text-align: right;\">\n",
       "      <th></th>\n",
       "      <th>likes</th>\n",
       "      <th>descripcion</th>\n",
       "      <th>hora</th>\n",
       "      <th>contenido</th>\n",
       "    </tr>\n",
       "  </thead>\n",
       "  <tbody>\n",
       "    <tr>\n",
       "      <th>0</th>\n",
       "      <td>11</td>\n",
       "      <td>NaN</td>\n",
       "      <td>NaN</td>\n",
       "      <td>NaN</td>\n",
       "    </tr>\n",
       "  </tbody>\n",
       "</table>\n",
       "</div>"
      ],
      "text/plain": [
       "   likes descripcion hora contenido\n",
       "0     11         NaN  NaN       NaN"
      ]
     },
     "execution_count": 145,
     "metadata": {},
     "output_type": "execute_result"
    }
   ],
   "source": [
    "df11\n"
   ]
  },
  {
   "cell_type": "code",
   "execution_count": 148,
   "metadata": {},
   "outputs": [
    {
     "name": "stderr",
     "output_type": "stream",
     "text": [
      "/var/folders/bw/khd8ptmn3_9fkbzj7_596v7c0000gn/T/ipykernel_58744/3498675464.py:4: FutureWarning: The frame.append method is deprecated and will be removed from pandas in a future version. Use pandas.concat instead.\n",
      "  df11 = df11.append({},ignore_index = True)\n",
      "/var/folders/bw/khd8ptmn3_9fkbzj7_596v7c0000gn/T/ipykernel_58744/3498675464.py:4: FutureWarning: The default dtype for empty Series will be 'object' instead of 'float64' in a future version. Specify a dtype explicitly to silence this warning.\n",
      "  df11 = df11.append({},ignore_index = True)\n"
     ]
    }
   ],
   "source": [
    "hola = \"hola\"\n",
    "df11 = pruebas(hola, df11)"
   ]
  },
  {
   "cell_type": "code",
   "execution_count": 149,
   "metadata": {},
   "outputs": [
    {
     "data": {
      "text/html": [
       "<div>\n",
       "<style scoped>\n",
       "    .dataframe tbody tr th:only-of-type {\n",
       "        vertical-align: middle;\n",
       "    }\n",
       "\n",
       "    .dataframe tbody tr th {\n",
       "        vertical-align: top;\n",
       "    }\n",
       "\n",
       "    .dataframe thead th {\n",
       "        text-align: right;\n",
       "    }\n",
       "</style>\n",
       "<table border=\"1\" class=\"dataframe\">\n",
       "  <thead>\n",
       "    <tr style=\"text-align: right;\">\n",
       "      <th></th>\n",
       "      <th>likes</th>\n",
       "      <th>descripcion</th>\n",
       "      <th>hora</th>\n",
       "      <th>contenido</th>\n",
       "    </tr>\n",
       "  </thead>\n",
       "  <tbody>\n",
       "    <tr>\n",
       "      <th>0</th>\n",
       "      <td>11</td>\n",
       "      <td>NaN</td>\n",
       "      <td>NaN</td>\n",
       "      <td>NaN</td>\n",
       "    </tr>\n",
       "    <tr>\n",
       "      <th>1</th>\n",
       "      <td>11</td>\n",
       "      <td>NaN</td>\n",
       "      <td>NaN</td>\n",
       "      <td>NaN</td>\n",
       "    </tr>\n",
       "    <tr>\n",
       "      <th>2</th>\n",
       "      <td>11</td>\n",
       "      <td>NaN</td>\n",
       "      <td>NaN</td>\n",
       "      <td>NaN</td>\n",
       "    </tr>\n",
       "  </tbody>\n",
       "</table>\n",
       "</div>"
      ],
      "text/plain": [
       "   likes descripcion hora contenido\n",
       "0     11         NaN  NaN       NaN\n",
       "1     11         NaN  NaN       NaN\n",
       "2     11         NaN  NaN       NaN"
      ]
     },
     "execution_count": 149,
     "metadata": {},
     "output_type": "execute_result"
    }
   ],
   "source": [
    "df11"
   ]
  },
  {
   "cell_type": "code",
   "execution_count": null,
   "metadata": {},
   "outputs": [],
   "source": []
  }
 ],
 "metadata": {
  "kernelspec": {
   "display_name": "base",
   "language": "python",
   "name": "python3"
  },
  "language_info": {
   "codemirror_mode": {
    "name": "ipython",
    "version": 3
   },
   "file_extension": ".py",
   "mimetype": "text/x-python",
   "name": "python",
   "nbconvert_exporter": "python",
   "pygments_lexer": "ipython3",
   "version": "3.9.13"
  },
  "orig_nbformat": 4,
  "vscode": {
   "interpreter": {
    "hash": "a6d33b64cc62f2a6469a8726ef6950befbe59fb73bfa1f17dddc91d0226f47aa"
   }
  }
 },
 "nbformat": 4,
 "nbformat_minor": 2
}
