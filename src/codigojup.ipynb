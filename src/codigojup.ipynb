{
 "cells": [
  {
   "cell_type": "code",
   "execution_count": 1,
   "metadata": {},
   "outputs": [
    {
     "name": "stderr",
     "output_type": "stream",
     "text": [
      "/var/folders/bw/khd8ptmn3_9fkbzj7_596v7c0000gn/T/ipykernel_11030/1871130950.py:14: DeprecationWarning: executable_path has been deprecated, please pass in a Service object\n",
      "  driver = webdriver.Chrome(PATH)\n"
     ]
    }
   ],
   "source": [
    "from selenium import webdriver\n",
    "from webdriver_manager.chrome import ChromeDriverManager\n",
    "from selenium.webdriver.common.by import By\n",
    "import time\n",
    "import warnings\n",
    "import random\n",
    "\n",
    "\n",
    "with open(\"../con.txt\", \"r\") as user:\n",
    "    usuario = user.readline().strip()\n",
    "    passw = user.readline().strip()\n",
    "\n",
    "PATH = ChromeDriverManager().install() \n",
    "driver = webdriver.Chrome(PATH)\n",
    "driver.get(\"https://www.instagram.com/natgeo/\")\n",
    "time.sleep(random.randint(4,6))\n",
    "elemento = driver.find_element(By.XPATH, '/html/body/div[2]/div/div/div[2]/div/div/div[1]/div/div[2]/div/div/div/div/div[2]/div/button[1]')\n",
    "elemento.click()\n",
    "\n",
    "time.sleep(random.randint(3,5))\n",
    "elemento = driver.find_element(By.XPATH, '/html/body/div[2]/div/div/div[1]/div/div/div/div[1]/section/nav/div[2]/div/div/div[3]/div/div[2]/div[1]/a/button')\n",
    "elemento.click()\n",
    "\n",
    "time.sleep(random.randint(3,5))\n",
    "elemento = driver.find_element(By.XPATH, '/html/body/div[2]/div/div/div[1]/div/div/div/div[1]/section/main/div/div/div[1]/div[2]/form/div/div[1]/div/label/input')\n",
    "elemento.send_keys(usuario)\n",
    "\n",
    "time.sleep(random.randint(1,3))\n",
    "elemento = driver.find_element(By.XPATH, '/html/body/div[2]/div/div/div[1]/div/div/div/div[1]/section/main/div/div/div[1]/div[2]/form/div/div[2]/div/label/input')\n",
    "elemento.send_keys(passw)\n",
    "\n",
    "time.sleep(random.randint(2,3))\n",
    "elemento = driver.find_element(By.XPATH, '/html/body/div[2]/div/div/div[1]/div/div/div/div[1]/section/main/div/div/div[1]/div[2]/form/div/div[3]/button')\n",
    "elemento.click()\n",
    "\n",
    "time.sleep(random.randint(6,8))\n",
    "elemento = driver.find_element(By.XPATH, '/html/body/div[2]/div/div/div[1]/div/div/div/div[1]/div[1]/div[2]/section/main/div/div/div/div/button')\n",
    "elemento.click()\n"
   ]
  },
  {
   "cell_type": "code",
   "execution_count": 24,
   "metadata": {},
   "outputs": [
    {
     "data": {
      "text/plain": [
       "'27.823'"
      ]
     },
     "execution_count": 24,
     "metadata": {},
     "output_type": "execute_result"
    }
   ],
   "source": [
    "datos = driver.find_elements(By.CLASS_NAME, '_ac2a')\n",
    "datos.text\n",
    "\n",
    "#el [0] es el numero de publiaciones\n",
    "#el [1] es el numero de seguidores\n",
    "#el [2] es el numero de seguidos\n",
    "\n"
   ]
  },
  {
   "cell_type": "code",
   "execution_count": 29,
   "metadata": {},
   "outputs": [
    {
     "data": {
      "text/plain": [
       "'natgeo'"
      ]
     },
     "execution_count": 29,
     "metadata": {},
     "output_type": "execute_result"
    }
   ],
   "source": [
    "datos2 = driver.find_elements(By.TAG_NAME, 'h2')\n",
    "datos2[0].text\n",
    "#el numero [0] contiene el nombre de la cuenta\n"
   ]
  },
  {
   "cell_type": "code",
   "execution_count": 41,
   "metadata": {},
   "outputs": [
    {
     "data": {
      "text/plain": [
       "('National Geographic',\n",
       " 'Experience the world through the eyes of National Geographic photographers.')"
      ]
     },
     "execution_count": 41,
     "metadata": {},
     "output_type": "execute_result"
    }
   ],
   "source": [
    "datos3 = driver.find_elements(By.CLASS_NAME, '_aa_c')\n",
    "datos3[0].text\n",
    "datos4 = []\n",
    "#aqui esta guardado el nombre de la descripcion de la cuenta y la descripcion\n",
    "#voy a separar datos3 en dos elementos, uno con el nombre de la cuenta y otro con la descripcion\n",
    "datos4.append(datos3[0].text.split('\\n')[0])\n",
    "datos4.append(datos3[0].text.split('\\n')[1])\n",
    "datos4[0], datos4[1]\n",
    "#en datos 4[0] esta el nombre de la cuenta y en datos4[1] esta la descripcion\n",
    "\n"
   ]
  },
  {
   "cell_type": "code",
   "execution_count": 14,
   "metadata": {},
   "outputs": [],
   "source": [
    "#time.sleep(random.randint(6,8))\n",
    "#elemento = driver.find_element(By.XPATH, '/html/body/div[2]/div/div/div[1]/div/div/div/div[1]/div[1]/div[2]/section/main/div/div[4]/article/div[1]/div/div[1]/div[1]/a/div/div[2]')\n",
    "#elemento.click()"
   ]
  },
  {
   "cell_type": "code",
   "execution_count": null,
   "metadata": {},
   "outputs": [],
   "source": []
  },
  {
   "cell_type": "code",
   "execution_count": null,
   "metadata": {},
   "outputs": [],
   "source": []
  }
 ],
 "metadata": {
  "kernelspec": {
   "display_name": "base",
   "language": "python",
   "name": "python3"
  },
  "language_info": {
   "codemirror_mode": {
    "name": "ipython",
    "version": 3
   },
   "file_extension": ".py",
   "mimetype": "text/x-python",
   "name": "python",
   "nbconvert_exporter": "python",
   "pygments_lexer": "ipython3",
   "version": "3.9.13"
  },
  "orig_nbformat": 4,
  "vscode": {
   "interpreter": {
    "hash": "a6d33b64cc62f2a6469a8726ef6950befbe59fb73bfa1f17dddc91d0226f47aa"
   }
  }
 },
 "nbformat": 4,
 "nbformat_minor": 2
}
