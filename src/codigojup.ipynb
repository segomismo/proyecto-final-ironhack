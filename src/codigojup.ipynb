{
 "cells": [
  {
   "cell_type": "code",
   "execution_count": 2,
   "metadata": {},
   "outputs": [
    {
     "name": "stderr",
     "output_type": "stream",
     "text": [
      "[WDM] - Downloading: 100%|██████████| 8.84M/8.84M [00:02<00:00, 3.10MB/s]\n",
      "/var/folders/bw/khd8ptmn3_9fkbzj7_596v7c0000gn/T/ipykernel_99448/2462680585.py:20: DeprecationWarning: executable_path has been deprecated, please pass in a Service object\n",
      "  driver = webdriver.Chrome(PATH)\n"
     ]
    }
   ],
   "source": [
    "from selenium import webdriver\n",
    "from webdriver_manager.chrome import ChromeDriverManager\n",
    "from selenium.webdriver.common.by import By\n",
    "import time\n",
    "import warnings\n",
    "import random\n",
    "import pandas as pd\n",
    "import numpy as np\n",
    "import matplotlib.pyplot as plt\n",
    "import seaborn as sns\n",
    "import os\n",
    "import requests\n",
    "\n",
    "\n",
    "with open(\"../con.txt\", \"r\") as user:\n",
    "    usuario = user.readline().strip()\n",
    "    passw = user.readline().strip()\n",
    "\n",
    "PATH = ChromeDriverManager().install() \n",
    "driver = webdriver.Chrome(PATH)\n",
    "driver.get(\"https://www.instagram.com/natgeo/\")\n",
    "time.sleep(random.randint(4,6))\n",
    "elemento = driver.find_element(By.XPATH, '/html/body/div[2]/div/div/div[2]/div/div/div[1]/div/div[2]/div/div/div/div/div[2]/div/button[1]')\n",
    "elemento.click()\n",
    "\n",
    "time.sleep(random.randint(3,5))\n",
    "elemento = driver.find_element(By.XPATH, '/html/body/div[2]/div/div/div[1]/div/div/div/div[1]/section/nav/div[2]/div/div/div[3]/div/div[2]/div[1]/a/button')\n",
    "elemento.click()\n",
    "\n",
    "time.sleep(random.randint(3,5))\n",
    "elemento = driver.find_element(By.XPATH, '/html/body/div[2]/div/div/div[1]/div/div/div/div[1]/section/main/div/div/div[1]/div[2]/form/div/div[1]/div/label/input')\n",
    "elemento.send_keys(usuario)\n",
    "\n",
    "time.sleep(random.randint(1,3))\n",
    "elemento = driver.find_element(By.XPATH, '/html/body/div[2]/div/div/div[1]/div/div/div/div[1]/section/main/div/div/div[1]/div[2]/form/div/div[2]/div/label/input')\n",
    "elemento.send_keys(passw)\n",
    "\n",
    "time.sleep(random.randint(2,3))\n",
    "elemento = driver.find_element(By.XPATH, '/html/body/div[2]/div/div/div[1]/div/div/div/div[1]/section/main/div/div/div[1]/div[2]/form/div/div[3]/button')\n",
    "elemento.click()\n",
    "\n",
    "time.sleep(random.randint(6,8))\n",
    "elemento = driver.find_element(By.XPATH, '/html/body/div[2]/div/div/div[1]/div/div/div/div[1]/div[1]/div[2]/section/main/div/div/div/div/button')\n",
    "elemento.click()\n",
    "#Este codigo termina con la pagina de natgeo abierta\n"
   ]
  },
  {
   "cell_type": "code",
   "execution_count": 83,
   "metadata": {},
   "outputs": [],
   "source": [
    "#Vamos a crear un dataframe con los datos que hemos obtenido\n",
    "\n",
    "\n",
    "df = pd.DataFrame(columns=['pg_direccion', 'pg_nombre', 'pg_descripcion', 'pg_numero_de_publicaciones', 'pg_seguidores', 'pg_seguidos', 'ph_descripcion', 'ph_likes', 'ph_fecha', 'ph_url', 'ph_nombre', 'ph_atributos'])"
   ]
  },
  {
   "cell_type": "code",
   "execution_count": 4,
   "metadata": {},
   "outputs": [
    {
     "name": "stderr",
     "output_type": "stream",
     "text": [
      "/var/folders/bw/khd8ptmn3_9fkbzj7_596v7c0000gn/T/ipykernel_99448/610857067.py:3: FutureWarning: The frame.append method is deprecated and will be removed from pandas in a future version. Use pandas.concat instead.\n",
      "  df = df.append({},ignore_index = True)\n",
      "/var/folders/bw/khd8ptmn3_9fkbzj7_596v7c0000gn/T/ipykernel_99448/610857067.py:3: FutureWarning: The default dtype for empty Series will be 'object' instead of 'float64' in a future version. Specify a dtype explicitly to silence this warning.\n",
      "  df = df.append({},ignore_index = True)\n"
     ]
    },
    {
     "data": {
      "text/plain": [
       "('27.849', '266 M', '140')"
      ]
     },
     "execution_count": 4,
     "metadata": {},
     "output_type": "execute_result"
    }
   ],
   "source": [
    "#cogemos la informacion de la pagina de natgeo\n",
    "datos = driver.find_elements(By.CLASS_NAME, '_ac2a')\n",
    "df = df.append({},ignore_index = True)\n",
    "df.pg_numero_de_publicaciones = datos[0].text\n",
    "df.pg_seguidores = datos[1].text\n",
    "df.pg_seguidos = datos[2].text\n",
    "datos[0].text, datos[1].text, datos[2].text\n",
    "\n",
    "#el [0] es el numero de publiaciones\n",
    "#el [1] es el numero de seguidores\n",
    "#el [2] es el numero de seguidos\n",
    "\n"
   ]
  },
  {
   "cell_type": "code",
   "execution_count": 5,
   "metadata": {},
   "outputs": [
    {
     "data": {
      "text/html": [
       "<div>\n",
       "<style scoped>\n",
       "    .dataframe tbody tr th:only-of-type {\n",
       "        vertical-align: middle;\n",
       "    }\n",
       "\n",
       "    .dataframe tbody tr th {\n",
       "        vertical-align: top;\n",
       "    }\n",
       "\n",
       "    .dataframe thead th {\n",
       "        text-align: right;\n",
       "    }\n",
       "</style>\n",
       "<table border=\"1\" class=\"dataframe\">\n",
       "  <thead>\n",
       "    <tr style=\"text-align: right;\">\n",
       "      <th></th>\n",
       "      <th>pg_direccion</th>\n",
       "      <th>pg_nombre</th>\n",
       "      <th>pg_descripcion</th>\n",
       "      <th>pg_numero_de_publicaciones</th>\n",
       "      <th>pg_seguidores</th>\n",
       "      <th>pg_seguidos</th>\n",
       "      <th>ph_descripcion</th>\n",
       "      <th>ph_likes</th>\n",
       "      <th>ph_fecha</th>\n",
       "      <th>ph_url</th>\n",
       "      <th>ph_nombre</th>\n",
       "      <th>ph_atributos</th>\n",
       "    </tr>\n",
       "  </thead>\n",
       "  <tbody>\n",
       "    <tr>\n",
       "      <th>0</th>\n",
       "      <td>NaN</td>\n",
       "      <td>NaN</td>\n",
       "      <td>NaN</td>\n",
       "      <td>27.849</td>\n",
       "      <td>266 M</td>\n",
       "      <td>140</td>\n",
       "      <td>NaN</td>\n",
       "      <td>NaN</td>\n",
       "      <td>NaN</td>\n",
       "      <td>NaN</td>\n",
       "      <td>NaN</td>\n",
       "      <td>NaN</td>\n",
       "    </tr>\n",
       "  </tbody>\n",
       "</table>\n",
       "</div>"
      ],
      "text/plain": [
       "  pg_direccion pg_nombre pg_descripcion pg_numero_de_publicaciones  \\\n",
       "0          NaN       NaN            NaN                     27.849   \n",
       "\n",
       "  pg_seguidores pg_seguidos ph_descripcion ph_likes ph_fecha ph_url ph_nombre  \\\n",
       "0         266 M         140            NaN      NaN      NaN    NaN       NaN   \n",
       "\n",
       "  ph_atributos  \n",
       "0          NaN  "
      ]
     },
     "execution_count": 5,
     "metadata": {},
     "output_type": "execute_result"
    }
   ],
   "source": [
    "df"
   ]
  },
  {
   "cell_type": "code",
   "execution_count": 6,
   "metadata": {},
   "outputs": [],
   "source": [
    "datos2 = driver.find_elements(By.TAG_NAME, 'h2')\n",
    "datos2[0].text\n",
    "df.pg_direccion = datos2[0].text\n",
    "#el numero [0] contiene el nombre de la cuenta\n"
   ]
  },
  {
   "cell_type": "code",
   "execution_count": 7,
   "metadata": {},
   "outputs": [
    {
     "data": {
      "text/html": [
       "<div>\n",
       "<style scoped>\n",
       "    .dataframe tbody tr th:only-of-type {\n",
       "        vertical-align: middle;\n",
       "    }\n",
       "\n",
       "    .dataframe tbody tr th {\n",
       "        vertical-align: top;\n",
       "    }\n",
       "\n",
       "    .dataframe thead th {\n",
       "        text-align: right;\n",
       "    }\n",
       "</style>\n",
       "<table border=\"1\" class=\"dataframe\">\n",
       "  <thead>\n",
       "    <tr style=\"text-align: right;\">\n",
       "      <th></th>\n",
       "      <th>pg_direccion</th>\n",
       "      <th>pg_nombre</th>\n",
       "      <th>pg_descripcion</th>\n",
       "      <th>pg_numero_de_publicaciones</th>\n",
       "      <th>pg_seguidores</th>\n",
       "      <th>pg_seguidos</th>\n",
       "      <th>ph_descripcion</th>\n",
       "      <th>ph_likes</th>\n",
       "      <th>ph_fecha</th>\n",
       "      <th>ph_url</th>\n",
       "      <th>ph_nombre</th>\n",
       "      <th>ph_atributos</th>\n",
       "    </tr>\n",
       "  </thead>\n",
       "  <tbody>\n",
       "    <tr>\n",
       "      <th>0</th>\n",
       "      <td>natgeo</td>\n",
       "      <td>NaN</td>\n",
       "      <td>NaN</td>\n",
       "      <td>27.849</td>\n",
       "      <td>266 M</td>\n",
       "      <td>140</td>\n",
       "      <td>NaN</td>\n",
       "      <td>NaN</td>\n",
       "      <td>NaN</td>\n",
       "      <td>NaN</td>\n",
       "      <td>NaN</td>\n",
       "      <td>NaN</td>\n",
       "    </tr>\n",
       "  </tbody>\n",
       "</table>\n",
       "</div>"
      ],
      "text/plain": [
       "  pg_direccion pg_nombre pg_descripcion pg_numero_de_publicaciones  \\\n",
       "0       natgeo       NaN            NaN                     27.849   \n",
       "\n",
       "  pg_seguidores pg_seguidos ph_descripcion ph_likes ph_fecha ph_url ph_nombre  \\\n",
       "0         266 M         140            NaN      NaN      NaN    NaN       NaN   \n",
       "\n",
       "  ph_atributos  \n",
       "0          NaN  "
      ]
     },
     "execution_count": 7,
     "metadata": {},
     "output_type": "execute_result"
    }
   ],
   "source": [
    "df"
   ]
  },
  {
   "cell_type": "code",
   "execution_count": 8,
   "metadata": {},
   "outputs": [],
   "source": [
    "datos3 = driver.find_elements(By.CLASS_NAME, '_aa_c')\n",
    "datos3[0].text\n",
    "datos4 = []\n",
    "#aqui esta guardado el nombre de la descripcion de la cuenta y la descripcion\n",
    "#voy a separar datos3 en dos elementos, uno con el nombre de la cuenta y otro con la descripcion\n",
    "datos4.append(datos3[0].text.split('\\n',1)[0])\n",
    "datos4.append(datos3[0].text.split('\\n',1)[1])\n",
    "datos4[0], datos4[1]\n",
    "\n",
    "df.pg_nombre = datos4[0]\n",
    "df.pg_descripcion = datos4[1]\n",
    "#en datos 4[0] esta el nombre de la cuenta y en datos4[1] esta la descripcion\n",
    "\n"
   ]
  },
  {
   "cell_type": "code",
   "execution_count": 9,
   "metadata": {},
   "outputs": [
    {
     "data": {
      "text/html": [
       "<div>\n",
       "<style scoped>\n",
       "    .dataframe tbody tr th:only-of-type {\n",
       "        vertical-align: middle;\n",
       "    }\n",
       "\n",
       "    .dataframe tbody tr th {\n",
       "        vertical-align: top;\n",
       "    }\n",
       "\n",
       "    .dataframe thead th {\n",
       "        text-align: right;\n",
       "    }\n",
       "</style>\n",
       "<table border=\"1\" class=\"dataframe\">\n",
       "  <thead>\n",
       "    <tr style=\"text-align: right;\">\n",
       "      <th></th>\n",
       "      <th>pg_direccion</th>\n",
       "      <th>pg_nombre</th>\n",
       "      <th>pg_descripcion</th>\n",
       "      <th>pg_numero_de_publicaciones</th>\n",
       "      <th>pg_seguidores</th>\n",
       "      <th>pg_seguidos</th>\n",
       "      <th>ph_descripcion</th>\n",
       "      <th>ph_likes</th>\n",
       "      <th>ph_fecha</th>\n",
       "      <th>ph_url</th>\n",
       "      <th>ph_nombre</th>\n",
       "      <th>ph_atributos</th>\n",
       "    </tr>\n",
       "  </thead>\n",
       "  <tbody>\n",
       "    <tr>\n",
       "      <th>0</th>\n",
       "      <td>natgeo</td>\n",
       "      <td>National Geographic</td>\n",
       "      <td>Experience the world through the eyes of Natio...</td>\n",
       "      <td>27.849</td>\n",
       "      <td>266 M</td>\n",
       "      <td>140</td>\n",
       "      <td>NaN</td>\n",
       "      <td>NaN</td>\n",
       "      <td>NaN</td>\n",
       "      <td>NaN</td>\n",
       "      <td>NaN</td>\n",
       "      <td>NaN</td>\n",
       "    </tr>\n",
       "  </tbody>\n",
       "</table>\n",
       "</div>"
      ],
      "text/plain": [
       "  pg_direccion            pg_nombre  \\\n",
       "0       natgeo  National Geographic   \n",
       "\n",
       "                                      pg_descripcion  \\\n",
       "0  Experience the world through the eyes of Natio...   \n",
       "\n",
       "  pg_numero_de_publicaciones pg_seguidores pg_seguidos ph_descripcion  \\\n",
       "0                     27.849         266 M         140            NaN   \n",
       "\n",
       "  ph_likes ph_fecha ph_url ph_nombre ph_atributos  \n",
       "0      NaN      NaN    NaN       NaN          NaN  "
      ]
     },
     "execution_count": 9,
     "metadata": {},
     "output_type": "execute_result"
    }
   ],
   "source": [
    "#time.sleep(random.randint(6,8))\n",
    "#elemento = driver.find_element(By.XPATH, '/html/body/div[2]/div/div/div[1]/div/div/div/div[1]/div[1]/div[2]/section/main/div/div[4]/article/div[1]/div/div[1]/div[1]/a/div/div[2]')\n",
    "#elemento.click()\n",
    "df"
   ]
  },
  {
   "cell_type": "code",
   "execution_count": 10,
   "metadata": {},
   "outputs": [
    {
     "data": {
      "text/plain": [
       "'natgeo\\nVerificado\\nSiguiendo\\nEnviar mensaje\\n27.849 publicaciones\\n266 M seguidores\\n140 seguidos\\nNational Geographic\\nExperience the world through the eyes of National Geographic photographers.\\non.natgeo.com/instagram\\nanimalplanet, wildlife_photography_india, natgeowild y 17 más siguen esta cuenta\\nStonehenge\\nKing Tut\\nBlack Joy\\nOut of Eden\\nBallesta\\nArctic Life\\nMars AR\\nDino AR\\nReimagined Dino\\nHoneybees\\nEnd of Trash\\nChild Sacrifice\\nPangolins\\nWildlifeTourism\\nPUBLICACIONES\\nREELS\\nETIQUETADAS\\nMeta\\nInformación\\nBlog\\nEmpleo\\nAyuda\\nAPI\\nPrivacidad\\nCondiciones\\nCuentas destacadas\\nUbicaciones\\nInstagram Lite\\nSubir contactos y personas no usuarias\\nAviso de privacidad de los artículos coleccionables digitales\\nCuentas sugeridas\\nMeta Verified\\nEspañol (España)\\nAfrikaans\\nČeština\\nDansk\\nDeutsch\\nΕλληνικά\\nEnglish\\nEnglish (UK)\\nEspañol (España)\\nEspañol\\nSuomi\\nFrançais\\nBahasa Indonesia\\nItaliano\\n日本語\\n한국어\\nBahasa Melayu\\nNorsk\\nNederlands\\nPolski\\nPortuguês (Brasil)\\nPortuguês (Portugal)\\nРусский\\nSvenska\\nภาษาไทย\\nFilipino\\nTürkçe\\n中文(简体)\\n中文(台灣)\\nবাংলা\\nગુજરાતી\\nहिन्दी\\nHrvatski\\nMagyar\\nಕನ್ನಡ\\nമലയാളം\\nमराठी\\nनेपाली\\nਪੰਜਾਬੀ\\nසිංහල\\nSlovenčina\\nதமிழ்\\nతెలుగు\\nTiếng Việt\\n中文(香港)\\nБългарски\\nFrançais (Canada)\\nRomână\\nСрпски\\nУкраїнська\\n© 2023 Instagram from Meta'"
      ]
     },
     "execution_count": 10,
     "metadata": {},
     "output_type": "execute_result"
    }
   ],
   "source": [
    "datos5 = driver.find_elements(By.CLASS_NAME, 'x1iyjqo2')\n",
    "datos5[1].text"
   ]
  },
  {
   "cell_type": "code",
   "execution_count": 11,
   "metadata": {},
   "outputs": [],
   "source": [
    "time.sleep(random.randint(1,3))\n",
    "boton = driver.find_elements(By.XPATH, '/html/body/div[2]/div/div/div[1]/div/div/div/div[1]/div[1]/div[2]/section/main/div/div[3]/article/div[1]/div/div[1]/div[1]/a/div[1]/div[2]')\n",
    "boton[0].click()\n",
    "#Este codigo es para hacer click sobre una publicacion en concreto, no creo que sirva para el propósito que busco\n",
    "#De momento este es el codigo que mejor me sirve para el click en la primera publicacion"
   ]
  },
  {
   "cell_type": "code",
   "execution_count": 12,
   "metadata": {},
   "outputs": [
    {
     "data": {
      "text/plain": [
       "\"boton2 = driver.find_elements(By.XPATH, '/html/body/div[2]/div/div/div[1]/div/div/div/div[1]/div[1]/div[2]/section/main/div/div[3]/article/div[1]/div')\\nboton2[0].click()\\n#Este codigo es para hacer click sobre una publicacion en concreto, no creo que sirva para el propósito que busco\""
      ]
     },
     "execution_count": 12,
     "metadata": {},
     "output_type": "execute_result"
    }
   ],
   "source": [
    "\"\"\"boton2 = driver.find_elements(By.XPATH, '/html/body/div[2]/div/div/div[1]/div/div/div/div[1]/div[1]/div[2]/section/main/div/div[3]/article/div[1]/div')\n",
    "boton2[0].click()\n",
    "#Este codigo es para hacer click sobre una publicacion en concreto, no creo que sirva para el propósito que busco\"\"\""
   ]
  },
  {
   "cell_type": "code",
   "execution_count": 13,
   "metadata": {},
   "outputs": [
    {
     "data": {
      "text/plain": [
       "\"boton3 = driver.find_elements(By.XPATH, '/html/body/div[2]/div/div/div[1]/div/div/div/div[1]/div[1]/div[2]/section/main/div/div')\\nboton3[2].click()\\n#este puede servir mejor\""
      ]
     },
     "execution_count": 13,
     "metadata": {},
     "output_type": "execute_result"
    }
   ],
   "source": [
    "\"\"\"boton3 = driver.find_elements(By.XPATH, '/html/body/div[2]/div/div/div[1]/div/div/div/div[1]/div[1]/div[2]/section/main/div/div')\n",
    "boton3[2].click()\n",
    "#este puede servir mejor\"\"\""
   ]
  },
  {
   "cell_type": "code",
   "execution_count": 14,
   "metadata": {},
   "outputs": [
    {
     "data": {
      "text/html": [
       "<div>\n",
       "<style scoped>\n",
       "    .dataframe tbody tr th:only-of-type {\n",
       "        vertical-align: middle;\n",
       "    }\n",
       "\n",
       "    .dataframe tbody tr th {\n",
       "        vertical-align: top;\n",
       "    }\n",
       "\n",
       "    .dataframe thead th {\n",
       "        text-align: right;\n",
       "    }\n",
       "</style>\n",
       "<table border=\"1\" class=\"dataframe\">\n",
       "  <thead>\n",
       "    <tr style=\"text-align: right;\">\n",
       "      <th></th>\n",
       "      <th>pg_direccion</th>\n",
       "      <th>pg_nombre</th>\n",
       "      <th>pg_descripcion</th>\n",
       "      <th>pg_numero_de_publicaciones</th>\n",
       "      <th>pg_seguidores</th>\n",
       "      <th>pg_seguidos</th>\n",
       "      <th>ph_descripcion</th>\n",
       "      <th>ph_likes</th>\n",
       "      <th>ph_fecha</th>\n",
       "      <th>ph_url</th>\n",
       "      <th>ph_nombre</th>\n",
       "      <th>ph_atributos</th>\n",
       "    </tr>\n",
       "  </thead>\n",
       "  <tbody>\n",
       "    <tr>\n",
       "      <th>0</th>\n",
       "      <td>natgeo</td>\n",
       "      <td>National Geographic</td>\n",
       "      <td>Experience the world through the eyes of Natio...</td>\n",
       "      <td>27.849</td>\n",
       "      <td>266 M</td>\n",
       "      <td>140</td>\n",
       "      <td>NaN</td>\n",
       "      <td>NaN</td>\n",
       "      <td>NaN</td>\n",
       "      <td>NaN</td>\n",
       "      <td>NaN</td>\n",
       "      <td>NaN</td>\n",
       "    </tr>\n",
       "  </tbody>\n",
       "</table>\n",
       "</div>"
      ],
      "text/plain": [
       "  pg_direccion            pg_nombre  \\\n",
       "0       natgeo  National Geographic   \n",
       "\n",
       "                                      pg_descripcion  \\\n",
       "0  Experience the world through the eyes of Natio...   \n",
       "\n",
       "  pg_numero_de_publicaciones pg_seguidores pg_seguidos ph_descripcion  \\\n",
       "0                     27.849         266 M         140            NaN   \n",
       "\n",
       "  ph_likes ph_fecha ph_url ph_nombre ph_atributos  \n",
       "0      NaN      NaN    NaN       NaN          NaN  "
      ]
     },
     "execution_count": 14,
     "metadata": {},
     "output_type": "execute_result"
    }
   ],
   "source": [
    "df"
   ]
  },
  {
   "cell_type": "code",
   "execution_count": 15,
   "metadata": {},
   "outputs": [
    {
     "data": {
      "text/plain": [
       "\"descripcion = driver.find_elements(By.CLASS_NAME, '_a9zm')\\ndescripcion[0].text\\n#este codigo es para obtener la descripcion de la publicacion\\n#voy a trocearlo para coger la descripcion y los hashtags\\ndf.ph_descripcion = descripcion[0].text\\ndf\""
      ]
     },
     "execution_count": 15,
     "metadata": {},
     "output_type": "execute_result"
    }
   ],
   "source": [
    "\"\"\"descripcion = driver.find_elements(By.CLASS_NAME, '_a9zm')\n",
    "descripcion[0].text\n",
    "#este codigo es para obtener la descripcion de la publicacion\n",
    "#voy a trocearlo para coger la descripcion y los hashtags\n",
    "df.ph_descripcion = descripcion[0].text\n",
    "df\"\"\""
   ]
  },
  {
   "cell_type": "code",
   "execution_count": 16,
   "metadata": {},
   "outputs": [
    {
     "data": {
      "text/plain": [
       "\"#ahora vamos a coger el numero de likes y la hora de la publicacion\\ndatos6 = driver.find_elements(By.CLASS_NAME, '_aacl')\\n#este codigo no sirve muy bien porque la clase está numerada rara\""
      ]
     },
     "execution_count": 16,
     "metadata": {},
     "output_type": "execute_result"
    }
   ],
   "source": [
    "\"\"\"#ahora vamos a coger el numero de likes y la hora de la publicacion\n",
    "datos6 = driver.find_elements(By.CLASS_NAME, '_aacl')\n",
    "#este codigo no sirve muy bien porque la clase está numerada rara\"\"\""
   ]
  },
  {
   "cell_type": "code",
   "execution_count": null,
   "metadata": {},
   "outputs": [],
   "source": []
  },
  {
   "cell_type": "code",
   "execution_count": 17,
   "metadata": {},
   "outputs": [
    {
     "data": {
      "text/plain": [
       "\"import requests\\n\\nurl = 'https://scontent-mad2-1.cdninstagram.com/v/t51.2885-15/334583247_1640489326380800_1666787901082737621_n.jpg?stp=dst-jpg_e35_p1080x1080&_nc_ht=scontent-mad2-1.cdninstagram.com&_nc_cat=1&_nc_ohc=0jR8EFI7bhkAX_tTusa&edm=AGenrX8BAAAA&ccb=7-5&oh=00_AfD3HT6hG53rPnrCsi_810CIKH-qGisb5s_pQvbEOroVkQ&oe=64114673&_nc_sid=5eceaa' # URL de la imagen\\nnombre_archivo = 'prueba.jpg' # Nombre del archivo que deseas guardar\\n\\n# Descargar la imagen\\n\\n# Guardar la imagen en un archivo\\nwith open(nombre_archivo, 'wb') as archivo:\\n    archivo.write(respuesta.content)\""
      ]
     },
     "execution_count": 17,
     "metadata": {},
     "output_type": "execute_result"
    }
   ],
   "source": [
    "\"\"\"import requests\n",
    "\n",
    "url = 'https://scontent-mad2-1.cdninstagram.com/v/t51.2885-15/334583247_1640489326380800_1666787901082737621_n.jpg?stp=dst-jpg_e35_p1080x1080&_nc_ht=scontent-mad2-1.cdninstagram.com&_nc_cat=1&_nc_ohc=0jR8EFI7bhkAX_tTusa&edm=AGenrX8BAAAA&ccb=7-5&oh=00_AfD3HT6hG53rPnrCsi_810CIKH-qGisb5s_pQvbEOroVkQ&oe=64114673&_nc_sid=5eceaa' # URL de la imagen\n",
    "nombre_archivo = 'prueba.jpg' # Nombre del archivo que deseas guardar\n",
    "\n",
    "# Descargar la imagen\n",
    "\n",
    "# Guardar la imagen en un archivo\n",
    "with open(nombre_archivo, 'wb') as archivo:\n",
    "    archivo.write(respuesta.content)\"\"\""
   ]
  },
  {
   "cell_type": "code",
   "execution_count": 18,
   "metadata": {},
   "outputs": [
    {
     "name": "stdout",
     "output_type": "stream",
     "text": [
      "no\n"
     ]
    }
   ],
   "source": [
    "if driver.find_elements(By.CLASS_NAME, 'xg10s4p'):\n",
    "    print('si')\n",
    "else:\n",
    "    print('no')\n",
    "#este codigo comprueba que sea una publicacion con video o foto"
   ]
  },
  {
   "cell_type": "code",
   "execution_count": 19,
   "metadata": {},
   "outputs": [],
   "source": [
    "def sivideo():  \n",
    "    if driver.find_elements(By.CLASS_NAME, 'xg10s4p'):\n",
    "        return 1\n",
    "    else:\n",
    "        return 0\n",
    "#lo cargo en una funcion para poder llamarla desde el bucle\n",
    "\n",
    "def siguientefoto():\n",
    "\n",
    "    while True:\n",
    "        time.sleep(random.randint(1,3))\n",
    "        try:\n",
    "            boton1 = driver.find_elements(By.XPATH, '/html/body/div[2]/div/div/div[2]/div/div/div[1]/div/div[3]/div/div/div/div/div[2]/div/article/div/div[1]/div/div[1]/div[2]/div/button')\n",
    "            boton1[1].click()\n",
    "        except:\n",
    "            boton2 = driver.find_elements(By.XPATH, '/html/body/div[2]/div/div/div[2]/div/div/div[1]/div/div[3]/div/div/div/div/div[1]/div/div/div/button')\n",
    "            time.sleep(random.randint(1,3))\n",
    "            boton2[1].click()\n",
    "            break\n",
    "#este codigo es para pasar a la siguiente foto, si no hay siguiente foto, se sale del bucle. Creo que no hace falta porque puedo coger las fotos desde otro lado"
   ]
  },
  {
   "cell_type": "code",
   "execution_count": 20,
   "metadata": {},
   "outputs": [],
   "source": [
    "boton1 = driver.find_elements(By.XPATH, '/html/body/div[2]/div/div/div[2]/div/div/div[1]/div/div[3]/div/div/div/div/div[2]/div/article/div/div[1]/div/div[1]/div[2]/div/button')\n",
    "\n",
    "boton2 = driver.find_elements(By.XPATH, '/html/body/div[2]/div/div/div[2]/div/div/div[1]/div/div[3]/div/div/div/div/div[1]/div/div/div/button')\n",
    "\n",
    "time.sleep(random.randint(1,3))\n",
    "\n",
    "boton2[0].click()\n",
    "time.sleep(random.randint(1,3))\n",
    "#aqui paso la primera foto, porque es necesario para que siga funcionando el codigo ya que el boton de primera foto es distinto al de siguiente foto"
   ]
  },
  {
   "cell_type": "code",
   "execution_count": 21,
   "metadata": {},
   "outputs": [],
   "source": [
    "try:\n",
    "    boton1 = driver.find_elements(By.XPATH, '/html/body/div[2]/div/div/div[2]/div/div/div[1]/div/div[3]/div/div/div/div/div[2]/div/article/div/div[1]/div/div[1]/div[2]/div/button')\n",
    "    boton1[0].click()\n",
    "    siguientefoto()\n",
    "\n",
    "except:\n",
    "    boton2 = driver.find_elements(By.XPATH, '/html/body/div[2]/div/div/div[2]/div/div/div[1]/div/div[3]/div/div/div/div/div[1]/div/div/div/button')\n",
    "    boton2[1].click()\n",
    "#aqui va pasando foto a foto hasta que no hay mas fotos"
   ]
  },
  {
   "cell_type": "code",
   "execution_count": 22,
   "metadata": {},
   "outputs": [
    {
     "data": {
      "text/plain": [
       "\"boton1 = driver.find_elements(By.XPATH, '/html/body/div[2]/div/div/div[2]/div/div/div[1]/div/div[3]/div/div/div/div/div[2]/div/article/div/div[1]/div/div[1]/div[2]/div/button')\\nboton2 = driver.find_elements(By.XPATH, '/html/body/div[2]/div/div/div[2]/div/div/div[1]/div/div[3]/div/div/div/div/div[1]/div/div/div/button')\\n                                        \\n#boton1[0].click()\\nboton2[1].click()\""
      ]
     },
     "execution_count": 22,
     "metadata": {},
     "output_type": "execute_result"
    }
   ],
   "source": [
    "\"\"\"boton1 = driver.find_elements(By.XPATH, '/html/body/div[2]/div/div/div[2]/div/div/div[1]/div/div[3]/div/div/div/div/div[2]/div/article/div/div[1]/div/div[1]/div[2]/div/button')\n",
    "boton2 = driver.find_elements(By.XPATH, '/html/body/div[2]/div/div/div[2]/div/div/div[1]/div/div[3]/div/div/div/div/div[1]/div/div/div/button')\n",
    "                                        \n",
    "#boton1[0].click()\n",
    "boton2[1].click()\"\"\""
   ]
  },
  {
   "cell_type": "code",
   "execution_count": null,
   "metadata": {},
   "outputs": [],
   "source": []
  },
  {
   "cell_type": "code",
   "execution_count": 23,
   "metadata": {},
   "outputs": [
    {
     "data": {
      "text/plain": [
       "\"contador = 0\\nwhile contador < 100:\\n    if driver.find_elements(By.CLASS_NAME, 'xg10s4p'):\\n        boton = driver.find_elements(By.XPATH, '/html/body/div[2]/div/div/div[2]/div/div/div[1]/div/div[3]/div/div/div/div/div[1]/div/div/div[2]/button')\\n        boton[0].click()\\n        pass\""
      ]
     },
     "execution_count": 23,
     "metadata": {},
     "output_type": "execute_result"
    }
   ],
   "source": [
    "\"\"\"contador = 0\n",
    "while contador < 100:\n",
    "    if driver.find_elements(By.CLASS_NAME, 'xg10s4p'):\n",
    "        boton = driver.find_elements(By.XPATH, '/html/body/div[2]/div/div/div[2]/div/div/div[1]/div/div[3]/div/div/div/div/div[1]/div/div/div[2]/button')\n",
    "        boton[0].click()\n",
    "        pass\"\"\"\n",
    "    "
   ]
  },
  {
   "cell_type": "code",
   "execution_count": 24,
   "metadata": {},
   "outputs": [
    {
     "data": {
      "text/plain": [
       "'#Vamos a intentar sacar la informacion que hay en la etiqueta \"_aagv\"\\netiqueta = driver.find_elements(By.XPATH, \"/html/body/div[2]/div/div/div[2]/div/div/div[1]/div/div[3]/div/div/div/div/div[2]/div/article/div/div[1]/div/div/div/div[1]/img\")\\netiqueta[0].text\\n'"
      ]
     },
     "execution_count": 24,
     "metadata": {},
     "output_type": "execute_result"
    }
   ],
   "source": [
    "\"\"\"#Vamos a intentar sacar la informacion que hay en la etiqueta \"_aagv\"\n",
    "etiqueta = driver.find_elements(By.XPATH, \"/html/body/div[2]/div/div/div[2]/div/div/div[1]/div/div[3]/div/div/div/div/div[2]/div/article/div/div[1]/div/div/div/div[1]/img\")\n",
    "etiqueta[0].text\n",
    "\"\"\""
   ]
  },
  {
   "cell_type": "code",
   "execution_count": 25,
   "metadata": {},
   "outputs": [
    {
     "data": {
      "text/plain": [
       "''"
      ]
     },
     "execution_count": 25,
     "metadata": {},
     "output_type": "execute_result"
    }
   ],
   "source": [
    "etiqueta = driver.find_elements(By.CLASS_NAME, '_aagv')\n",
    "etiqueta[3].text"
   ]
  },
  {
   "cell_type": "code",
   "execution_count": 26,
   "metadata": {},
   "outputs": [
    {
     "data": {
      "text/plain": [
       "''"
      ]
     },
     "execution_count": 26,
     "metadata": {},
     "output_type": "execute_result"
    }
   ],
   "source": [
    "etiqueta[0].text"
   ]
  },
  {
   "cell_type": "code",
   "execution_count": 27,
   "metadata": {},
   "outputs": [
    {
     "data": {
      "text/html": [
       "<div>\n",
       "<style scoped>\n",
       "    .dataframe tbody tr th:only-of-type {\n",
       "        vertical-align: middle;\n",
       "    }\n",
       "\n",
       "    .dataframe tbody tr th {\n",
       "        vertical-align: top;\n",
       "    }\n",
       "\n",
       "    .dataframe thead th {\n",
       "        text-align: right;\n",
       "    }\n",
       "</style>\n",
       "<table border=\"1\" class=\"dataframe\">\n",
       "  <thead>\n",
       "    <tr style=\"text-align: right;\">\n",
       "      <th></th>\n",
       "      <th>pg_direccion</th>\n",
       "      <th>pg_nombre</th>\n",
       "      <th>pg_descripcion</th>\n",
       "      <th>pg_numero_de_publicaciones</th>\n",
       "      <th>pg_seguidores</th>\n",
       "      <th>pg_seguidos</th>\n",
       "      <th>ph_descripcion</th>\n",
       "      <th>ph_likes</th>\n",
       "      <th>ph_fecha</th>\n",
       "      <th>ph_url</th>\n",
       "      <th>ph_nombre</th>\n",
       "      <th>ph_atributos</th>\n",
       "    </tr>\n",
       "  </thead>\n",
       "  <tbody>\n",
       "    <tr>\n",
       "      <th>0</th>\n",
       "      <td>natgeo</td>\n",
       "      <td>National Geographic</td>\n",
       "      <td>Experience the world through the eyes of Natio...</td>\n",
       "      <td>27.849</td>\n",
       "      <td>266 M</td>\n",
       "      <td>140</td>\n",
       "      <td>NaN</td>\n",
       "      <td>NaN</td>\n",
       "      <td>NaN</td>\n",
       "      <td>NaN</td>\n",
       "      <td>NaN</td>\n",
       "      <td>NaN</td>\n",
       "    </tr>\n",
       "  </tbody>\n",
       "</table>\n",
       "</div>"
      ],
      "text/plain": [
       "  pg_direccion            pg_nombre  \\\n",
       "0       natgeo  National Geographic   \n",
       "\n",
       "                                      pg_descripcion  \\\n",
       "0  Experience the world through the eyes of Natio...   \n",
       "\n",
       "  pg_numero_de_publicaciones pg_seguidores pg_seguidos ph_descripcion  \\\n",
       "0                     27.849         266 M         140            NaN   \n",
       "\n",
       "  ph_likes ph_fecha ph_url ph_nombre ph_atributos  \n",
       "0      NaN      NaN    NaN       NaN          NaN  "
      ]
     },
     "execution_count": 27,
     "metadata": {},
     "output_type": "execute_result"
    }
   ],
   "source": [
    "df"
   ]
  },
  {
   "cell_type": "code",
   "execution_count": 28,
   "metadata": {},
   "outputs": [
    {
     "data": {
      "text/plain": [
       "\"likes = driver.find_elements(By.CLASS_NAME, '_aacl')\\nlikes[0].text\""
      ]
     },
     "execution_count": 28,
     "metadata": {},
     "output_type": "execute_result"
    }
   ],
   "source": [
    "\"\"\"likes = driver.find_elements(By.CLASS_NAME, '_aacl')\n",
    "likes[0].text\"\"\""
   ]
  },
  {
   "cell_type": "code",
   "execution_count": 29,
   "metadata": {},
   "outputs": [
    {
     "data": {
      "text/plain": [
       "\"#ahora vamos a coger el numero de likes y la hora de la publicacion,pero no sirve muy bien\\ndatos6 = driver.find_elements(By.CLASS_NAME, '_aacl')\\nlikespub = datos6[47].text\\nlikespub\""
      ]
     },
     "execution_count": 29,
     "metadata": {},
     "output_type": "execute_result"
    }
   ],
   "source": [
    "\"\"\"#ahora vamos a coger el numero de likes y la hora de la publicacion,pero no sirve muy bien\n",
    "datos6 = driver.find_elements(By.CLASS_NAME, '_aacl')\n",
    "likespub = datos6[47].text\n",
    "likespub\"\"\""
   ]
  },
  {
   "cell_type": "code",
   "execution_count": 30,
   "metadata": {},
   "outputs": [
    {
     "data": {
      "text/plain": [
       "'descrippub = datos6[46].text\\ndescrippub'"
      ]
     },
     "execution_count": 30,
     "metadata": {},
     "output_type": "execute_result"
    }
   ],
   "source": [
    "\"\"\"descrippub = datos6[46].text\n",
    "descrippub\"\"\""
   ]
  },
  {
   "cell_type": "code",
   "execution_count": 31,
   "metadata": {},
   "outputs": [],
   "source": [
    "element = driver.find_element(By.CSS_SELECTOR, '._aacl._aacm._aacu._aacy._aad6')"
   ]
  },
  {
   "cell_type": "code",
   "execution_count": 32,
   "metadata": {},
   "outputs": [
    {
     "data": {
      "text/plain": [
       "'HACE 10 HORAS'"
      ]
     },
     "execution_count": 32,
     "metadata": {},
     "output_type": "execute_result"
    }
   ],
   "source": [
    "element.text"
   ]
  },
  {
   "cell_type": "code",
   "execution_count": 33,
   "metadata": {},
   "outputs": [
    {
     "data": {
      "text/plain": [
       "'2023-03-14T13:00:15.000Z'"
      ]
     },
     "execution_count": 33,
     "metadata": {},
     "output_type": "execute_result"
    }
   ],
   "source": [
    "hora = driver.find_elements(By.CLASS_NAME, '_aaqe')\n",
    "hora1 = hora[0].get_attribute('datetime')\n",
    "hora1"
   ]
  },
  {
   "cell_type": "code",
   "execution_count": 34,
   "metadata": {},
   "outputs": [
    {
     "data": {
      "text/plain": [
       "'39.287 Me gusta'"
      ]
     },
     "execution_count": 34,
     "metadata": {},
     "output_type": "execute_result"
    }
   ],
   "source": [
    "likes2 = driver.find_element(By.CSS_SELECTOR, '._aacl._aaco._aacw._aacx._aada._aade')\n",
    "likes2.text"
   ]
  },
  {
   "cell_type": "code",
   "execution_count": 35,
   "metadata": {},
   "outputs": [
    {
     "data": {
      "text/plain": [
       "'Photos by @richardbarnes | Since 2019 I\\'ve been photographing for a National Geographic story on the repatriation of objects from European and North American museums to the countries that originally created them. For many years now I\\'ve been involved in photography in and around museum collections across the globe. I\\'m interested in how nations or peoples define themselves through their collections and how those collections were obtained, curated, and put on display.\\n\\nColonial powers acquired (some would say stole) sacred objects and historical artifacts from African nations as well as from North American Indian tribes for the better part of the 19th and early 20th centuries. Recently, curators, museum directors, politicians, and others have advocated a return of these objects to their \"rightful\" owners, primarily in African nations. I\\'ve photographed in Cameroon, Nigeria, Benin, and Kenya, as well as in numerous European and North American museums where these objects have been housed for decades. It\\'s a complex and nuanced story: In many instances it\\'s unclear if the objects that ended up in European and American museums were legally obtained, \"gifted,\" or stolen. In some cases—as with the thousands of Benin Bronzes, which were looted by the British in a punitive raid of 1897—it\\'s clear, but in others it\\'s open to interpretation and not so definitive as to how the objects found their way into European and North American collections.\\n\\nNational Geographic and writer Andrew Curry take on this important story and examine it from all sides in the March edition of the magazine. I am grateful to have been a part of it. Read the full story at the link in bio.'"
      ]
     },
     "execution_count": 35,
     "metadata": {},
     "output_type": "execute_result"
    }
   ],
   "source": [
    "descripcion1 = driver.find_element(By.CSS_SELECTOR, '._aacl._aaco._aacu._aacx._aad7._aade')\n",
    "descripcion1.text"
   ]
  },
  {
   "cell_type": "code",
   "execution_count": 36,
   "metadata": {},
   "outputs": [
    {
     "data": {
      "text/plain": [
       "'https://scontent-mad2-1.cdninstagram.com/v/t51.2885-15/335985916_1427286254686271_4964423903756773910_n.jpg?stp=dst-jpg_e35&_nc_ht=scontent-mad2-1.cdninstagram.com&_nc_cat=1&_nc_ohc=gqZA8ZRKkKMAX_1KRlH&edm=ACWDqb8BAAAA&ccb=7-5&ig_cache_key=MzA1ODMwODUyMTM5OTE2MzIzMw%3D%3D.2-ccb7-5&oh=00_AfAlwGCA4766ZGpgTUt8PPw-RQqYhnKPbd0P8-6LKkRR0g&oe=64164757&_nc_sid=1527a3'"
      ]
     },
     "execution_count": 36,
     "metadata": {},
     "output_type": "execute_result"
    }
   ],
   "source": [
    "contfoto = driver.find_elements(By.CSS_SELECTOR, '._aagu._aato')\n",
    "contenido = contfoto[0].get_attribute('innerHTML')\n",
    "contenido\n",
    "imagen = contfoto[0].find_elements(By.CSS_SELECTOR, 'img')\n",
    "alt = imagen[0].get_attribute('alt')\n",
    "alt\n",
    "src = imagen[0].get_attribute('src')\n",
    "src\n",
    "\n"
   ]
  },
  {
   "cell_type": "code",
   "execution_count": 37,
   "metadata": {},
   "outputs": [
    {
     "data": {
      "text/plain": [
       "'Photo by National Geographic on March 14, 2023. May be an image of 2 people, people standing and indoor.'"
      ]
     },
     "execution_count": 37,
     "metadata": {},
     "output_type": "execute_result"
    }
   ],
   "source": [
    "alt"
   ]
  },
  {
   "cell_type": "code",
   "execution_count": 38,
   "metadata": {},
   "outputs": [
    {
     "data": {
      "text/plain": [
       "''"
      ]
     },
     "execution_count": 38,
     "metadata": {},
     "output_type": "execute_result"
    }
   ],
   "source": [
    "imagen[0].text"
   ]
  },
  {
   "cell_type": "code",
   "execution_count": 50,
   "metadata": {},
   "outputs": [],
   "source": [
    "carpeta = '../images'\n",
    "imagen_respuesta = requests.get(src)\n",
    "archivo_nombre = 'ejemplo2.jpg'\n",
    "archivo_ruta = os.path.join(carpeta, archivo_nombre)\n",
    "with open(archivo_ruta, 'wb') as archivo:\n",
    "    archivo.write(imagen_respuesta.content)"
   ]
  },
  {
   "cell_type": "code",
   "execution_count": 51,
   "metadata": {},
   "outputs": [
    {
     "data": {
      "text/plain": [
       "'imagen_respuesta = requests.get(src)\\ncarpeta = \"../images\"\\nnombre = \"imagenpreuba2.jpg\"\\narchivo = os.path.join(carpeta, nombre)\\nwith open(archivo, \"wb\") as archivo:\\n    archivo.write(imagen_respuesta.content)'"
      ]
     },
     "execution_count": 51,
     "metadata": {},
     "output_type": "execute_result"
    }
   ],
   "source": [
    "\"\"\"imagen_respuesta = requests.get(src)\n",
    "carpeta = \"../images\"\n",
    "nombre = \"imagenpreuba2.jpg\"\n",
    "archivo = os.path.join(carpeta, nombre)\n",
    "with open(archivo, \"wb\") as archivo:\n",
    "    archivo.write(imagen_respuesta.content)\"\"\"\n"
   ]
  },
  {
   "cell_type": "code",
   "execution_count": 80,
   "metadata": {},
   "outputs": [],
   "source": [
    "contfoto = driver.find_elements(By.CSS_SELECTOR, '._aagu._aato')\n",
    "contenido = contfoto[0].get_attribute('innerHTML')\n",
    "contenido\n",
    "boton1 = driver.find_elements(By.XPATH, '/html/body/div[2]/div/div/div[2]/div/div/div[1]/div/div[3]/div/div/div/div/div[2]/div/article/div/div[1]/div/div[1]/div[2]/div/button')\n",
    "boton1[1].click()"
   ]
  },
  {
   "cell_type": "code",
   "execution_count": 81,
   "metadata": {},
   "outputs": [
    {
     "ename": "StaleElementReferenceException",
     "evalue": "Message: stale element reference: element is not attached to the page document\n  (Session info: chrome=111.0.5563.64)\nStacktrace:\n0   chromedriver                        0x000000010c948428 chromedriver + 4899880\n1   chromedriver                        0x000000010c8c5a23 chromedriver + 4364835\n2   chromedriver                        0x000000010c50fbf6 chromedriver + 474102\n3   chromedriver                        0x000000010c513c94 chromedriver + 490644\n4   chromedriver                        0x000000010c513876 chromedriver + 489590\n5   chromedriver                        0x000000010c5148f9 chromedriver + 493817\n6   chromedriver                        0x000000010c5958b4 chromedriver + 1022132\n7   chromedriver                        0x000000010c579562 chromedriver + 906594\n8   chromedriver                        0x000000010c594b5b chromedriver + 1018715\n9   chromedriver                        0x000000010c579333 chromedriver + 906035\n10  chromedriver                        0x000000010c54355f chromedriver + 685407\n11  chromedriver                        0x000000010c544a7e chromedriver + 690814\n12  chromedriver                        0x000000010c91579e chromedriver + 4691870\n13  chromedriver                        0x000000010c91a961 chromedriver + 4712801\n14  chromedriver                        0x000000010c9212ff chromedriver + 4739839\n15  chromedriver                        0x000000010c91b85a chromedriver + 4716634\n16  chromedriver                        0x000000010c8edfce chromedriver + 4530126\n17  chromedriver                        0x000000010c93b5c8 chromedriver + 4847048\n18  chromedriver                        0x000000010c93b747 chromedriver + 4847431\n19  chromedriver                        0x000000010c95087f chromedriver + 4933759\n20  libsystem_pthread.dylib             0x00007ff81ad37259 _pthread_start + 125\n21  libsystem_pthread.dylib             0x00007ff81ad32c7b thread_start + 15\n",
     "output_type": "error",
     "traceback": [
      "\u001b[0;31m---------------------------------------------------------------------------\u001b[0m",
      "\u001b[0;31mStaleElementReferenceException\u001b[0m            Traceback (most recent call last)",
      "\u001b[0;32m/var/folders/bw/khd8ptmn3_9fkbzj7_596v7c0000gn/T/ipykernel_99448/353594423.py\u001b[0m in \u001b[0;36m<module>\u001b[0;34m\u001b[0m\n\u001b[1;32m      1\u001b[0m \u001b[0;32mfor\u001b[0m \u001b[0mi\u001b[0m \u001b[0;32min\u001b[0m \u001b[0mcontfoto\u001b[0m\u001b[0;34m:\u001b[0m\u001b[0;34m\u001b[0m\u001b[0;34m\u001b[0m\u001b[0m\n\u001b[0;32m----> 2\u001b[0;31m     \u001b[0mprint\u001b[0m\u001b[0;34m(\u001b[0m\u001b[0mi\u001b[0m\u001b[0;34m.\u001b[0m\u001b[0mget_attribute\u001b[0m\u001b[0;34m(\u001b[0m\u001b[0;34m'innerHTML'\u001b[0m\u001b[0;34m)\u001b[0m\u001b[0;34m)\u001b[0m\u001b[0;34m\u001b[0m\u001b[0;34m\u001b[0m\u001b[0m\n\u001b[0m",
      "\u001b[0;32m~/opt/anaconda3/lib/python3.9/site-packages/selenium/webdriver/remote/webelement.py\u001b[0m in \u001b[0;36mget_attribute\u001b[0;34m(self, name)\u001b[0m\n\u001b[1;32m    175\u001b[0m         \u001b[0;32mif\u001b[0m \u001b[0mgetAttribute_js\u001b[0m \u001b[0;32mis\u001b[0m \u001b[0;32mNone\u001b[0m\u001b[0;34m:\u001b[0m\u001b[0;34m\u001b[0m\u001b[0;34m\u001b[0m\u001b[0m\n\u001b[1;32m    176\u001b[0m             \u001b[0m_load_js\u001b[0m\u001b[0;34m(\u001b[0m\u001b[0;34m)\u001b[0m\u001b[0;34m\u001b[0m\u001b[0;34m\u001b[0m\u001b[0m\n\u001b[0;32m--> 177\u001b[0;31m         \u001b[0mattribute_value\u001b[0m \u001b[0;34m=\u001b[0m \u001b[0mself\u001b[0m\u001b[0;34m.\u001b[0m\u001b[0mparent\u001b[0m\u001b[0;34m.\u001b[0m\u001b[0mexecute_script\u001b[0m\u001b[0;34m(\u001b[0m\u001b[0;34mf\"return ({getAttribute_js}).apply(null, arguments);\"\u001b[0m\u001b[0;34m,\u001b[0m \u001b[0mself\u001b[0m\u001b[0;34m,\u001b[0m \u001b[0mname\u001b[0m\u001b[0;34m)\u001b[0m\u001b[0;34m\u001b[0m\u001b[0;34m\u001b[0m\u001b[0m\n\u001b[0m\u001b[1;32m    178\u001b[0m         \u001b[0;32mreturn\u001b[0m \u001b[0mattribute_value\u001b[0m\u001b[0;34m\u001b[0m\u001b[0;34m\u001b[0m\u001b[0m\n\u001b[1;32m    179\u001b[0m \u001b[0;34m\u001b[0m\u001b[0m\n",
      "\u001b[0;32m~/opt/anaconda3/lib/python3.9/site-packages/selenium/webdriver/remote/webdriver.py\u001b[0m in \u001b[0;36mexecute_script\u001b[0;34m(self, script, *args)\u001b[0m\n\u001b[1;32m    498\u001b[0m         \u001b[0mcommand\u001b[0m \u001b[0;34m=\u001b[0m \u001b[0mCommand\u001b[0m\u001b[0;34m.\u001b[0m\u001b[0mW3C_EXECUTE_SCRIPT\u001b[0m\u001b[0;34m\u001b[0m\u001b[0;34m\u001b[0m\u001b[0m\n\u001b[1;32m    499\u001b[0m \u001b[0;34m\u001b[0m\u001b[0m\n\u001b[0;32m--> 500\u001b[0;31m         \u001b[0;32mreturn\u001b[0m \u001b[0mself\u001b[0m\u001b[0;34m.\u001b[0m\u001b[0mexecute\u001b[0m\u001b[0;34m(\u001b[0m\u001b[0mcommand\u001b[0m\u001b[0;34m,\u001b[0m \u001b[0;34m{\u001b[0m\u001b[0;34m\"script\"\u001b[0m\u001b[0;34m:\u001b[0m \u001b[0mscript\u001b[0m\u001b[0;34m,\u001b[0m \u001b[0;34m\"args\"\u001b[0m\u001b[0;34m:\u001b[0m \u001b[0mconverted_args\u001b[0m\u001b[0;34m}\u001b[0m\u001b[0;34m)\u001b[0m\u001b[0;34m[\u001b[0m\u001b[0;34m\"value\"\u001b[0m\u001b[0;34m]\u001b[0m\u001b[0;34m\u001b[0m\u001b[0;34m\u001b[0m\u001b[0m\n\u001b[0m\u001b[1;32m    501\u001b[0m \u001b[0;34m\u001b[0m\u001b[0m\n\u001b[1;32m    502\u001b[0m     \u001b[0;32mdef\u001b[0m \u001b[0mexecute_async_script\u001b[0m\u001b[0;34m(\u001b[0m\u001b[0mself\u001b[0m\u001b[0;34m,\u001b[0m \u001b[0mscript\u001b[0m\u001b[0;34m:\u001b[0m \u001b[0mstr\u001b[0m\u001b[0;34m,\u001b[0m \u001b[0;34m*\u001b[0m\u001b[0margs\u001b[0m\u001b[0;34m)\u001b[0m\u001b[0;34m:\u001b[0m\u001b[0;34m\u001b[0m\u001b[0;34m\u001b[0m\u001b[0m\n",
      "\u001b[0;32m~/opt/anaconda3/lib/python3.9/site-packages/selenium/webdriver/remote/webdriver.py\u001b[0m in \u001b[0;36mexecute\u001b[0;34m(self, driver_command, params)\u001b[0m\n\u001b[1;32m    438\u001b[0m         \u001b[0mresponse\u001b[0m \u001b[0;34m=\u001b[0m \u001b[0mself\u001b[0m\u001b[0;34m.\u001b[0m\u001b[0mcommand_executor\u001b[0m\u001b[0;34m.\u001b[0m\u001b[0mexecute\u001b[0m\u001b[0;34m(\u001b[0m\u001b[0mdriver_command\u001b[0m\u001b[0;34m,\u001b[0m \u001b[0mparams\u001b[0m\u001b[0;34m)\u001b[0m\u001b[0;34m\u001b[0m\u001b[0;34m\u001b[0m\u001b[0m\n\u001b[1;32m    439\u001b[0m         \u001b[0;32mif\u001b[0m \u001b[0mresponse\u001b[0m\u001b[0;34m:\u001b[0m\u001b[0;34m\u001b[0m\u001b[0;34m\u001b[0m\u001b[0m\n\u001b[0;32m--> 440\u001b[0;31m             \u001b[0mself\u001b[0m\u001b[0;34m.\u001b[0m\u001b[0merror_handler\u001b[0m\u001b[0;34m.\u001b[0m\u001b[0mcheck_response\u001b[0m\u001b[0;34m(\u001b[0m\u001b[0mresponse\u001b[0m\u001b[0;34m)\u001b[0m\u001b[0;34m\u001b[0m\u001b[0;34m\u001b[0m\u001b[0m\n\u001b[0m\u001b[1;32m    441\u001b[0m             \u001b[0mresponse\u001b[0m\u001b[0;34m[\u001b[0m\u001b[0;34m\"value\"\u001b[0m\u001b[0;34m]\u001b[0m \u001b[0;34m=\u001b[0m \u001b[0mself\u001b[0m\u001b[0;34m.\u001b[0m\u001b[0m_unwrap_value\u001b[0m\u001b[0;34m(\u001b[0m\u001b[0mresponse\u001b[0m\u001b[0;34m.\u001b[0m\u001b[0mget\u001b[0m\u001b[0;34m(\u001b[0m\u001b[0;34m\"value\"\u001b[0m\u001b[0;34m,\u001b[0m \u001b[0;32mNone\u001b[0m\u001b[0;34m)\u001b[0m\u001b[0;34m)\u001b[0m\u001b[0;34m\u001b[0m\u001b[0;34m\u001b[0m\u001b[0m\n\u001b[1;32m    442\u001b[0m             \u001b[0;32mreturn\u001b[0m \u001b[0mresponse\u001b[0m\u001b[0;34m\u001b[0m\u001b[0;34m\u001b[0m\u001b[0m\n",
      "\u001b[0;32m~/opt/anaconda3/lib/python3.9/site-packages/selenium/webdriver/remote/errorhandler.py\u001b[0m in \u001b[0;36mcheck_response\u001b[0;34m(self, response)\u001b[0m\n\u001b[1;32m    243\u001b[0m                 \u001b[0malert_text\u001b[0m \u001b[0;34m=\u001b[0m \u001b[0mvalue\u001b[0m\u001b[0;34m[\u001b[0m\u001b[0;34m\"alert\"\u001b[0m\u001b[0;34m]\u001b[0m\u001b[0;34m.\u001b[0m\u001b[0mget\u001b[0m\u001b[0;34m(\u001b[0m\u001b[0;34m\"text\"\u001b[0m\u001b[0;34m)\u001b[0m\u001b[0;34m\u001b[0m\u001b[0;34m\u001b[0m\u001b[0m\n\u001b[1;32m    244\u001b[0m             \u001b[0;32mraise\u001b[0m \u001b[0mexception_class\u001b[0m\u001b[0;34m(\u001b[0m\u001b[0mmessage\u001b[0m\u001b[0;34m,\u001b[0m \u001b[0mscreen\u001b[0m\u001b[0;34m,\u001b[0m \u001b[0mstacktrace\u001b[0m\u001b[0;34m,\u001b[0m \u001b[0malert_text\u001b[0m\u001b[0;34m)\u001b[0m  \u001b[0;31m# type: ignore[call-arg]  # mypy is not smart enough here\u001b[0m\u001b[0;34m\u001b[0m\u001b[0;34m\u001b[0m\u001b[0m\n\u001b[0;32m--> 245\u001b[0;31m         \u001b[0;32mraise\u001b[0m \u001b[0mexception_class\u001b[0m\u001b[0;34m(\u001b[0m\u001b[0mmessage\u001b[0m\u001b[0;34m,\u001b[0m \u001b[0mscreen\u001b[0m\u001b[0;34m,\u001b[0m \u001b[0mstacktrace\u001b[0m\u001b[0;34m)\u001b[0m\u001b[0;34m\u001b[0m\u001b[0;34m\u001b[0m\u001b[0m\n\u001b[0m",
      "\u001b[0;31mStaleElementReferenceException\u001b[0m: Message: stale element reference: element is not attached to the page document\n  (Session info: chrome=111.0.5563.64)\nStacktrace:\n0   chromedriver                        0x000000010c948428 chromedriver + 4899880\n1   chromedriver                        0x000000010c8c5a23 chromedriver + 4364835\n2   chromedriver                        0x000000010c50fbf6 chromedriver + 474102\n3   chromedriver                        0x000000010c513c94 chromedriver + 490644\n4   chromedriver                        0x000000010c513876 chromedriver + 489590\n5   chromedriver                        0x000000010c5148f9 chromedriver + 493817\n6   chromedriver                        0x000000010c5958b4 chromedriver + 1022132\n7   chromedriver                        0x000000010c579562 chromedriver + 906594\n8   chromedriver                        0x000000010c594b5b chromedriver + 1018715\n9   chromedriver                        0x000000010c579333 chromedriver + 906035\n10  chromedriver                        0x000000010c54355f chromedriver + 685407\n11  chromedriver                        0x000000010c544a7e chromedriver + 690814\n12  chromedriver                        0x000000010c91579e chromedriver + 4691870\n13  chromedriver                        0x000000010c91a961 chromedriver + 4712801\n14  chromedriver                        0x000000010c9212ff chromedriver + 4739839\n15  chromedriver                        0x000000010c91b85a chromedriver + 4716634\n16  chromedriver                        0x000000010c8edfce chromedriver + 4530126\n17  chromedriver                        0x000000010c93b5c8 chromedriver + 4847048\n18  chromedriver                        0x000000010c93b747 chromedriver + 4847431\n19  chromedriver                        0x000000010c95087f chromedriver + 4933759\n20  libsystem_pthread.dylib             0x00007ff81ad37259 _pthread_start + 125\n21  libsystem_pthread.dylib             0x00007ff81ad32c7b thread_start + 15\n"
     ]
    }
   ],
   "source": [
    "for i in contfoto:\n",
    "    print(i.get_attribute('innerHTML'))\n"
   ]
  },
  {
   "cell_type": "code",
   "execution_count": 54,
   "metadata": {},
   "outputs": [
    {
     "data": {
      "text/plain": [
       "'Photo by National Geographic on March 14, 2023. May be an image of 2 people, people standing and indoor.'"
      ]
     },
     "execution_count": 54,
     "metadata": {},
     "output_type": "execute_result"
    }
   ],
   "source": [
    "alt"
   ]
  },
  {
   "cell_type": "code",
   "execution_count": 82,
   "metadata": {},
   "outputs": [],
   "source": [
    "def damefoto(df, cont1):\n",
    "\n",
    "    try:\n",
    "        boton1 = driver.find_elements(By.XPATH, '/html/body/div[2]/div/div/div[2]/div/div/div[1]/div/div[3]/div/div/div/div/div[2]/div/article/div/div[1]/div/div[1]/div[2]/div/button')\n",
    "        boton1[0].click()\n",
    "        time.sleep(random.randint(1, 3))\n",
    "        boton1[1].click()\n",
    "    except:\n",
    "        pass\n",
    "\n",
    "    cont2 = 1\n",
    "    contfoto = driver.find_elements(By.CSS_SELECTOR, '._aagu._aato')\n",
    "\n",
    "    for i in contfoto:\n",
    "        cont1 += 1\n",
    "\n",
    "        df = df.append({},ignore_index = True)\n",
    "\n",
    "        hora = driver.find_elements(By.CLASS_NAME, '_aaqe')\n",
    "        df.loc[cont1, \"ph_fecha\"] = hora[0].get_attribute('datetime')\n",
    "\n",
    "        likes2 = driver.find_element(By.CSS_SELECTOR, '._aacl._aaco._aacw._aacx._aada._aade')\n",
    "        df.loc[cont1, \"ph_likes\"] = likes2.text\n",
    "\n",
    "        descripcion1 = driver.find_element(By.CSS_SELECTOR, '._aacl._aaco._aacu._aacx._aad7._aade')\n",
    "        df.loc[cont1, 'ph_descripcion'] = descripcion1.text\n",
    "\n",
    "        imagen = i.find_elements(By.CSS_SELECTOR, 'img')\n",
    "        df.loc[cont1, 'ph_atributos'] = imagen[0].get_attribute('alt')\n",
    "        df.loc[cont1, 'ph_url'] = imagen[0].get_attribute('src')\n",
    "        src = imagen[0].get_attribute('src')\n",
    "        imagen_respuesta = requests.get(src)\n",
    "        carpeta = \"../images\"\n",
    "        nombre = f\"imagenpreuba{cont1}-{cont2}.jpg\"\n",
    "        df.loc[cont1, 'ph_nombre'] = nombre\n",
    "        archivo = os.path.join(carpeta, nombre)\n",
    "\n",
    "        with open(archivo, \"wb\") as archivo:\n",
    "            archivo.write(imagen_respuesta.content)\n",
    "        cont2 += 1\n",
    "    return(df)\n"
   ]
  },
  {
   "cell_type": "code",
   "execution_count": null,
   "metadata": {},
   "outputs": [
    {
     "name": "stderr",
     "output_type": "stream",
     "text": [
      "/var/folders/bw/khd8ptmn3_9fkbzj7_596v7c0000gn/T/ipykernel_95446/3434752197.py:4: FutureWarning: The frame.append method is deprecated and will be removed from pandas in a future version. Use pandas.concat instead.\n",
      "  df = df.append({},ignore_index = True)\n",
      "/var/folders/bw/khd8ptmn3_9fkbzj7_596v7c0000gn/T/ipykernel_95446/3434752197.py:4: FutureWarning: The default dtype for empty Series will be 'object' instead of 'float64' in a future version. Specify a dtype explicitly to silence this warning.\n",
      "  df = df.append({},ignore_index = True)\n",
      "/var/folders/bw/khd8ptmn3_9fkbzj7_596v7c0000gn/T/ipykernel_95446/3434752197.py:4: FutureWarning: The frame.append method is deprecated and will be removed from pandas in a future version. Use pandas.concat instead.\n",
      "  df = df.append({},ignore_index = True)\n",
      "/var/folders/bw/khd8ptmn3_9fkbzj7_596v7c0000gn/T/ipykernel_95446/3434752197.py:4: FutureWarning: The default dtype for empty Series will be 'object' instead of 'float64' in a future version. Specify a dtype explicitly to silence this warning.\n",
      "  df = df.append({},ignore_index = True)\n",
      "/var/folders/bw/khd8ptmn3_9fkbzj7_596v7c0000gn/T/ipykernel_95446/3434752197.py:4: FutureWarning: The frame.append method is deprecated and will be removed from pandas in a future version. Use pandas.concat instead.\n",
      "  df = df.append({},ignore_index = True)\n",
      "/var/folders/bw/khd8ptmn3_9fkbzj7_596v7c0000gn/T/ipykernel_95446/3434752197.py:4: FutureWarning: The default dtype for empty Series will be 'object' instead of 'float64' in a future version. Specify a dtype explicitly to silence this warning.\n",
      "  df = df.append({},ignore_index = True)\n",
      "/var/folders/bw/khd8ptmn3_9fkbzj7_596v7c0000gn/T/ipykernel_95446/3434752197.py:4: FutureWarning: The frame.append method is deprecated and will be removed from pandas in a future version. Use pandas.concat instead.\n",
      "  df = df.append({},ignore_index = True)\n",
      "/var/folders/bw/khd8ptmn3_9fkbzj7_596v7c0000gn/T/ipykernel_95446/3434752197.py:4: FutureWarning: The default dtype for empty Series will be 'object' instead of 'float64' in a future version. Specify a dtype explicitly to silence this warning.\n",
      "  df = df.append({},ignore_index = True)\n",
      "/var/folders/bw/khd8ptmn3_9fkbzj7_596v7c0000gn/T/ipykernel_95446/3434752197.py:4: FutureWarning: The frame.append method is deprecated and will be removed from pandas in a future version. Use pandas.concat instead.\n",
      "  df = df.append({},ignore_index = True)\n",
      "/var/folders/bw/khd8ptmn3_9fkbzj7_596v7c0000gn/T/ipykernel_95446/3434752197.py:4: FutureWarning: The default dtype for empty Series will be 'object' instead of 'float64' in a future version. Specify a dtype explicitly to silence this warning.\n",
      "  df = df.append({},ignore_index = True)\n",
      "/var/folders/bw/khd8ptmn3_9fkbzj7_596v7c0000gn/T/ipykernel_95446/3434752197.py:4: FutureWarning: The frame.append method is deprecated and will be removed from pandas in a future version. Use pandas.concat instead.\n",
      "  df = df.append({},ignore_index = True)\n",
      "/var/folders/bw/khd8ptmn3_9fkbzj7_596v7c0000gn/T/ipykernel_95446/3434752197.py:4: FutureWarning: The default dtype for empty Series will be 'object' instead of 'float64' in a future version. Specify a dtype explicitly to silence this warning.\n",
      "  df = df.append({},ignore_index = True)\n",
      "/var/folders/bw/khd8ptmn3_9fkbzj7_596v7c0000gn/T/ipykernel_95446/3434752197.py:4: FutureWarning: The frame.append method is deprecated and will be removed from pandas in a future version. Use pandas.concat instead.\n",
      "  df = df.append({},ignore_index = True)\n",
      "/var/folders/bw/khd8ptmn3_9fkbzj7_596v7c0000gn/T/ipykernel_95446/3434752197.py:4: FutureWarning: The default dtype for empty Series will be 'object' instead of 'float64' in a future version. Specify a dtype explicitly to silence this warning.\n",
      "  df = df.append({},ignore_index = True)\n",
      "/var/folders/bw/khd8ptmn3_9fkbzj7_596v7c0000gn/T/ipykernel_95446/3434752197.py:4: FutureWarning: The frame.append method is deprecated and will be removed from pandas in a future version. Use pandas.concat instead.\n",
      "  df = df.append({},ignore_index = True)\n",
      "/var/folders/bw/khd8ptmn3_9fkbzj7_596v7c0000gn/T/ipykernel_95446/3434752197.py:4: FutureWarning: The default dtype for empty Series will be 'object' instead of 'float64' in a future version. Specify a dtype explicitly to silence this warning.\n",
      "  df = df.append({},ignore_index = True)\n",
      "/var/folders/bw/khd8ptmn3_9fkbzj7_596v7c0000gn/T/ipykernel_95446/3434752197.py:4: FutureWarning: The frame.append method is deprecated and will be removed from pandas in a future version. Use pandas.concat instead.\n",
      "  df = df.append({},ignore_index = True)\n",
      "/var/folders/bw/khd8ptmn3_9fkbzj7_596v7c0000gn/T/ipykernel_95446/3434752197.py:4: FutureWarning: The default dtype for empty Series will be 'object' instead of 'float64' in a future version. Specify a dtype explicitly to silence this warning.\n",
      "  df = df.append({},ignore_index = True)\n"
     ]
    },
    {
     "ename": "KeyboardInterrupt",
     "evalue": "",
     "output_type": "error",
     "traceback": [
      "\u001b[0;31m---------------------------------------------------------------------------\u001b[0m",
      "\u001b[0;31mKeyboardInterrupt\u001b[0m                         Traceback (most recent call last)",
      "\u001b[0;32m/var/folders/bw/khd8ptmn3_9fkbzj7_596v7c0000gn/T/ipykernel_95446/3434752197.py\u001b[0m in \u001b[0;36m<module>\u001b[0;34m\u001b[0m\n\u001b[1;32m      6\u001b[0m         \u001b[0mdf\u001b[0m \u001b[0;34m=\u001b[0m \u001b[0mdamefoto\u001b[0m\u001b[0;34m(\u001b[0m\u001b[0mdf\u001b[0m\u001b[0;34m,\u001b[0m \u001b[0mcont1\u001b[0m\u001b[0;34m)\u001b[0m\u001b[0;34m\u001b[0m\u001b[0;34m\u001b[0m\u001b[0m\n\u001b[1;32m      7\u001b[0m     \u001b[0mboton2\u001b[0m \u001b[0;34m=\u001b[0m \u001b[0mdriver\u001b[0m\u001b[0;34m.\u001b[0m\u001b[0mfind_elements\u001b[0m\u001b[0;34m(\u001b[0m\u001b[0mBy\u001b[0m\u001b[0;34m.\u001b[0m\u001b[0mXPATH\u001b[0m\u001b[0;34m,\u001b[0m \u001b[0;34m'/html/body/div[2]/div/div/div[2]/div/div/div[1]/div/div[3]/div/div/div/div/div[1]/div/div/div/button'\u001b[0m\u001b[0;34m)\u001b[0m\u001b[0;34m\u001b[0m\u001b[0;34m\u001b[0m\u001b[0m\n\u001b[0;32m----> 8\u001b[0;31m     \u001b[0mtime\u001b[0m\u001b[0;34m.\u001b[0m\u001b[0msleep\u001b[0m\u001b[0;34m(\u001b[0m\u001b[0mrandom\u001b[0m\u001b[0;34m.\u001b[0m\u001b[0mrandint\u001b[0m\u001b[0;34m(\u001b[0m\u001b[0;36m1\u001b[0m\u001b[0;34m,\u001b[0m\u001b[0;36m3\u001b[0m\u001b[0;34m)\u001b[0m\u001b[0;34m)\u001b[0m\u001b[0;34m\u001b[0m\u001b[0;34m\u001b[0m\u001b[0m\n\u001b[0m\u001b[1;32m      9\u001b[0m     \u001b[0mboton2\u001b[0m\u001b[0;34m[\u001b[0m\u001b[0;36m1\u001b[0m\u001b[0;34m]\u001b[0m\u001b[0;34m.\u001b[0m\u001b[0mclick\u001b[0m\u001b[0;34m(\u001b[0m\u001b[0;34m)\u001b[0m\u001b[0;34m\u001b[0m\u001b[0;34m\u001b[0m\u001b[0m\n\u001b[1;32m     10\u001b[0m     \u001b[0;32mif\u001b[0m \u001b[0mcont1\u001b[0m \u001b[0;34m%\u001b[0m \u001b[0;36m50\u001b[0m \u001b[0;34m==\u001b[0m \u001b[0;36m0\u001b[0m\u001b[0;34m:\u001b[0m\u001b[0;34m\u001b[0m\u001b[0;34m\u001b[0m\u001b[0m\n",
      "\u001b[0;31mKeyboardInterrupt\u001b[0m: "
     ]
    }
   ],
   "source": [
    "#x'ph_descripcion', x'ph_likes', x'ph_fecha', x'ph_url', x'ph_nombre', x'ph_atributos'\n",
    "cont1 = 1\n",
    "while cont1 < 51:\n",
    "    df = df.append({},ignore_index = True)\n",
    "    if sivideo == 0:\n",
    "        df = damefoto(df, cont1)\n",
    "    boton2 = driver.find_elements(By.XPATH, '/html/body/div[2]/div/div/div[2]/div/div/div[1]/div/div[3]/div/div/div/div/div[1]/div/div/div/button')\n",
    "    time.sleep(random.randint(1,3))\n",
    "    boton2[1].click()\n",
    "    if cont1 % 50 == 0:\n",
    "        df.to_csv(\"../data/datos.csv\", index = False)\n",
    "    cont1 = cont1 + 1\n"
   ]
  },
  {
   "cell_type": "code",
   "execution_count": 68,
   "metadata": {},
   "outputs": [
    {
     "data": {
      "text/plain": [
       "'contfoto = driver.find_elements(By.CSS_SELECTOR, \\'._aagu._aato\\')\\nsrc = contfoto[0].get_attribute(\\'src\\')\\ncontenido = contfoto[0].get_attribute(\\'innerHTML\\')\\nimagen_respuesta = requests.get(src)\\ncarpeta = \"../images\"\\nnombre = f\"imagenpreuba{cont1}-{cont2}.jpg\"\\ndf.loc[cont1, \\'ph_nombre\\'] = nombre\\narchivo = os.path.join(carpeta, nombre)\\n\\nwith open(archivo, \"wb\") as archivo:\\n    archivo.write(imagen_respuesta.content)'"
      ]
     },
     "execution_count": 68,
     "metadata": {},
     "output_type": "execute_result"
    }
   ],
   "source": [
    "\"\"\"contfoto = driver.find_elements(By.CSS_SELECTOR, '._aagu._aato')\n",
    "src = contfoto[0].get_attribute('src')\n",
    "contenido = contfoto[0].get_attribute('innerHTML')\n",
    "imagen_respuesta = requests.get(src)\n",
    "carpeta = \"../images\"\n",
    "nombre = f\"imagenpreuba{cont1}-{cont2}.jpg\"\n",
    "df.loc[cont1, 'ph_nombre'] = nombre\n",
    "archivo = os.path.join(carpeta, nombre)\n",
    "\n",
    "with open(archivo, \"wb\") as archivo:\n",
    "    archivo.write(imagen_respuesta.content)\"\"\""
   ]
  },
  {
   "cell_type": "code",
   "execution_count": 69,
   "metadata": {},
   "outputs": [
    {
     "data": {
      "text/plain": [
       "''"
      ]
     },
     "execution_count": 69,
     "metadata": {},
     "output_type": "execute_result"
    }
   ],
   "source": [
    "contfoto = driver.find_elements(By.CSS_SELECTOR, '._aagu._aato')\n",
    "contfoto[1].text"
   ]
  },
  {
   "cell_type": "code",
   "execution_count": null,
   "metadata": {},
   "outputs": [],
   "source": [
    "\"\"\"contfoto = driver.find_elements(By.CSS_SELECTOR, '._aagu._aato')\n",
    "contenido = contfoto[0].get_attribute('innerHTML')\n",
    "imagen = contfoto[0].find_elements(By.CSS_SELECTOR, 'img')\n",
    "alt = imagen[0].get_attribute('alt')\n",
    "alt\n",
    "src = imagen[0].get_attribute('src')\n",
    "src\n",
    "carpeta = '../images'\n",
    "imagen_respuesta = requests.get(src)\n",
    "archivo_nombre = 'ejemplo3.jpg'\n",
    "archivo_ruta = os.path.join(carpeta, archivo_nombre)\n",
    "with open(archivo_ruta, 'wb') as archivo:\n",
    "    archivo.write(imagen_respuesta.content)\"\"\""
   ]
  },
  {
   "cell_type": "code",
   "execution_count": null,
   "metadata": {},
   "outputs": [],
   "source": []
  },
  {
   "cell_type": "code",
   "execution_count": 86,
   "metadata": {},
   "outputs": [
    {
     "name": "stderr",
     "output_type": "stream",
     "text": [
      "/var/folders/bw/khd8ptmn3_9fkbzj7_596v7c0000gn/T/ipykernel_99448/3159413597.py:17: FutureWarning: The frame.append method is deprecated and will be removed from pandas in a future version. Use pandas.concat instead.\n",
      "  df = df.append({},ignore_index = True)\n",
      "/var/folders/bw/khd8ptmn3_9fkbzj7_596v7c0000gn/T/ipykernel_99448/3159413597.py:17: FutureWarning: The default dtype for empty Series will be 'object' instead of 'float64' in a future version. Specify a dtype explicitly to silence this warning.\n",
      "  df = df.append({},ignore_index = True)\n",
      "/var/folders/bw/khd8ptmn3_9fkbzj7_596v7c0000gn/T/ipykernel_99448/3159413597.py:17: FutureWarning: The frame.append method is deprecated and will be removed from pandas in a future version. Use pandas.concat instead.\n",
      "  df = df.append({},ignore_index = True)\n",
      "/var/folders/bw/khd8ptmn3_9fkbzj7_596v7c0000gn/T/ipykernel_99448/3159413597.py:17: FutureWarning: The default dtype for empty Series will be 'object' instead of 'float64' in a future version. Specify a dtype explicitly to silence this warning.\n",
      "  df = df.append({},ignore_index = True)\n",
      "/var/folders/bw/khd8ptmn3_9fkbzj7_596v7c0000gn/T/ipykernel_99448/3159413597.py:17: FutureWarning: The frame.append method is deprecated and will be removed from pandas in a future version. Use pandas.concat instead.\n",
      "  df = df.append({},ignore_index = True)\n",
      "/var/folders/bw/khd8ptmn3_9fkbzj7_596v7c0000gn/T/ipykernel_99448/3159413597.py:17: FutureWarning: The default dtype for empty Series will be 'object' instead of 'float64' in a future version. Specify a dtype explicitly to silence this warning.\n",
      "  df = df.append({},ignore_index = True)\n"
     ]
    },
    {
     "data": {
      "text/html": [
       "<div>\n",
       "<style scoped>\n",
       "    .dataframe tbody tr th:only-of-type {\n",
       "        vertical-align: middle;\n",
       "    }\n",
       "\n",
       "    .dataframe tbody tr th {\n",
       "        vertical-align: top;\n",
       "    }\n",
       "\n",
       "    .dataframe thead th {\n",
       "        text-align: right;\n",
       "    }\n",
       "</style>\n",
       "<table border=\"1\" class=\"dataframe\">\n",
       "  <thead>\n",
       "    <tr style=\"text-align: right;\">\n",
       "      <th></th>\n",
       "      <th>pg_direccion</th>\n",
       "      <th>pg_nombre</th>\n",
       "      <th>pg_descripcion</th>\n",
       "      <th>pg_numero_de_publicaciones</th>\n",
       "      <th>pg_seguidores</th>\n",
       "      <th>pg_seguidos</th>\n",
       "      <th>ph_descripcion</th>\n",
       "      <th>ph_likes</th>\n",
       "      <th>ph_fecha</th>\n",
       "      <th>ph_url</th>\n",
       "      <th>ph_nombre</th>\n",
       "      <th>ph_atributos</th>\n",
       "    </tr>\n",
       "  </thead>\n",
       "  <tbody>\n",
       "    <tr>\n",
       "      <th>0</th>\n",
       "      <td>NaN</td>\n",
       "      <td>NaN</td>\n",
       "      <td>NaN</td>\n",
       "      <td>NaN</td>\n",
       "      <td>NaN</td>\n",
       "      <td>NaN</td>\n",
       "      <td>NaN</td>\n",
       "      <td>NaN</td>\n",
       "      <td>NaN</td>\n",
       "      <td>NaN</td>\n",
       "      <td>NaN</td>\n",
       "      <td>NaN</td>\n",
       "    </tr>\n",
       "    <tr>\n",
       "      <th>1</th>\n",
       "      <td>NaN</td>\n",
       "      <td>NaN</td>\n",
       "      <td>NaN</td>\n",
       "      <td>NaN</td>\n",
       "      <td>NaN</td>\n",
       "      <td>NaN</td>\n",
       "      <td>Photos by @richardbarnes | Since 2019 I've bee...</td>\n",
       "      <td>39.287 Me gusta</td>\n",
       "      <td>2023-03-14T13:00:15.000Z</td>\n",
       "      <td>https://scontent-mad2-1.cdninstagram.com/v/t51...</td>\n",
       "      <td>imagenpreuba2-1.jpg</td>\n",
       "      <td>Photo by National Geographic on March 14, 2023...</td>\n",
       "    </tr>\n",
       "    <tr>\n",
       "      <th>2</th>\n",
       "      <td>NaN</td>\n",
       "      <td>NaN</td>\n",
       "      <td>NaN</td>\n",
       "      <td>NaN</td>\n",
       "      <td>NaN</td>\n",
       "      <td>NaN</td>\n",
       "      <td>Photos by @richardbarnes | Since 2019 I've bee...</td>\n",
       "      <td>39.287 Me gusta</td>\n",
       "      <td>2023-03-14T13:00:15.000Z</td>\n",
       "      <td>https://scontent-mad2-1.cdninstagram.com/v/t51...</td>\n",
       "      <td>imagenpreuba2-1.jpg</td>\n",
       "      <td>Photo by National Geographic on March 14, 2023...</td>\n",
       "    </tr>\n",
       "    <tr>\n",
       "      <th>3</th>\n",
       "      <td>NaN</td>\n",
       "      <td>NaN</td>\n",
       "      <td>NaN</td>\n",
       "      <td>NaN</td>\n",
       "      <td>NaN</td>\n",
       "      <td>NaN</td>\n",
       "      <td>Photos by @richardbarnes | Since 2019 I've bee...</td>\n",
       "      <td>39.287 Me gusta</td>\n",
       "      <td>2023-03-14T13:00:15.000Z</td>\n",
       "      <td>https://scontent-mad2-1.cdninstagram.com/v/t51...</td>\n",
       "      <td>imagenpreuba3-2.jpg</td>\n",
       "      <td>Photo by National Geographic on March 14, 2023...</td>\n",
       "    </tr>\n",
       "    <tr>\n",
       "      <th>4</th>\n",
       "      <td>NaN</td>\n",
       "      <td>NaN</td>\n",
       "      <td>NaN</td>\n",
       "      <td>NaN</td>\n",
       "      <td>NaN</td>\n",
       "      <td>NaN</td>\n",
       "      <td>Photos by @richardbarnes | Since 2019 I've bee...</td>\n",
       "      <td>39.287 Me gusta</td>\n",
       "      <td>2023-03-14T13:00:15.000Z</td>\n",
       "      <td>https://scontent-mad2-1.cdninstagram.com/v/t51...</td>\n",
       "      <td>imagenpreuba4-3.jpg</td>\n",
       "      <td>Photo by National Geographic on March 14, 2023.</td>\n",
       "    </tr>\n",
       "    <tr>\n",
       "      <th>5</th>\n",
       "      <td>NaN</td>\n",
       "      <td>NaN</td>\n",
       "      <td>NaN</td>\n",
       "      <td>NaN</td>\n",
       "      <td>NaN</td>\n",
       "      <td>NaN</td>\n",
       "      <td>Photos by @richardbarnes | Since 2019 I've bee...</td>\n",
       "      <td>39.287 Me gusta</td>\n",
       "      <td>2023-03-14T13:00:15.000Z</td>\n",
       "      <td>https://scontent-mad2-1.cdninstagram.com/v/t51...</td>\n",
       "      <td>imagenpreuba5-4.jpg</td>\n",
       "      <td>Photo by National Geographic on March 14, 2023...</td>\n",
       "    </tr>\n",
       "    <tr>\n",
       "      <th>6</th>\n",
       "      <td>NaN</td>\n",
       "      <td>NaN</td>\n",
       "      <td>NaN</td>\n",
       "      <td>NaN</td>\n",
       "      <td>NaN</td>\n",
       "      <td>NaN</td>\n",
       "      <td>NaN</td>\n",
       "      <td>NaN</td>\n",
       "      <td>NaN</td>\n",
       "      <td>NaN</td>\n",
       "      <td>NaN</td>\n",
       "      <td>NaN</td>\n",
       "    </tr>\n",
       "    <tr>\n",
       "      <th>7</th>\n",
       "      <td>NaN</td>\n",
       "      <td>NaN</td>\n",
       "      <td>NaN</td>\n",
       "      <td>NaN</td>\n",
       "      <td>NaN</td>\n",
       "      <td>NaN</td>\n",
       "      <td>NaN</td>\n",
       "      <td>NaN</td>\n",
       "      <td>NaN</td>\n",
       "      <td>NaN</td>\n",
       "      <td>NaN</td>\n",
       "      <td>NaN</td>\n",
       "    </tr>\n",
       "    <tr>\n",
       "      <th>8</th>\n",
       "      <td>NaN</td>\n",
       "      <td>NaN</td>\n",
       "      <td>NaN</td>\n",
       "      <td>NaN</td>\n",
       "      <td>NaN</td>\n",
       "      <td>NaN</td>\n",
       "      <td>NaN</td>\n",
       "      <td>NaN</td>\n",
       "      <td>NaN</td>\n",
       "      <td>NaN</td>\n",
       "      <td>NaN</td>\n",
       "      <td>NaN</td>\n",
       "    </tr>\n",
       "    <tr>\n",
       "      <th>9</th>\n",
       "      <td>NaN</td>\n",
       "      <td>NaN</td>\n",
       "      <td>NaN</td>\n",
       "      <td>NaN</td>\n",
       "      <td>NaN</td>\n",
       "      <td>NaN</td>\n",
       "      <td>NaN</td>\n",
       "      <td>NaN</td>\n",
       "      <td>NaN</td>\n",
       "      <td>NaN</td>\n",
       "      <td>NaN</td>\n",
       "      <td>NaN</td>\n",
       "    </tr>\n",
       "    <tr>\n",
       "      <th>10</th>\n",
       "      <td>NaN</td>\n",
       "      <td>NaN</td>\n",
       "      <td>NaN</td>\n",
       "      <td>NaN</td>\n",
       "      <td>NaN</td>\n",
       "      <td>NaN</td>\n",
       "      <td>NaN</td>\n",
       "      <td>NaN</td>\n",
       "      <td>NaN</td>\n",
       "      <td>NaN</td>\n",
       "      <td>NaN</td>\n",
       "      <td>NaN</td>\n",
       "    </tr>\n",
       "    <tr>\n",
       "      <th>11</th>\n",
       "      <td>NaN</td>\n",
       "      <td>NaN</td>\n",
       "      <td>NaN</td>\n",
       "      <td>NaN</td>\n",
       "      <td>NaN</td>\n",
       "      <td>NaN</td>\n",
       "      <td>NaN</td>\n",
       "      <td>NaN</td>\n",
       "      <td>NaN</td>\n",
       "      <td>NaN</td>\n",
       "      <td>NaN</td>\n",
       "      <td>NaN</td>\n",
       "    </tr>\n",
       "  </tbody>\n",
       "</table>\n",
       "</div>"
      ],
      "text/plain": [
       "   pg_direccion pg_nombre pg_descripcion pg_numero_de_publicaciones  \\\n",
       "0           NaN       NaN            NaN                        NaN   \n",
       "1           NaN       NaN            NaN                        NaN   \n",
       "2           NaN       NaN            NaN                        NaN   \n",
       "3           NaN       NaN            NaN                        NaN   \n",
       "4           NaN       NaN            NaN                        NaN   \n",
       "5           NaN       NaN            NaN                        NaN   \n",
       "6           NaN       NaN            NaN                        NaN   \n",
       "7           NaN       NaN            NaN                        NaN   \n",
       "8           NaN       NaN            NaN                        NaN   \n",
       "9           NaN       NaN            NaN                        NaN   \n",
       "10          NaN       NaN            NaN                        NaN   \n",
       "11          NaN       NaN            NaN                        NaN   \n",
       "\n",
       "   pg_seguidores pg_seguidos  \\\n",
       "0            NaN         NaN   \n",
       "1            NaN         NaN   \n",
       "2            NaN         NaN   \n",
       "3            NaN         NaN   \n",
       "4            NaN         NaN   \n",
       "5            NaN         NaN   \n",
       "6            NaN         NaN   \n",
       "7            NaN         NaN   \n",
       "8            NaN         NaN   \n",
       "9            NaN         NaN   \n",
       "10           NaN         NaN   \n",
       "11           NaN         NaN   \n",
       "\n",
       "                                       ph_descripcion         ph_likes  \\\n",
       "0                                                 NaN              NaN   \n",
       "1   Photos by @richardbarnes | Since 2019 I've bee...  39.287 Me gusta   \n",
       "2   Photos by @richardbarnes | Since 2019 I've bee...  39.287 Me gusta   \n",
       "3   Photos by @richardbarnes | Since 2019 I've bee...  39.287 Me gusta   \n",
       "4   Photos by @richardbarnes | Since 2019 I've bee...  39.287 Me gusta   \n",
       "5   Photos by @richardbarnes | Since 2019 I've bee...  39.287 Me gusta   \n",
       "6                                                 NaN              NaN   \n",
       "7                                                 NaN              NaN   \n",
       "8                                                 NaN              NaN   \n",
       "9                                                 NaN              NaN   \n",
       "10                                                NaN              NaN   \n",
       "11                                                NaN              NaN   \n",
       "\n",
       "                    ph_fecha  \\\n",
       "0                        NaN   \n",
       "1   2023-03-14T13:00:15.000Z   \n",
       "2   2023-03-14T13:00:15.000Z   \n",
       "3   2023-03-14T13:00:15.000Z   \n",
       "4   2023-03-14T13:00:15.000Z   \n",
       "5   2023-03-14T13:00:15.000Z   \n",
       "6                        NaN   \n",
       "7                        NaN   \n",
       "8                        NaN   \n",
       "9                        NaN   \n",
       "10                       NaN   \n",
       "11                       NaN   \n",
       "\n",
       "                                               ph_url            ph_nombre  \\\n",
       "0                                                 NaN                  NaN   \n",
       "1   https://scontent-mad2-1.cdninstagram.com/v/t51...  imagenpreuba2-1.jpg   \n",
       "2   https://scontent-mad2-1.cdninstagram.com/v/t51...  imagenpreuba2-1.jpg   \n",
       "3   https://scontent-mad2-1.cdninstagram.com/v/t51...  imagenpreuba3-2.jpg   \n",
       "4   https://scontent-mad2-1.cdninstagram.com/v/t51...  imagenpreuba4-3.jpg   \n",
       "5   https://scontent-mad2-1.cdninstagram.com/v/t51...  imagenpreuba5-4.jpg   \n",
       "6                                                 NaN                  NaN   \n",
       "7                                                 NaN                  NaN   \n",
       "8                                                 NaN                  NaN   \n",
       "9                                                 NaN                  NaN   \n",
       "10                                                NaN                  NaN   \n",
       "11                                                NaN                  NaN   \n",
       "\n",
       "                                         ph_atributos  \n",
       "0                                                 NaN  \n",
       "1   Photo by National Geographic on March 14, 2023...  \n",
       "2   Photo by National Geographic on March 14, 2023...  \n",
       "3   Photo by National Geographic on March 14, 2023...  \n",
       "4     Photo by National Geographic on March 14, 2023.  \n",
       "5   Photo by National Geographic on March 14, 2023...  \n",
       "6                                                 NaN  \n",
       "7                                                 NaN  \n",
       "8                                                 NaN  \n",
       "9                                                 NaN  \n",
       "10                                                NaN  \n",
       "11                                                NaN  "
      ]
     },
     "execution_count": 86,
     "metadata": {},
     "output_type": "execute_result"
    }
   ],
   "source": [
    "cont1 = 1\n",
    "df = damefoto(df, cont1)\n",
    "df"
   ]
  },
  {
   "cell_type": "code",
   "execution_count": null,
   "metadata": {},
   "outputs": [],
   "source": []
  }
 ],
 "metadata": {
  "kernelspec": {
   "display_name": "base",
   "language": "python",
   "name": "python3"
  },
  "language_info": {
   "codemirror_mode": {
    "name": "ipython",
    "version": 3
   },
   "file_extension": ".py",
   "mimetype": "text/x-python",
   "name": "python",
   "nbconvert_exporter": "python",
   "pygments_lexer": "ipython3",
   "version": "3.9.13"
  },
  "orig_nbformat": 4,
  "vscode": {
   "interpreter": {
    "hash": "a6d33b64cc62f2a6469a8726ef6950befbe59fb73bfa1f17dddc91d0226f47aa"
   }
  }
 },
 "nbformat": 4,
 "nbformat_minor": 2
}
