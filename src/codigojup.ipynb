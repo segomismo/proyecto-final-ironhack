{
 "cells": [
  {
   "cell_type": "code",
   "execution_count": 1,
   "metadata": {},
   "outputs": [
    {
     "name": "stderr",
     "output_type": "stream",
     "text": [
      "/var/folders/bw/khd8ptmn3_9fkbzj7_596v7c0000gn/T/ipykernel_6269/1871130950.py:14: DeprecationWarning: executable_path has been deprecated, please pass in a Service object\n",
      "  driver = webdriver.Chrome(PATH)\n"
     ]
    }
   ],
   "source": [
    "from selenium import webdriver\n",
    "from webdriver_manager.chrome import ChromeDriverManager\n",
    "from selenium.webdriver.common.by import By\n",
    "import time\n",
    "import warnings\n",
    "import random\n",
    "\n",
    "\n",
    "with open(\"../con.txt\", \"r\") as user:\n",
    "    usuario = user.readline().strip()\n",
    "    passw = user.readline().strip()\n",
    "\n",
    "PATH = ChromeDriverManager().install() \n",
    "driver = webdriver.Chrome(PATH)\n",
    "driver.get(\"https://www.instagram.com/natgeo/\")\n",
    "time.sleep(random.randint(4,6))\n",
    "elemento = driver.find_element(By.XPATH, '/html/body/div[2]/div/div/div[2]/div/div/div[1]/div/div[2]/div/div/div/div/div[2]/div/button[1]')\n",
    "elemento.click()\n",
    "\n",
    "time.sleep(random.randint(3,5))\n",
    "elemento = driver.find_element(By.XPATH, '/html/body/div[2]/div/div/div[1]/div/div/div/div[1]/section/nav/div[2]/div/div/div[3]/div/div[2]/div[1]/a/button')\n",
    "elemento.click()\n",
    "\n",
    "time.sleep(random.randint(3,5))\n",
    "elemento = driver.find_element(By.XPATH, '/html/body/div[2]/div/div/div[1]/div/div/div/div[1]/section/main/div/div/div[1]/div[2]/form/div/div[1]/div/label/input')\n",
    "elemento.send_keys(usuario)\n",
    "\n",
    "time.sleep(random.randint(1,3))\n",
    "elemento = driver.find_element(By.XPATH, '/html/body/div[2]/div/div/div[1]/div/div/div/div[1]/section/main/div/div/div[1]/div[2]/form/div/div[2]/div/label/input')\n",
    "elemento.send_keys(passw)\n",
    "\n",
    "time.sleep(random.randint(2,3))\n",
    "elemento = driver.find_element(By.XPATH, '/html/body/div[2]/div/div/div[1]/div/div/div/div[1]/section/main/div/div/div[1]/div[2]/form/div/div[3]/button')\n",
    "elemento.click()\n",
    "\n",
    "time.sleep(random.randint(6,8))\n",
    "elemento = driver.find_element(By.XPATH, '/html/body/div[2]/div/div/div[1]/div/div/div/div[1]/div[1]/div[2]/section/main/div/div/div/div/button')\n",
    "elemento.click()\n"
   ]
  },
  {
   "cell_type": "code",
   "execution_count": 2,
   "metadata": {},
   "outputs": [],
   "source": [
    "#Vamos a crear un dataframe con los datos que hemos obtenido\n",
    "import pandas as pd\n",
    "import numpy as np\n",
    "import matplotlib.pyplot as plt\n",
    "import seaborn as sns\n",
    "\n",
    "df = pd.DataFrame(columns=['pg_direccion', 'pg_nombre', 'pg_descripcion', 'pg_numero_de_publicaciones', 'pg_seguidores', 'pg_seguidos'])"
   ]
  },
  {
   "cell_type": "code",
   "execution_count": null,
   "metadata": {},
   "outputs": [],
   "source": []
  },
  {
   "cell_type": "code",
   "execution_count": 3,
   "metadata": {},
   "outputs": [
    {
     "name": "stderr",
     "output_type": "stream",
     "text": [
      "/var/folders/bw/khd8ptmn3_9fkbzj7_596v7c0000gn/T/ipykernel_6269/3099912068.py:2: FutureWarning: The frame.append method is deprecated and will be removed from pandas in a future version. Use pandas.concat instead.\n",
      "  df = df.append({},ignore_index = True)\n",
      "/var/folders/bw/khd8ptmn3_9fkbzj7_596v7c0000gn/T/ipykernel_6269/3099912068.py:2: FutureWarning: The default dtype for empty Series will be 'object' instead of 'float64' in a future version. Specify a dtype explicitly to silence this warning.\n",
      "  df = df.append({},ignore_index = True)\n"
     ]
    },
    {
     "data": {
      "text/plain": [
       "('27.831', '265 M', '140')"
      ]
     },
     "execution_count": 3,
     "metadata": {},
     "output_type": "execute_result"
    }
   ],
   "source": [
    "datos = driver.find_elements(By.CLASS_NAME, '_ac2a')\n",
    "df = df.append({},ignore_index = True)\n",
    "df.pg_numero_de_publicaciones = datos[0].text\n",
    "df.pg_seguidores = datos[1].text\n",
    "df.pg_seguidos = datos[2].text\n",
    "datos[0].text, datos[1].text, datos[2].text\n",
    "\n",
    "#el [0] es el numero de publiaciones\n",
    "#el [1] es el numero de seguidores\n",
    "#el [2] es el numero de seguidos\n",
    "\n"
   ]
  },
  {
   "cell_type": "code",
   "execution_count": 4,
   "metadata": {},
   "outputs": [
    {
     "data": {
      "text/html": [
       "<div>\n",
       "<style scoped>\n",
       "    .dataframe tbody tr th:only-of-type {\n",
       "        vertical-align: middle;\n",
       "    }\n",
       "\n",
       "    .dataframe tbody tr th {\n",
       "        vertical-align: top;\n",
       "    }\n",
       "\n",
       "    .dataframe thead th {\n",
       "        text-align: right;\n",
       "    }\n",
       "</style>\n",
       "<table border=\"1\" class=\"dataframe\">\n",
       "  <thead>\n",
       "    <tr style=\"text-align: right;\">\n",
       "      <th></th>\n",
       "      <th>pg_direccion</th>\n",
       "      <th>pg_nombre</th>\n",
       "      <th>pg_descripcion</th>\n",
       "      <th>pg_numero_de_publicaciones</th>\n",
       "      <th>pg_seguidores</th>\n",
       "      <th>pg_seguidos</th>\n",
       "    </tr>\n",
       "  </thead>\n",
       "  <tbody>\n",
       "    <tr>\n",
       "      <th>0</th>\n",
       "      <td>NaN</td>\n",
       "      <td>NaN</td>\n",
       "      <td>NaN</td>\n",
       "      <td>27.831</td>\n",
       "      <td>265 M</td>\n",
       "      <td>140</td>\n",
       "    </tr>\n",
       "  </tbody>\n",
       "</table>\n",
       "</div>"
      ],
      "text/plain": [
       "  pg_direccion pg_nombre pg_descripcion pg_numero_de_publicaciones  \\\n",
       "0          NaN       NaN            NaN                     27.831   \n",
       "\n",
       "  pg_seguidores pg_seguidos  \n",
       "0         265 M         140  "
      ]
     },
     "execution_count": 4,
     "metadata": {},
     "output_type": "execute_result"
    }
   ],
   "source": [
    "df"
   ]
  },
  {
   "cell_type": "code",
   "execution_count": 15,
   "metadata": {},
   "outputs": [],
   "source": [
    "datos2 = driver.find_elements(By.TAG_NAME, 'h2')\n",
    "datos2[0].text\n",
    "df.pg_direccion = datos2[0].text\n",
    "#el numero [0] contiene el nombre de la cuenta\n"
   ]
  },
  {
   "cell_type": "code",
   "execution_count": 16,
   "metadata": {},
   "outputs": [
    {
     "data": {
      "text/html": [
       "<div>\n",
       "<style scoped>\n",
       "    .dataframe tbody tr th:only-of-type {\n",
       "        vertical-align: middle;\n",
       "    }\n",
       "\n",
       "    .dataframe tbody tr th {\n",
       "        vertical-align: top;\n",
       "    }\n",
       "\n",
       "    .dataframe thead th {\n",
       "        text-align: right;\n",
       "    }\n",
       "</style>\n",
       "<table border=\"1\" class=\"dataframe\">\n",
       "  <thead>\n",
       "    <tr style=\"text-align: right;\">\n",
       "      <th></th>\n",
       "      <th>pg_direccion</th>\n",
       "      <th>pg_nombre</th>\n",
       "      <th>pg_descripcion</th>\n",
       "      <th>pg_numero_de_publicaciones</th>\n",
       "      <th>pg_seguidores</th>\n",
       "      <th>pg_seguidos</th>\n",
       "    </tr>\n",
       "  </thead>\n",
       "  <tbody>\n",
       "    <tr>\n",
       "      <th>0</th>\n",
       "      <td>natgeo</td>\n",
       "      <td>National Geographic</td>\n",
       "      <td>Experience the world through the eyes of Natio...</td>\n",
       "      <td>27.831</td>\n",
       "      <td>265 M</td>\n",
       "      <td>140</td>\n",
       "    </tr>\n",
       "  </tbody>\n",
       "</table>\n",
       "</div>"
      ],
      "text/plain": [
       "  pg_direccion            pg_nombre  \\\n",
       "0       natgeo  National Geographic   \n",
       "\n",
       "                                      pg_descripcion  \\\n",
       "0  Experience the world through the eyes of Natio...   \n",
       "\n",
       "  pg_numero_de_publicaciones pg_seguidores pg_seguidos  \n",
       "0                     27.831         265 M         140  "
      ]
     },
     "execution_count": 16,
     "metadata": {},
     "output_type": "execute_result"
    }
   ],
   "source": [
    "df"
   ]
  },
  {
   "cell_type": "code",
   "execution_count": 13,
   "metadata": {},
   "outputs": [],
   "source": [
    "datos3 = driver.find_elements(By.CLASS_NAME, '_aa_c')\n",
    "datos3[0].text\n",
    "datos4 = []\n",
    "#aqui esta guardado el nombre de la descripcion de la cuenta y la descripcion\n",
    "#voy a separar datos3 en dos elementos, uno con el nombre de la cuenta y otro con la descripcion\n",
    "datos4.append(datos3[0].text.split('\\n',1)[0])\n",
    "datos4.append(datos3[0].text.split('\\n',1)[1])\n",
    "datos4[0], datos4[1]\n",
    "\n",
    "df.pg_nombre = datos4[0]\n",
    "df.pg_descripcion = datos4[1]\n",
    "#en datos 4[0] esta el nombre de la cuenta y en datos4[1] esta la descripcion\n",
    "\n"
   ]
  },
  {
   "cell_type": "code",
   "execution_count": 14,
   "metadata": {},
   "outputs": [
    {
     "data": {
      "text/html": [
       "<div>\n",
       "<style scoped>\n",
       "    .dataframe tbody tr th:only-of-type {\n",
       "        vertical-align: middle;\n",
       "    }\n",
       "\n",
       "    .dataframe tbody tr th {\n",
       "        vertical-align: top;\n",
       "    }\n",
       "\n",
       "    .dataframe thead th {\n",
       "        text-align: right;\n",
       "    }\n",
       "</style>\n",
       "<table border=\"1\" class=\"dataframe\">\n",
       "  <thead>\n",
       "    <tr style=\"text-align: right;\">\n",
       "      <th></th>\n",
       "      <th>pg_direccion</th>\n",
       "      <th>pg_nombre</th>\n",
       "      <th>pg_descripcion</th>\n",
       "      <th>pg_numero_de_publicaciones</th>\n",
       "      <th>pg_seguidores</th>\n",
       "      <th>pg_seguidos</th>\n",
       "    </tr>\n",
       "  </thead>\n",
       "  <tbody>\n",
       "    <tr>\n",
       "      <th>0</th>\n",
       "      <td>NaN</td>\n",
       "      <td>National Geographic</td>\n",
       "      <td>Experience the world through the eyes of Natio...</td>\n",
       "      <td>27.831</td>\n",
       "      <td>265 M</td>\n",
       "      <td>140</td>\n",
       "    </tr>\n",
       "  </tbody>\n",
       "</table>\n",
       "</div>"
      ],
      "text/plain": [
       "  pg_direccion            pg_nombre  \\\n",
       "0          NaN  National Geographic   \n",
       "\n",
       "                                      pg_descripcion  \\\n",
       "0  Experience the world through the eyes of Natio...   \n",
       "\n",
       "  pg_numero_de_publicaciones pg_seguidores pg_seguidos  \n",
       "0                     27.831         265 M         140  "
      ]
     },
     "execution_count": 14,
     "metadata": {},
     "output_type": "execute_result"
    }
   ],
   "source": [
    "#time.sleep(random.randint(6,8))\n",
    "#elemento = driver.find_element(By.XPATH, '/html/body/div[2]/div/div/div[1]/div/div/div/div[1]/div[1]/div[2]/section/main/div/div[4]/article/div[1]/div/div[1]/div[1]/a/div/div[2]')\n",
    "#elemento.click()\n",
    "df"
   ]
  },
  {
   "cell_type": "code",
   "execution_count": 9,
   "metadata": {},
   "outputs": [
    {
     "data": {
      "text/plain": [
       "'natgeo\\nVerificado\\nSeguir\\nEnviar mensaje\\n27.831 publicaciones\\n265 M seguidores\\n140 seguidos\\nNational Geographic\\nExperience the world through the eyes of National Geographic photographers.\\non.natgeo.com/instagram\\nStonehenge\\nKing Tut\\nBlack Joy\\nOut of Eden\\nBallesta\\nArctic Life\\nMars AR\\nDino AR\\nReimagined Dino\\nHoneybees\\nEnd of Trash\\nChild Sacrifice\\nPangolins\\nWildlifeTourism\\nPUBLICACIONES\\nREELS\\nETIQUETADAS\\nMeta\\nInformación\\nBlog\\nEmpleo\\nAyuda\\nAPI\\nPrivacidad\\nCondiciones\\nCuentas destacadas\\nUbicaciones\\nInstagram Lite\\nSubir contactos y personas no usuarias\\nCuentas sugeridas\\nMeta Verified\\nEspañol (España)\\nAfrikaans\\nČeština\\nDansk\\nDeutsch\\nΕλληνικά\\nEnglish\\nEnglish (UK)\\nEspañol (España)\\nEspañol\\nSuomi\\nFrançais\\nBahasa Indonesia\\nItaliano\\n日本語\\n한국어\\nBahasa Melayu\\nNorsk\\nNederlands\\nPolski\\nPortuguês (Brasil)\\nPortuguês (Portugal)\\nРусский\\nSvenska\\nภาษาไทย\\nFilipino\\nTürkçe\\n中文(简体)\\n中文(台灣)\\nবাংলা\\nગુજરાતી\\nहिन्दी\\nHrvatski\\nMagyar\\nಕನ್ನಡ\\nമലയാളം\\nमराठी\\nनेपाली\\nਪੰਜਾਬੀ\\nසිංහල\\nSlovenčina\\nதமிழ்\\nతెలుగు\\nTiếng Việt\\n中文(香港)\\nБългарски\\nFrançais (Canada)\\nRomână\\nСрпски\\nУкраїнська\\n© 2023 Instagram from Meta'"
      ]
     },
     "execution_count": 9,
     "metadata": {},
     "output_type": "execute_result"
    }
   ],
   "source": [
    "datos5 = driver.find_elements(By.CLASS_NAME, 'x1iyjqo2')\n",
    "datos5[1].text"
   ]
  },
  {
   "cell_type": "code",
   "execution_count": 21,
   "metadata": {},
   "outputs": [],
   "source": [
    "boton = driver.find_elements(By.XPATH, '/html/body/div[2]/div/div/div[1]/div/div/div/div[1]/div[1]/div[2]/section/main/div/div[3]/article/div[1]/div/div[1]/div[1]/a/div[1]/div[2]')\n",
    "boton[0].click()\n",
    "#Este codigo es para hacer click sobre una publicacion en concreto, no creo que sirva para el propósito que busco\n",
    "#De momento este es el codigo que mejor me sirve para el click en la primera publicacion"
   ]
  },
  {
   "cell_type": "code",
   "execution_count": 17,
   "metadata": {},
   "outputs": [],
   "source": [
    "boton2 = driver.find_elements(By.XPATH, '/html/body/div[2]/div/div/div[1]/div/div/div/div[1]/div[1]/div[2]/section/main/div/div[3]/article/div[1]/div')\n",
    "boton2[0].click()\n",
    "#Este codigo es para hacer click sobre una publicacion en concreto, no creo que sirva para el propósito que busco"
   ]
  },
  {
   "cell_type": "code",
   "execution_count": 19,
   "metadata": {},
   "outputs": [],
   "source": [
    "boton3 = driver.find_elements(By.XPATH, '/html/body/div[2]/div/div/div[1]/div/div/div/div[1]/div[1]/div[2]/section/main/div/div')\n",
    "boton3[2].click()\n",
    "#este puede servir mejor"
   ]
  },
  {
   "cell_type": "code",
   "execution_count": 20,
   "metadata": {},
   "outputs": [
    {
     "data": {
      "text/html": [
       "<div>\n",
       "<style scoped>\n",
       "    .dataframe tbody tr th:only-of-type {\n",
       "        vertical-align: middle;\n",
       "    }\n",
       "\n",
       "    .dataframe tbody tr th {\n",
       "        vertical-align: top;\n",
       "    }\n",
       "\n",
       "    .dataframe thead th {\n",
       "        text-align: right;\n",
       "    }\n",
       "</style>\n",
       "<table border=\"1\" class=\"dataframe\">\n",
       "  <thead>\n",
       "    <tr style=\"text-align: right;\">\n",
       "      <th></th>\n",
       "      <th>pg_direccion</th>\n",
       "      <th>pg_nombre</th>\n",
       "      <th>pg_descripcion</th>\n",
       "      <th>pg_numero_de_publicaciones</th>\n",
       "      <th>pg_seguidores</th>\n",
       "      <th>pg_seguidos</th>\n",
       "    </tr>\n",
       "  </thead>\n",
       "  <tbody>\n",
       "    <tr>\n",
       "      <th>0</th>\n",
       "      <td>natgeo</td>\n",
       "      <td>National Geographic</td>\n",
       "      <td>Experience the world through the eyes of Natio...</td>\n",
       "      <td>27.831</td>\n",
       "      <td>265 M</td>\n",
       "      <td>140</td>\n",
       "    </tr>\n",
       "  </tbody>\n",
       "</table>\n",
       "</div>"
      ],
      "text/plain": [
       "  pg_direccion            pg_nombre  \\\n",
       "0       natgeo  National Geographic   \n",
       "\n",
       "                                      pg_descripcion  \\\n",
       "0  Experience the world through the eyes of Natio...   \n",
       "\n",
       "  pg_numero_de_publicaciones pg_seguidores pg_seguidos  \n",
       "0                     27.831         265 M         140  "
      ]
     },
     "execution_count": 20,
     "metadata": {},
     "output_type": "execute_result"
    }
   ],
   "source": [
    "df"
   ]
  },
  {
   "cell_type": "code",
   "execution_count": 39,
   "metadata": {},
   "outputs": [
    {
     "data": {
      "text/plain": [
       "\"natgeo\\nVerificado\\nPhotos by @andrea_frazzetta | Located in northern Ethiopia's Afar Triangle, the Danakil Depression is where three tectonic plates meet. This vast plain is the homeland of the Afar nomads, who live off extracting minerals, namely salt, in one of the most inhospitable places on Earth. Follow @andrea_frazzetta for more images and stories. #Africa #Ethiopia #Danakil\\n1 h\\nVer traducción\""
      ]
     },
     "execution_count": 39,
     "metadata": {},
     "output_type": "execute_result"
    }
   ],
   "source": [
    "descripcion = driver.find_elements(By.CLASS_NAME, '_a9zm')\n",
    "descripcion[0].text"
   ]
  },
  {
   "cell_type": "code",
   "execution_count": null,
   "metadata": {},
   "outputs": [],
   "source": []
  }
 ],
 "metadata": {
  "kernelspec": {
   "display_name": "base",
   "language": "python",
   "name": "python3"
  },
  "language_info": {
   "codemirror_mode": {
    "name": "ipython",
    "version": 3
   },
   "file_extension": ".py",
   "mimetype": "text/x-python",
   "name": "python",
   "nbconvert_exporter": "python",
   "pygments_lexer": "ipython3",
   "version": "3.9.13"
  },
  "orig_nbformat": 4,
  "vscode": {
   "interpreter": {
    "hash": "a6d33b64cc62f2a6469a8726ef6950befbe59fb73bfa1f17dddc91d0226f47aa"
   }
  }
 },
 "nbformat": 4,
 "nbformat_minor": 2
}
