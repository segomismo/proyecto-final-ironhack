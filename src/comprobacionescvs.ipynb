{
 "cells": [
  {
   "cell_type": "code",
   "execution_count": 30,
   "metadata": {},
   "outputs": [],
   "source": [
    "import pandas as pd\n",
    "import numpy as np\n",
    "import matplotlib.pyplot as plt\n",
    "\n",
    "df1 = pd.read_csv('../data/datos1_clean.csv')\n",
    "df1cv = pd.read_csv('../data/datos1_cleanRGBCV.csv')"
   ]
  },
  {
   "cell_type": "code",
   "execution_count": 31,
   "metadata": {},
   "outputs": [
    {
     "name": "stdout",
     "output_type": "stream",
     "text": [
      "0    819\n",
      "1    153\n",
      "Name: ph_persona, dtype: int64\n",
      "0    597\n",
      "1    375\n",
      "Name: ph_persona, dtype: int64\n"
     ]
    }
   ],
   "source": [
    "#compruebo cuantos valores unicos hay en ph_persona\n",
    "print(df1['ph_persona'].value_counts())\n",
    "print(df1cv['ph_persona'].value_counts())"
   ]
  },
  {
   "cell_type": "code",
   "execution_count": null,
   "metadata": {},
   "outputs": [],
   "source": []
  }
 ],
 "metadata": {
  "kernelspec": {
   "display_name": "base",
   "language": "python",
   "name": "python3"
  },
  "language_info": {
   "codemirror_mode": {
    "name": "ipython",
    "version": 3
   },
   "file_extension": ".py",
   "mimetype": "text/x-python",
   "name": "python",
   "nbconvert_exporter": "python",
   "pygments_lexer": "ipython3",
   "version": "3.9.13"
  },
  "orig_nbformat": 4
 },
 "nbformat": 4,
 "nbformat_minor": 2
}
