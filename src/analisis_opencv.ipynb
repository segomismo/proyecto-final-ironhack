{
 "cells": [
  {
   "cell_type": "code",
   "execution_count": 1,
   "metadata": {},
   "outputs": [],
   "source": [
    "import cv2\n",
    "import numpy as np\n",
    "import pandas as pd\n",
    "from PIL import Image\n"
   ]
  },
  {
   "cell_type": "code",
   "execution_count": 2,
   "metadata": {},
   "outputs": [
    {
     "ename": "",
     "evalue": "",
     "output_type": "error",
     "traceback": [
      "\u001b[1;31mCanceled future for execute_request message before replies were done"
     ]
    },
    {
     "ename": "",
     "evalue": "",
     "output_type": "error",
     "traceback": [
      "\u001b[1;31mThe Kernel crashed while executing code in the the current cell or a previous cell. Please review the code in the cell(s) to identify a possible cause of the failure. Click <a href='https://aka.ms/vscodeJupyterKernelCrash'>here</a> for more info. View Jupyter <a href='command:jupyter.viewOutput'>log</a> for further details."
     ]
    }
   ],
   "source": [
    "import torch"
   ]
  },
  {
   "cell_type": "code",
   "execution_count": 2,
   "metadata": {},
   "outputs": [
    {
     "name": "stdout",
     "output_type": "stream",
     "text": [
      "No se detectaron personas en la imagen\n"
     ]
    }
   ],
   "source": [
    "import cv2\n",
    "\n",
    "def detect_person(image_path):\n",
    "    # Cargar el modelo preentrenado de MobileNet-SSD\n",
    "    prototxt = \"../modelos_preentrenados/deploy.prototxt\"\n",
    "    model = \"../modelos_preentrenados/mobilenet_iter_73000.caffemodel\"\n",
    "    net = cv2.dnn.readNetFromCaffe(prototxt, model)\n",
    "\n",
    "    # Cargar la imagen y obtener sus dimensiones\n",
    "    image = cv2.imread(image_path)\n",
    "    (h, w) = image.shape[:2]\n",
    "\n",
    "    # Preprocesar la imagen\n",
    "    blob = cv2.dnn.blobFromImage(cv2.resize(image, (300, 300)), 0.007843, (300, 300), 127.5)\n",
    "\n",
    "    # Pasar la imagen preprocesada a través de la red\n",
    "    net.setInput(blob)\n",
    "    detections = net.forward()\n",
    "\n",
    "    person_detected = False\n",
    "\n",
    "    # Analizar las detecciones\n",
    "    for i in range(detections.shape[2]):\n",
    "        # Obtener la confianza (probabilidad) asociada a la detección\n",
    "        confidence = detections[0, 0, i, 2]\n",
    "\n",
    "        # Filtrar detecciones con confianza mayor a un umbral (por ejemplo, 0.5)\n",
    "        if confidence > 0.75:\n",
    "            # Obtener el índice de la clase de la detección\n",
    "            idx = int(detections[0, 0, i, 1])\n",
    "\n",
    "            # Si la clase es \"persona\" (clase 15 en COCO dataset)\n",
    "            if idx == 15:\n",
    "                person_detected = True\n",
    "                break\n",
    "\n",
    "    return person_detected\n",
    "\n",
    "# Ejemplo de uso\n",
    "image_path = \"../images/imagenpreubaK655-1.jpg\"\n",
    "if detect_person(image_path):\n",
    "    print(\"Persona detectada en la imagen\")\n",
    "else:\n",
    "    print(\"No se detectaron personas en la imagen\")"
   ]
  },
  {
   "cell_type": "code",
   "execution_count": 3,
   "metadata": {},
   "outputs": [],
   "source": [
    "cont = 1\n",
    "while cont <= 11:\n",
    "    df = pd.read_csv(f'../data/datos{cont}_cleanRGB.csv')\n",
    "    \n",
    "    for i in df.ph_nombre:\n",
    "        imagen = '../images/'+i\n",
    "        if detect_person(imagen):\n",
    "            df.loc[df.ph_nombre == i, 'ph_persona'] = 1\n",
    "\n",
    "    df.to_csv(f'../data/datos{cont}_cleanRGBCV.csv', index=False)\n",
    "    cont += 1"
   ]
  },
  {
   "cell_type": "code",
   "execution_count": null,
   "metadata": {},
   "outputs": [],
   "source": [
    "\n",
    "def detect_animals(image_path):\n",
    "    # Cargar el modelo preentrenado de YOLOv5s\n",
    "    model = torch.hub.load('ultralytics/yolov5', 'custom', path='yolov5s.pt')\n",
    "\n",
    "    # Cargar la imagen\n",
    "    img = Image.open(image_path)\n",
    "\n",
    "    # Realizar la detección de objetos\n",
    "    results = model(img)\n",
    "\n",
    "    # Clases de animales en el dataset COCO\n",
    "    animal_classes = [14, 15, 16, 17, 18, 19, 20, 21, 22, 23]\n",
    "\n",
    "    animal_detected = False\n",
    "\n",
    "    # Analizar las detecciones\n",
    "    for det in results.pred[0]:\n",
    "        class_id = int(det[5])\n",
    "        confidence = det[4]\n",
    "\n",
    "        # Filtrar detecciones con confianza mayor a un umbral (por ejemplo, 0.5)\n",
    "        if confidence > 0.75:\n",
    "            # Si la clase es un animal\n",
    "            if class_id in animal_classes:\n",
    "                animal_detected = True\n",
    "                break\n",
    "\n",
    "    return animal_detected\n",
    "\n"
   ]
  },
  {
   "cell_type": "code",
   "execution_count": null,
   "metadata": {},
   "outputs": [],
   "source": [
    "cont = 1\n",
    "while cont <= 11:\n",
    "    df = pd.read_csv(f'../data/datos{cont}_cleanRGB.csv')\n",
    "    \n",
    "    for i in df.ph_nombre:\n",
    "        imagen = '../images/'+i\n",
    "        if detect_person(imagen):\n",
    "            df.loc[df.ph_nombre == i, 'ph_animal'] = 1\n",
    "\n",
    "    df.to_csv(f'../data/datos{cont}_cleanRGBCV2.csv', index=False)\n",
    "    cont += 1"
   ]
  }
 ],
 "metadata": {
  "kernelspec": {
   "display_name": "base",
   "language": "python",
   "name": "python3"
  },
  "language_info": {
   "codemirror_mode": {
    "name": "ipython",
    "version": 3
   },
   "file_extension": ".py",
   "mimetype": "text/x-python",
   "name": "python",
   "nbconvert_exporter": "python",
   "pygments_lexer": "ipython3",
   "version": "3.9.13"
  },
  "orig_nbformat": 4
 },
 "nbformat": 4,
 "nbformat_minor": 2
}
